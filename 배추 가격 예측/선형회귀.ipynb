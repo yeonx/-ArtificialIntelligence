{
  "nbformat": 4,
  "nbformat_minor": 0,
  "metadata": {
    "colab": {
      "name": "[인공지능] 배추 가격 예측.ipynb",
      "provenance": [],
      "collapsed_sections": []
    },
    "kernelspec": {
      "name": "python3",
      "display_name": "Python 3"
    },
    "language_info": {
      "name": "python"
    }
  },
  "cells": [
    {
      "cell_type": "code",
      "metadata": {
        "colab": {
          "base_uri": "https://localhost:8080/"
        },
        "id": "jDhWY0OB5GMp",
        "outputId": "8926b98a-e8f4-46e8-e743-4a08c2c74827"
      },
      "source": [
        "!pip uninstall kaggle -y\n",
        "!pip uninstall --upgrade.pip\n",
        "!pip install kaggle==1.5.6\n",
        "!mkdir -p ~/.kaggle\n",
        "!cp /content/drive/MyDrive/kaggle.json ~/.kaggle\n",
        "!chmod 600 ~/.kaggle/kaggle.json"
      ],
      "execution_count": null,
      "outputs": [
        {
          "output_type": "stream",
          "name": "stdout",
          "text": [
            "Found existing installation: kaggle 1.5.12\n",
            "Uninstalling kaggle-1.5.12:\n",
            "  Successfully uninstalled kaggle-1.5.12\n",
            "\n",
            "Usage:   \n",
            "  pip3 uninstall [options] <package> ...\n",
            "  pip3 uninstall [options] -r <requirements file> ...\n",
            "\n",
            "no such option: --upgrade.pip\n",
            "Collecting kaggle==1.5.6\n",
            "  Downloading kaggle-1.5.6.tar.gz (58 kB)\n",
            "\u001b[K     |████████████████████████████████| 58 kB 5.9 MB/s \n",
            "\u001b[?25hRequirement already satisfied: urllib3<1.25,>=1.21.1 in /usr/local/lib/python3.7/dist-packages (from kaggle==1.5.6) (1.24.3)\n",
            "Requirement already satisfied: six>=1.10 in /usr/local/lib/python3.7/dist-packages (from kaggle==1.5.6) (1.15.0)\n",
            "Requirement already satisfied: certifi in /usr/local/lib/python3.7/dist-packages (from kaggle==1.5.6) (2021.5.30)\n",
            "Requirement already satisfied: python-dateutil in /usr/local/lib/python3.7/dist-packages (from kaggle==1.5.6) (2.8.2)\n",
            "Requirement already satisfied: requests in /usr/local/lib/python3.7/dist-packages (from kaggle==1.5.6) (2.23.0)\n",
            "Requirement already satisfied: tqdm in /usr/local/lib/python3.7/dist-packages (from kaggle==1.5.6) (4.62.2)\n",
            "Requirement already satisfied: python-slugify in /usr/local/lib/python3.7/dist-packages (from kaggle==1.5.6) (5.0.2)\n",
            "Requirement already satisfied: text-unidecode>=1.3 in /usr/local/lib/python3.7/dist-packages (from python-slugify->kaggle==1.5.6) (1.3)\n",
            "Requirement already satisfied: idna<3,>=2.5 in /usr/local/lib/python3.7/dist-packages (from requests->kaggle==1.5.6) (2.10)\n",
            "Requirement already satisfied: chardet<4,>=3.0.2 in /usr/local/lib/python3.7/dist-packages (from requests->kaggle==1.5.6) (3.0.4)\n",
            "Building wheels for collected packages: kaggle\n",
            "  Building wheel for kaggle (setup.py) ... \u001b[?25l\u001b[?25hdone\n",
            "  Created wheel for kaggle: filename=kaggle-1.5.6-py3-none-any.whl size=72857 sha256=a65beeb4767e6b0cccab25dbeb45514fe7f81a601857fee2ac497e0ced42430c\n",
            "  Stored in directory: /root/.cache/pip/wheels/aa/e7/e7/eb3c3d514c33294d77ddd5a856bdd58dc9c1fabbed59a02a2b\n",
            "Successfully built kaggle\n",
            "Installing collected packages: kaggle\n",
            "Successfully installed kaggle-1.5.6\n"
          ]
        }
      ]
    },
    {
      "cell_type": "code",
      "metadata": {
        "colab": {
          "base_uri": "https://localhost:8080/"
        },
        "id": "1gTy_KHj5dtM",
        "outputId": "20cf9188-503a-4645-8d09-c67e87fa9ae0"
      },
      "source": [
        "!kaggle competitions download -c 2021-ai-w3-p1"
      ],
      "execution_count": null,
      "outputs": [
        {
          "output_type": "stream",
          "name": "stdout",
          "text": [
            "Downloading 2021-ai-w3-p1.zip to /content\n",
            "\r  0% 0.00/26.3k [00:00<?, ?B/s]\n",
            "\r100% 26.3k/26.3k [00:00<00:00, 20.5MB/s]\n"
          ]
        }
      ]
    },
    {
      "cell_type": "code",
      "metadata": {
        "colab": {
          "base_uri": "https://localhost:8080/"
        },
        "id": "Lj9DabiwEcEd",
        "outputId": "5febc742-7b6e-48f8-8680-280c09358910"
      },
      "source": [
        "!ls"
      ],
      "execution_count": null,
      "outputs": [
        {
          "output_type": "stream",
          "name": "stdout",
          "text": [
            "2021-ai-w3-p1.zip  drive  sample_data\n"
          ]
        }
      ]
    },
    {
      "cell_type": "code",
      "metadata": {
        "colab": {
          "base_uri": "https://localhost:8080/"
        },
        "id": "Uq02wH25EmVp",
        "outputId": "cc520b3a-d2cc-4448-83be-d6430b20a2d1"
      },
      "source": [
        "!unzip 2021-ai-w3-p1.zip"
      ],
      "execution_count": null,
      "outputs": [
        {
          "output_type": "stream",
          "name": "stdout",
          "text": [
            "Archive:  2021-ai-w3-p1.zip\n",
            "  inflating: submit_sample.csv       \n",
            "  inflating: test.csv                \n",
            "  inflating: train.csv               \n"
          ]
        }
      ]
    },
    {
      "cell_type": "code",
      "metadata": {
        "id": "-Ect9j7IFETC",
        "colab": {
          "base_uri": "https://localhost:8080/"
        },
        "outputId": "7f50093c-803f-43a5-c7be-1d804610619d"
      },
      "source": [
        "#필요한 라이브러리 선언\n",
        "import numpy as np\n",
        "import pandas as pd\n",
        "import torch\n",
        "import torch.optim as optim\n",
        "\n",
        "#seed고정\n",
        "torch.manual_seed(1)"
      ],
      "execution_count": null,
      "outputs": [
        {
          "output_type": "execute_result",
          "data": {
            "text/plain": [
              "<torch._C.Generator at 0x7f0919086190>"
            ]
          },
          "metadata": {},
          "execution_count": 47
        }
      ]
    },
    {
      "cell_type": "code",
      "metadata": {
        "id": "jzYSpCICvkYg"
      },
      "source": [
        "train=pd.read_csv(\"train.csv\")\n",
        "test=pd.read_csv(\"test.csv\")\n",
        "submit=pd.read_csv(\"submit_sample.csv\")"
      ],
      "execution_count": null,
      "outputs": []
    },
    {
      "cell_type": "code",
      "metadata": {
        "id": "E-u4q0A5x-wZ"
      },
      "source": [
        "train[\"year\"]=train[\"year\"]//10000-2000\n",
        "test[\"year\"]=test[\"year\"]//10000-2000"
      ],
      "execution_count": null,
      "outputs": []
    },
    {
      "cell_type": "code",
      "metadata": {
        "id": "m5uNK8o9v5Zx"
      },
      "source": [
        "x=train.drop([\"avgPrice\"],axis=1)\n",
        "y=train[\"avgPrice\"]"
      ],
      "execution_count": null,
      "outputs": []
    },
    {
      "cell_type": "code",
      "metadata": {
        "id": "1u31Aqc-wY7N"
      },
      "source": [
        "x=np.array(x)\n",
        "x=torch.FloatTensor(x)\n",
        "y=torch.LongTensor(y)\n",
        "test=np.array(test)\n",
        "test=torch.FloatTensor(test)"
      ],
      "execution_count": null,
      "outputs": []
    },
    {
      "cell_type": "code",
      "metadata": {
        "colab": {
          "base_uri": "https://localhost:8080/"
        },
        "id": "sMwoctigGs9G",
        "outputId": "5df6e213-931a-409d-e8ce-3f40c6f550f1"
      },
      "source": [
        "# 모델 초기화\n",
        "W = torch.zeros((5, 1), requires_grad=True)\n",
        "b = torch.zeros(1, requires_grad=True)\n",
        "# optimizer 설정\n",
        "optimizer = optim.Adam([W, b], lr=0.5)\n",
        "\n",
        "nb_epochs = 1000\n",
        "for epoch in range(nb_epochs + 1):\n",
        "    \n",
        "    # H(x) 계산\n",
        "    # Matrix 연산!!\n",
        "    hypothesis = x.matmul(W) + b # or .mm or @\n",
        "\n",
        "    # cost 계산\n",
        "    cost = torch.mean((hypothesis - y) ** 2)\n",
        "\n",
        "    # cost로 H(x) 개선\n",
        "    optimizer.zero_grad()\n",
        "    cost.backward()\n",
        "    optimizer.step()\n",
        "\n",
        "    # 100번마다 로그 출력\n",
        "    if epoch%100==0:\n",
        "      print('Epoch {:4d}/{} hypothesis: {} Cost: {:.6f}'.format(\n",
        "          epoch, nb_epochs, hypothesis.squeeze().detach(), cost.item()\n",
        "      ))"
      ],
      "execution_count": null,
      "outputs": [
        {
          "output_type": "stream",
          "name": "stdout",
          "text": [
            "Epoch    0/1000 hypothesis: tensor([0., 0., 0.,  ..., 0., 0., 0.]) Cost: 12013343.000000\n",
            "Epoch  100/1000 hypothesis: tensor([-10.9614, 408.5748, 198.3862,  ..., 603.1245, 612.4240, 934.1920]) Cost: 4310192.500000\n",
            "Epoch  200/1000 hypothesis: tensor([ 444.6765,  821.4658,  597.1349,  ..., 1122.8925, 1203.9144,\n",
            "        1494.6544]) Cost: 3394182.750000\n",
            "Epoch  300/1000 hypothesis: tensor([ 965.3365, 1231.7627, 1018.7198,  ..., 1617.5792, 1776.2203,\n",
            "        1978.2260]) Cost: 2790558.250000\n",
            "Epoch  400/1000 hypothesis: tensor([1429.6974, 1596.5800, 1391.9766,  ..., 2051.6047, 2277.4404,\n",
            "        2395.4487]) Cost: 2402104.750000\n",
            "Epoch  500/1000 hypothesis: tensor([1810.8715, 1895.8475, 1697.5223,  ..., 2405.5713, 2685.4290,\n",
            "        2732.6646]) Cost: 2177013.500000\n",
            "Epoch  600/1000 hypothesis: tensor([2103.3730, 2125.6245, 1932.0153,  ..., 2677.0537, 2997.6438,\n",
            "        2990.1328]) Cost: 2059683.375000\n",
            "Epoch  700/1000 hypothesis: tensor([2314.4692, 2291.7107, 2101.6111,  ..., 2873.6443, 3222.9741,\n",
            "        3175.9932]) Cost: 2004580.750000\n",
            "Epoch  800/1000 hypothesis: tensor([2458.0674, 2405.0129, 2217.4846,  ..., 3008.3413, 3376.4941,\n",
            "        3302.8428]) Cost: 1981154.375000\n",
            "Epoch  900/1000 hypothesis: tensor([2550.1780, 2478.0669, 2292.4133,  ..., 3095.8855, 3475.2737,\n",
            "        3384.7461]) Cost: 1972007.625000\n",
            "Epoch 1000/1000 hypothesis: tensor([2605.8484, 2522.6543, 2338.3909,  ..., 3150.0901, 3535.3118,\n",
            "        3434.8535]) Cost: 1968567.875000\n"
          ]
        }
      ]
    },
    {
      "cell_type": "code",
      "metadata": {
        "id": "7MQgkILgMFIQ"
      },
      "source": [
        "pred = test.matmul(W) + b\n",
        "for i in range(len(pred)):\n",
        "  submit[\"Expected\"][i]=pred[i].item()\n",
        "submit.to_csv(\"submit.csv\",mode='w',index=False)"
      ],
      "execution_count": null,
      "outputs": []
    },
    {
      "cell_type": "code",
      "metadata": {
        "id": "1J7XnyLzyssT"
      },
      "source": [
        ""
      ],
      "execution_count": null,
      "outputs": []
    }
  ]
}