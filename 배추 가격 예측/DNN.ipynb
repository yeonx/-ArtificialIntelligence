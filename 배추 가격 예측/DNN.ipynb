{
  "nbformat": 4,
  "nbformat_minor": 0,
  "metadata": {
    "colab": {
      "name": "[AI]배추가격.ipynb",
      "provenance": [],
      "mount_file_id": "1OEez4m05GKvFyHvvoRyDfEkXyyDTFXQq",
      "authorship_tag": "ABX9TyONIn/8yBvX+XQWgIwKHrkF",
      "include_colab_link": true
    },
    "kernelspec": {
      "name": "python3",
      "display_name": "Python 3"
    },
    "language_info": {
      "name": "python"
    }
  },
  "cells": [
    {
      "cell_type": "markdown",
      "metadata": {
        "id": "view-in-github",
        "colab_type": "text"
      },
      "source": [
        "<a href=\"https://colab.research.google.com/github/yeonx/ArtificialIntelligence/blob/main/DNN.ipynb\" target=\"_parent\"><img src=\"https://colab.research.google.com/assets/colab-badge.svg\" alt=\"Open In Colab\"/></a>"
      ]
    },
    {
      "cell_type": "code",
      "metadata": {
        "colab": {
          "base_uri": "https://localhost:8080/"
        },
        "id": "__Ft1kMKfa-E",
        "outputId": "403a1daf-7a47-44a2-ce7d-1bdaf16ecb93"
      },
      "source": [
        "!pip uninstall kaggle -y\n",
        "!pip uninstall --upgrade.pip\n",
        "!pip install kaggle==1.5.6\n",
        "!mkdir -p ~/.kaggle\n",
        "!cp /content/drive/MyDrive/kaggle.json ~/.kaggle\n",
        "!chmod 600 ~/.kaggle/kaggle.json"
      ],
      "execution_count": 1,
      "outputs": [
        {
          "output_type": "stream",
          "name": "stdout",
          "text": [
            "Found existing installation: kaggle 1.5.12\n",
            "Uninstalling kaggle-1.5.12:\n",
            "  Successfully uninstalled kaggle-1.5.12\n",
            "\n",
            "Usage:   \n",
            "  pip3 uninstall [options] <package> ...\n",
            "  pip3 uninstall [options] -r <requirements file> ...\n",
            "\n",
            "no such option: --upgrade.pip\n",
            "Collecting kaggle==1.5.6\n",
            "  Downloading kaggle-1.5.6.tar.gz (58 kB)\n",
            "\u001b[K     |████████████████████████████████| 58 kB 3.7 MB/s \n",
            "\u001b[?25hRequirement already satisfied: urllib3<1.25,>=1.21.1 in /usr/local/lib/python3.7/dist-packages (from kaggle==1.5.6) (1.24.3)\n",
            "Requirement already satisfied: six>=1.10 in /usr/local/lib/python3.7/dist-packages (from kaggle==1.5.6) (1.15.0)\n",
            "Requirement already satisfied: certifi in /usr/local/lib/python3.7/dist-packages (from kaggle==1.5.6) (2021.5.30)\n",
            "Requirement already satisfied: python-dateutil in /usr/local/lib/python3.7/dist-packages (from kaggle==1.5.6) (2.8.2)\n",
            "Requirement already satisfied: requests in /usr/local/lib/python3.7/dist-packages (from kaggle==1.5.6) (2.23.0)\n",
            "Requirement already satisfied: tqdm in /usr/local/lib/python3.7/dist-packages (from kaggle==1.5.6) (4.62.3)\n",
            "Requirement already satisfied: python-slugify in /usr/local/lib/python3.7/dist-packages (from kaggle==1.5.6) (5.0.2)\n",
            "Requirement already satisfied: text-unidecode>=1.3 in /usr/local/lib/python3.7/dist-packages (from python-slugify->kaggle==1.5.6) (1.3)\n",
            "Requirement already satisfied: chardet<4,>=3.0.2 in /usr/local/lib/python3.7/dist-packages (from requests->kaggle==1.5.6) (3.0.4)\n",
            "Requirement already satisfied: idna<3,>=2.5 in /usr/local/lib/python3.7/dist-packages (from requests->kaggle==1.5.6) (2.10)\n",
            "Building wheels for collected packages: kaggle\n",
            "  Building wheel for kaggle (setup.py) ... \u001b[?25l\u001b[?25hdone\n",
            "  Created wheel for kaggle: filename=kaggle-1.5.6-py3-none-any.whl size=72857 sha256=8e37ecd39078521359ce9a005e8af32efd8ca4415f3fede9a00b141b8b6a8c7e\n",
            "  Stored in directory: /root/.cache/pip/wheels/aa/e7/e7/eb3c3d514c33294d77ddd5a856bdd58dc9c1fabbed59a02a2b\n",
            "Successfully built kaggle\n",
            "Installing collected packages: kaggle\n",
            "Successfully installed kaggle-1.5.6\n"
          ]
        }
      ]
    },
    {
      "cell_type": "code",
      "metadata": {
        "colab": {
          "base_uri": "https://localhost:8080/"
        },
        "id": "LqrQrzHzf9gY",
        "outputId": "561134d1-5da3-4e93-a14b-7f060fa73b53"
      },
      "source": [
        "!kaggle competitions download -c 2021-ai-w3-p1"
      ],
      "execution_count": 2,
      "outputs": [
        {
          "output_type": "stream",
          "name": "stdout",
          "text": [
            "Downloading 2021-ai-w3-p1.zip to /content\n",
            "\r  0% 0.00/26.3k [00:00<?, ?B/s]\n",
            "\r100% 26.3k/26.3k [00:00<00:00, 20.3MB/s]\n"
          ]
        }
      ]
    },
    {
      "cell_type": "code",
      "metadata": {
        "colab": {
          "base_uri": "https://localhost:8080/"
        },
        "id": "n4sRC-URf-o4",
        "outputId": "58e194dd-732a-4c77-c50a-af7094dd7f19"
      },
      "source": [
        "!ls"
      ],
      "execution_count": 3,
      "outputs": [
        {
          "output_type": "stream",
          "name": "stdout",
          "text": [
            "2021-ai-w3-p1.zip  drive  sample_data\n"
          ]
        }
      ]
    },
    {
      "cell_type": "code",
      "metadata": {
        "colab": {
          "base_uri": "https://localhost:8080/"
        },
        "id": "k7zcj4rIgACu",
        "outputId": "ad6b8d21-1708-4d0d-96d7-c1650f5f0bde"
      },
      "source": [
        "!unzip 2021-ai-w3-p1.zip"
      ],
      "execution_count": 4,
      "outputs": [
        {
          "output_type": "stream",
          "name": "stdout",
          "text": [
            "Archive:  2021-ai-w3-p1.zip\n",
            "  inflating: submit_sample.csv       \n",
            "  inflating: test.csv                \n",
            "  inflating: train.csv               \n"
          ]
        }
      ]
    },
    {
      "cell_type": "code",
      "metadata": {
        "id": "VfHoucRFgDnE"
      },
      "source": [
        "import pandas as pd\n",
        "import numpy as np\n",
        "\n",
        "train=pd.read_csv(\"train.csv\")\n",
        "test=pd.read_csv(\"test.csv\")\n",
        "submit=pd.read_csv(\"submit_sample.csv\")"
      ],
      "execution_count": 192,
      "outputs": []
    },
    {
      "cell_type": "code",
      "metadata": {
        "colab": {
          "base_uri": "https://localhost:8080/",
          "height": 420
        },
        "id": "DGPP88hCgD5w",
        "outputId": "107e480b-8220-48e6-cfbf-2fedeb7cde60"
      },
      "source": [
        "train"
      ],
      "execution_count": 193,
      "outputs": [
        {
          "output_type": "execute_result",
          "data": {
            "text/html": [
              "<div>\n",
              "<style scoped>\n",
              "    .dataframe tbody tr th:only-of-type {\n",
              "        vertical-align: middle;\n",
              "    }\n",
              "\n",
              "    .dataframe tbody tr th {\n",
              "        vertical-align: top;\n",
              "    }\n",
              "\n",
              "    .dataframe thead th {\n",
              "        text-align: right;\n",
              "    }\n",
              "</style>\n",
              "<table border=\"1\" class=\"dataframe\">\n",
              "  <thead>\n",
              "    <tr style=\"text-align: right;\">\n",
              "      <th></th>\n",
              "      <th>year</th>\n",
              "      <th>avgTemp</th>\n",
              "      <th>minTemp</th>\n",
              "      <th>maxTemp</th>\n",
              "      <th>rainFall</th>\n",
              "      <th>avgPrice</th>\n",
              "    </tr>\n",
              "  </thead>\n",
              "  <tbody>\n",
              "    <tr>\n",
              "      <th>0</th>\n",
              "      <td>20100101</td>\n",
              "      <td>-4.9</td>\n",
              "      <td>-11.0</td>\n",
              "      <td>0.9</td>\n",
              "      <td>0.0</td>\n",
              "      <td>2123</td>\n",
              "    </tr>\n",
              "    <tr>\n",
              "      <th>1</th>\n",
              "      <td>20100102</td>\n",
              "      <td>-3.1</td>\n",
              "      <td>-5.5</td>\n",
              "      <td>5.5</td>\n",
              "      <td>0.8</td>\n",
              "      <td>2123</td>\n",
              "    </tr>\n",
              "    <tr>\n",
              "      <th>2</th>\n",
              "      <td>20100103</td>\n",
              "      <td>-2.9</td>\n",
              "      <td>-6.9</td>\n",
              "      <td>1.4</td>\n",
              "      <td>0.0</td>\n",
              "      <td>2123</td>\n",
              "    </tr>\n",
              "    <tr>\n",
              "      <th>3</th>\n",
              "      <td>20100104</td>\n",
              "      <td>-1.8</td>\n",
              "      <td>-5.1</td>\n",
              "      <td>2.2</td>\n",
              "      <td>5.9</td>\n",
              "      <td>2020</td>\n",
              "    </tr>\n",
              "    <tr>\n",
              "      <th>4</th>\n",
              "      <td>20100105</td>\n",
              "      <td>-5.2</td>\n",
              "      <td>-8.7</td>\n",
              "      <td>-1.8</td>\n",
              "      <td>0.7</td>\n",
              "      <td>2060</td>\n",
              "    </tr>\n",
              "    <tr>\n",
              "      <th>...</th>\n",
              "      <td>...</td>\n",
              "      <td>...</td>\n",
              "      <td>...</td>\n",
              "      <td>...</td>\n",
              "      <td>...</td>\n",
              "      <td>...</td>\n",
              "    </tr>\n",
              "    <tr>\n",
              "      <th>2552</th>\n",
              "      <td>20161227</td>\n",
              "      <td>1.2</td>\n",
              "      <td>-3.2</td>\n",
              "      <td>4.5</td>\n",
              "      <td>2.1</td>\n",
              "      <td>4226</td>\n",
              "    </tr>\n",
              "    <tr>\n",
              "      <th>2553</th>\n",
              "      <td>20161228</td>\n",
              "      <td>-1.4</td>\n",
              "      <td>-6.5</td>\n",
              "      <td>4.8</td>\n",
              "      <td>0.0</td>\n",
              "      <td>4200</td>\n",
              "    </tr>\n",
              "    <tr>\n",
              "      <th>2554</th>\n",
              "      <td>20161229</td>\n",
              "      <td>-1.3</td>\n",
              "      <td>-4.5</td>\n",
              "      <td>2.1</td>\n",
              "      <td>0.2</td>\n",
              "      <td>4224</td>\n",
              "    </tr>\n",
              "    <tr>\n",
              "      <th>2555</th>\n",
              "      <td>20161230</td>\n",
              "      <td>-1.4</td>\n",
              "      <td>-7.0</td>\n",
              "      <td>4.6</td>\n",
              "      <td>0.0</td>\n",
              "      <td>4219</td>\n",
              "    </tr>\n",
              "    <tr>\n",
              "      <th>2556</th>\n",
              "      <td>20161231</td>\n",
              "      <td>1.7</td>\n",
              "      <td>-2.9</td>\n",
              "      <td>7.1</td>\n",
              "      <td>0.0</td>\n",
              "      <td>4219</td>\n",
              "    </tr>\n",
              "  </tbody>\n",
              "</table>\n",
              "<p>2557 rows × 6 columns</p>\n",
              "</div>"
            ],
            "text/plain": [
              "          year  avgTemp  minTemp  maxTemp  rainFall  avgPrice\n",
              "0     20100101     -4.9    -11.0      0.9       0.0      2123\n",
              "1     20100102     -3.1     -5.5      5.5       0.8      2123\n",
              "2     20100103     -2.9     -6.9      1.4       0.0      2123\n",
              "3     20100104     -1.8     -5.1      2.2       5.9      2020\n",
              "4     20100105     -5.2     -8.7     -1.8       0.7      2060\n",
              "...        ...      ...      ...      ...       ...       ...\n",
              "2552  20161227      1.2     -3.2      4.5       2.1      4226\n",
              "2553  20161228     -1.4     -6.5      4.8       0.0      4200\n",
              "2554  20161229     -1.3     -4.5      2.1       0.2      4224\n",
              "2555  20161230     -1.4     -7.0      4.6       0.0      4219\n",
              "2556  20161231      1.7     -2.9      7.1       0.0      4219\n",
              "\n",
              "[2557 rows x 6 columns]"
            ]
          },
          "metadata": {},
          "execution_count": 193
        }
      ]
    },
    {
      "cell_type": "code",
      "metadata": {
        "id": "SMdb3VuigW9P"
      },
      "source": [
        "x=train.drop([\"avgPrice\"],axis=1)\n",
        "y=train[\"avgPrice\"]"
      ],
      "execution_count": 194,
      "outputs": []
    },
    {
      "cell_type": "code",
      "metadata": {
        "id": "lHqPqy3XgkDw"
      },
      "source": [
        "x[\"year\"]=x[\"year\"]//10000 % 100\n",
        "test[\"year\"]=test[\"year\"]//10000 % 100"
      ],
      "execution_count": 195,
      "outputs": []
    },
    {
      "cell_type": "code",
      "metadata": {
        "colab": {
          "base_uri": "https://localhost:8080/"
        },
        "id": "lTRZ2FOrgpsB",
        "outputId": "3897d6d8-914b-421f-ea1a-50f11e925022"
      },
      "source": [
        "x[\"year\"]"
      ],
      "execution_count": 196,
      "outputs": [
        {
          "output_type": "execute_result",
          "data": {
            "text/plain": [
              "0       10\n",
              "1       10\n",
              "2       10\n",
              "3       10\n",
              "4       10\n",
              "        ..\n",
              "2552    16\n",
              "2553    16\n",
              "2554    16\n",
              "2555    16\n",
              "2556    16\n",
              "Name: year, Length: 2557, dtype: int64"
            ]
          },
          "metadata": {},
          "execution_count": 196
        }
      ]
    },
    {
      "cell_type": "code",
      "metadata": {
        "id": "G4gcHzbXg_mp"
      },
      "source": [
        "from sklearn.preprocessing import RobustScaler\n",
        "\n",
        "transformer = RobustScaler().fit(x)\n",
        "\n",
        "x_std=transformer.transform(x)\n",
        "test_std=transformer.transform(test)"
      ],
      "execution_count": 197,
      "outputs": []
    },
    {
      "cell_type": "code",
      "metadata": {
        "id": "5k-FSI50jJX0"
      },
      "source": [
        "import torch\n",
        "import random\n",
        "seed=777\n",
        "torch.manual_seed(seed)\n",
        "\n",
        "device='cuda' if torch.cuda.is_available() else 'cpu'\n",
        "if device=='cuda':\n",
        "  torch.cuda.manual_seed_all(seed)"
      ],
      "execution_count": 494,
      "outputs": []
    },
    {
      "cell_type": "code",
      "metadata": {
        "id": "OPLKjJrajJa3"
      },
      "source": [
        "x=np.array(x)\n",
        "test=np.array(test)\n",
        "y=np.array(y)\n",
        "x=torch.FloatTensor(x)\n",
        "test=torch.FloatTensor(test)\n",
        "y=torch.FloatTensor(y)"
      ],
      "execution_count": 465,
      "outputs": []
    },
    {
      "cell_type": "code",
      "metadata": {
        "colab": {
          "base_uri": "https://localhost:8080/"
        },
        "id": "gh6ieRpOlycE",
        "outputId": "11bc2119-8943-4300-f3df-719b197fddd6"
      },
      "source": [
        "x.shape"
      ],
      "execution_count": 466,
      "outputs": [
        {
          "output_type": "execute_result",
          "data": {
            "text/plain": [
              "torch.Size([2557, 5])"
            ]
          },
          "metadata": {},
          "execution_count": 466
        }
      ]
    },
    {
      "cell_type": "code",
      "metadata": {
        "id": "Pc9ODZG3lnn3"
      },
      "source": [
        "linear1=torch.nn.Linear(5,10)\n",
        "linear2=torch.nn.Linear(10,10)\n",
        "linear3=torch.nn.Linear(10,1)\n",
        "relu=torch.nn.ReLU()"
      ],
      "execution_count": 495,
      "outputs": []
    },
    {
      "cell_type": "code",
      "metadata": {
        "colab": {
          "base_uri": "https://localhost:8080/"
        },
        "id": "4PR0G2ATwm2p",
        "outputId": "863b944b-ceca-44d6-f056-beb02a0ec7a3"
      },
      "source": [
        "torch.nn.init.xavier_uniform_(linear1.weight)\n",
        "torch.nn.init.xavier_uniform_(linear2.weight)\n",
        "torch.nn.init.xavier_uniform_(linear3.weight)"
      ],
      "execution_count": 496,
      "outputs": [
        {
          "output_type": "execute_result",
          "data": {
            "text/plain": [
              "Parameter containing:\n",
              "tensor([[-0.4559, -0.6466, -0.6108,  0.0081,  0.1784,  0.4520, -0.3005, -0.4824,\n",
              "         -0.0845,  0.5084]], requires_grad=True)"
            ]
          },
          "metadata": {},
          "execution_count": 496
        }
      ]
    },
    {
      "cell_type": "code",
      "metadata": {
        "id": "JQqpI1jQlnqa"
      },
      "source": [
        "model=torch.nn.Sequential(linear1,relu,linear2,relu,linear3).to(device)\n",
        "optim = torch.optim.Adam(model.parameters(), lr=0.5)"
      ],
      "execution_count": 497,
      "outputs": []
    },
    {
      "cell_type": "code",
      "metadata": {
        "colab": {
          "base_uri": "https://localhost:8080/"
        },
        "id": "A0a67DwEmYeE",
        "outputId": "a64b7cbe-dd70-418c-93d7-51120bcfcf4d"
      },
      "source": [
        "for stop in range(40):\n",
        "  optim.zero_grad()\n",
        "  h=model(x)\n",
        "  cost=torch.mean((h-y)**2).to(device)\n",
        "  cost.backward()\n",
        "  optim.step()\n",
        "  if stop%10==0:\n",
        "    print(stop,cost.item())"
      ],
      "execution_count": 498,
      "outputs": [
        {
          "output_type": "stream",
          "name": "stdout",
          "text": [
            "0 12056525.0\n",
            "10 2685156.75\n",
            "20 2219648.25\n",
            "30 2022884.875\n"
          ]
        }
      ]
    },
    {
      "cell_type": "code",
      "metadata": {
        "id": "o4vfWNIbnYMw"
      },
      "source": [
        "pred=list()\n",
        "\n",
        "with torch.no_grad():\n",
        "  model.eval()\n",
        "  y_test=model(test)\n",
        "  a,b=torch.max(y_test,dim=1)\n",
        "  pred.extend(a.tolist())"
      ],
      "execution_count": 499,
      "outputs": []
    },
    {
      "cell_type": "code",
      "metadata": {
        "id": "rcD9m0cloMPO"
      },
      "source": [
        "submit[\"Expected\"]=pred"
      ],
      "execution_count": 500,
      "outputs": []
    },
    {
      "cell_type": "code",
      "metadata": {
        "colab": {
          "base_uri": "https://localhost:8080/",
          "height": 794
        },
        "id": "hRLxBOOCoOPA",
        "outputId": "2f091e22-a76e-4689-cd8a-aac258eacd90"
      },
      "source": [
        "submit"
      ],
      "execution_count": 501,
      "outputs": [
        {
          "output_type": "execute_result",
          "data": {
            "text/html": [
              "<div>\n",
              "<style scoped>\n",
              "    .dataframe tbody tr th:only-of-type {\n",
              "        vertical-align: middle;\n",
              "    }\n",
              "\n",
              "    .dataframe tbody tr th {\n",
              "        vertical-align: top;\n",
              "    }\n",
              "\n",
              "    .dataframe thead th {\n",
              "        text-align: right;\n",
              "    }\n",
              "</style>\n",
              "<table border=\"1\" class=\"dataframe\">\n",
              "  <thead>\n",
              "    <tr style=\"text-align: right;\">\n",
              "      <th></th>\n",
              "      <th>Id</th>\n",
              "      <th>Expected</th>\n",
              "    </tr>\n",
              "  </thead>\n",
              "  <tbody>\n",
              "    <tr>\n",
              "      <th>0</th>\n",
              "      <td>0</td>\n",
              "      <td>3773.809570</td>\n",
              "    </tr>\n",
              "    <tr>\n",
              "      <th>1</th>\n",
              "      <td>1</td>\n",
              "      <td>3614.233398</td>\n",
              "    </tr>\n",
              "    <tr>\n",
              "      <th>2</th>\n",
              "      <td>2</td>\n",
              "      <td>3521.585938</td>\n",
              "    </tr>\n",
              "    <tr>\n",
              "      <th>3</th>\n",
              "      <td>3</td>\n",
              "      <td>4008.544678</td>\n",
              "    </tr>\n",
              "    <tr>\n",
              "      <th>4</th>\n",
              "      <td>4</td>\n",
              "      <td>3908.633301</td>\n",
              "    </tr>\n",
              "    <tr>\n",
              "      <th>5</th>\n",
              "      <td>5</td>\n",
              "      <td>3857.852051</td>\n",
              "    </tr>\n",
              "    <tr>\n",
              "      <th>6</th>\n",
              "      <td>6</td>\n",
              "      <td>3531.829102</td>\n",
              "    </tr>\n",
              "    <tr>\n",
              "      <th>7</th>\n",
              "      <td>7</td>\n",
              "      <td>3920.982910</td>\n",
              "    </tr>\n",
              "    <tr>\n",
              "      <th>8</th>\n",
              "      <td>8</td>\n",
              "      <td>3656.575928</td>\n",
              "    </tr>\n",
              "    <tr>\n",
              "      <th>9</th>\n",
              "      <td>9</td>\n",
              "      <td>3974.276855</td>\n",
              "    </tr>\n",
              "    <tr>\n",
              "      <th>10</th>\n",
              "      <td>10</td>\n",
              "      <td>3305.975586</td>\n",
              "    </tr>\n",
              "    <tr>\n",
              "      <th>11</th>\n",
              "      <td>11</td>\n",
              "      <td>4024.362549</td>\n",
              "    </tr>\n",
              "    <tr>\n",
              "      <th>12</th>\n",
              "      <td>12</td>\n",
              "      <td>3741.459717</td>\n",
              "    </tr>\n",
              "    <tr>\n",
              "      <th>13</th>\n",
              "      <td>13</td>\n",
              "      <td>3828.890625</td>\n",
              "    </tr>\n",
              "    <tr>\n",
              "      <th>14</th>\n",
              "      <td>14</td>\n",
              "      <td>3651.770020</td>\n",
              "    </tr>\n",
              "    <tr>\n",
              "      <th>15</th>\n",
              "      <td>15</td>\n",
              "      <td>3895.322021</td>\n",
              "    </tr>\n",
              "    <tr>\n",
              "      <th>16</th>\n",
              "      <td>16</td>\n",
              "      <td>3794.130615</td>\n",
              "    </tr>\n",
              "    <tr>\n",
              "      <th>17</th>\n",
              "      <td>17</td>\n",
              "      <td>3856.558594</td>\n",
              "    </tr>\n",
              "    <tr>\n",
              "      <th>18</th>\n",
              "      <td>18</td>\n",
              "      <td>3696.791992</td>\n",
              "    </tr>\n",
              "    <tr>\n",
              "      <th>19</th>\n",
              "      <td>19</td>\n",
              "      <td>3695.254395</td>\n",
              "    </tr>\n",
              "    <tr>\n",
              "      <th>20</th>\n",
              "      <td>20</td>\n",
              "      <td>3590.177246</td>\n",
              "    </tr>\n",
              "    <tr>\n",
              "      <th>21</th>\n",
              "      <td>21</td>\n",
              "      <td>3721.149902</td>\n",
              "    </tr>\n",
              "    <tr>\n",
              "      <th>22</th>\n",
              "      <td>22</td>\n",
              "      <td>4047.386963</td>\n",
              "    </tr>\n",
              "    <tr>\n",
              "      <th>23</th>\n",
              "      <td>23</td>\n",
              "      <td>3487.567627</td>\n",
              "    </tr>\n",
              "  </tbody>\n",
              "</table>\n",
              "</div>"
            ],
            "text/plain": [
              "    Id     Expected\n",
              "0    0  3773.809570\n",
              "1    1  3614.233398\n",
              "2    2  3521.585938\n",
              "3    3  4008.544678\n",
              "4    4  3908.633301\n",
              "5    5  3857.852051\n",
              "6    6  3531.829102\n",
              "7    7  3920.982910\n",
              "8    8  3656.575928\n",
              "9    9  3974.276855\n",
              "10  10  3305.975586\n",
              "11  11  4024.362549\n",
              "12  12  3741.459717\n",
              "13  13  3828.890625\n",
              "14  14  3651.770020\n",
              "15  15  3895.322021\n",
              "16  16  3794.130615\n",
              "17  17  3856.558594\n",
              "18  18  3696.791992\n",
              "19  19  3695.254395\n",
              "20  20  3590.177246\n",
              "21  21  3721.149902\n",
              "22  22  4047.386963\n",
              "23  23  3487.567627"
            ]
          },
          "metadata": {},
          "execution_count": 501
        }
      ]
    },
    {
      "cell_type": "code",
      "metadata": {
        "id": "-wjbbvFooTbY"
      },
      "source": [
        "submit.to_csv(\"submit.csv\",index=False)"
      ],
      "execution_count": 502,
      "outputs": []
    },
    {
      "cell_type": "code",
      "metadata": {
        "colab": {
          "base_uri": "https://localhost:8080/"
        },
        "id": "FCZodsk4ocVm",
        "outputId": "1873ce51-1104-4eee-a8d3-b021f384dba2"
      },
      "source": [
        "!kaggle competitions submit -c 2021-ai-w3-p1 -f submit.csv -m \"Message\""
      ],
      "execution_count": 503,
      "outputs": [
        {
          "output_type": "stream",
          "name": "stdout",
          "text": [
            "Warning: Looks like you're using an outdated API Version, please consider updating (server 1.5.12 / client 1.5.6)\n",
            "100% 473/473 [00:02<00:00, 160B/s]\n",
            "Successfully submitted to 배추 가격 예측"
          ]
        }
      ]
    },
    {
      "cell_type": "code",
      "metadata": {
        "id": "xNO4bfm_olBq"
      },
      "source": [
        ""
      ],
      "execution_count": 493,
      "outputs": []
    }
  ]
}
