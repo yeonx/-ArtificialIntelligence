{
  "nbformat": 4,
  "nbformat_minor": 0,
  "metadata": {
    "colab": {
      "name": "[인공지능] 재배환경.ipynb",
      "provenance": [],
      "collapsed_sections": []
    },
    "kernelspec": {
      "name": "python3",
      "display_name": "Python 3"
    },
    "language_info": {
      "name": "python"
    },
    "accelerator": "GPU"
  },
  "cells": [
    {
      "cell_type": "code",
      "metadata": {
        "colab": {
          "base_uri": "https://localhost:8080/"
        },
        "id": "jDhWY0OB5GMp",
        "outputId": "4ab2be1a-2490-492c-ea40-ca508f912dfa"
      },
      "source": [
        "!pip uninstall kaggle -y\n",
        "!pip uninstall --upgrade.pip\n",
        "!pip install kaggle==1.5.6\n",
        "!mkdir -p ~/.kaggle\n",
        "!cp /content/drive/MyDrive/kaggle.json ~/.kaggle\n",
        "!chmod 600 ~/.kaggle/kaggle.json"
      ],
      "execution_count": 1,
      "outputs": [
        {
          "output_type": "stream",
          "name": "stdout",
          "text": [
            "Found existing installation: kaggle 1.5.12\n",
            "Uninstalling kaggle-1.5.12:\n",
            "  Successfully uninstalled kaggle-1.5.12\n",
            "\n",
            "Usage:   \n",
            "  pip3 uninstall [options] <package> ...\n",
            "  pip3 uninstall [options] -r <requirements file> ...\n",
            "\n",
            "no such option: --upgrade.pip\n",
            "Collecting kaggle==1.5.6\n",
            "  Downloading kaggle-1.5.6.tar.gz (58 kB)\n",
            "\u001b[K     |████████████████████████████████| 58 kB 2.8 MB/s \n",
            "\u001b[?25hRequirement already satisfied: urllib3<1.25,>=1.21.1 in /usr/local/lib/python3.7/dist-packages (from kaggle==1.5.6) (1.24.3)\n",
            "Requirement already satisfied: six>=1.10 in /usr/local/lib/python3.7/dist-packages (from kaggle==1.5.6) (1.15.0)\n",
            "Requirement already satisfied: certifi in /usr/local/lib/python3.7/dist-packages (from kaggle==1.5.6) (2021.5.30)\n",
            "Requirement already satisfied: python-dateutil in /usr/local/lib/python3.7/dist-packages (from kaggle==1.5.6) (2.8.2)\n",
            "Requirement already satisfied: requests in /usr/local/lib/python3.7/dist-packages (from kaggle==1.5.6) (2.23.0)\n",
            "Requirement already satisfied: tqdm in /usr/local/lib/python3.7/dist-packages (from kaggle==1.5.6) (4.62.3)\n",
            "Requirement already satisfied: python-slugify in /usr/local/lib/python3.7/dist-packages (from kaggle==1.5.6) (5.0.2)\n",
            "Requirement already satisfied: text-unidecode>=1.3 in /usr/local/lib/python3.7/dist-packages (from python-slugify->kaggle==1.5.6) (1.3)\n",
            "Requirement already satisfied: idna<3,>=2.5 in /usr/local/lib/python3.7/dist-packages (from requests->kaggle==1.5.6) (2.10)\n",
            "Requirement already satisfied: chardet<4,>=3.0.2 in /usr/local/lib/python3.7/dist-packages (from requests->kaggle==1.5.6) (3.0.4)\n",
            "Building wheels for collected packages: kaggle\n",
            "  Building wheel for kaggle (setup.py) ... \u001b[?25l\u001b[?25hdone\n",
            "  Created wheel for kaggle: filename=kaggle-1.5.6-py3-none-any.whl size=72857 sha256=555ca35ed11d4c7d50785f33552833cd76423ad80e7982f74cb74b29e686795b\n",
            "  Stored in directory: /root/.cache/pip/wheels/aa/e7/e7/eb3c3d514c33294d77ddd5a856bdd58dc9c1fabbed59a02a2b\n",
            "Successfully built kaggle\n",
            "Installing collected packages: kaggle\n",
            "Successfully installed kaggle-1.5.6\n"
          ]
        }
      ]
    },
    {
      "cell_type": "code",
      "metadata": {
        "colab": {
          "base_uri": "https://localhost:8080/"
        },
        "id": "1gTy_KHj5dtM",
        "outputId": "cac242ba-d00b-495e-a975-296cc95fdb8c"
      },
      "source": [
        "!kaggle competitions download -c 2021-ai-w4-p2"
      ],
      "execution_count": null,
      "outputs": [
        {
          "output_type": "stream",
          "name": "stdout",
          "text": [
            "Downloading 2021-ai-w4-p2.zip to /content\n",
            "\r  0% 0.00/67.9k [00:00<?, ?B/s]\n",
            "\r100% 67.9k/67.9k [00:00<00:00, 41.8MB/s]\n"
          ]
        }
      ]
    },
    {
      "cell_type": "code",
      "metadata": {
        "colab": {
          "base_uri": "https://localhost:8080/"
        },
        "id": "Lj9DabiwEcEd",
        "outputId": "0d7e4a31-d5f8-47a5-898a-329f81784644"
      },
      "source": [
        "!ls"
      ],
      "execution_count": null,
      "outputs": [
        {
          "output_type": "stream",
          "name": "stdout",
          "text": [
            "2021-ai-w4-p2.zip  drive  sample_data\n"
          ]
        }
      ]
    },
    {
      "cell_type": "code",
      "metadata": {
        "colab": {
          "base_uri": "https://localhost:8080/"
        },
        "id": "Uq02wH25EmVp",
        "outputId": "1574cfea-792a-42bd-d2c5-e5eb7bfac2e4"
      },
      "source": [
        "!unzip 2021-ai-w4-p2.zip"
      ],
      "execution_count": null,
      "outputs": [
        {
          "output_type": "stream",
          "name": "stdout",
          "text": [
            "Archive:  2021-ai-w4-p2.zip\n",
            "  inflating: sample.csv              \n",
            "  inflating: test.csv                \n",
            "  inflating: train.csv               \n"
          ]
        }
      ]
    },
    {
      "cell_type": "code",
      "metadata": {
        "id": "WvjoWeZlU8qv"
      },
      "source": [
        "import pandas as pd\n",
        "train=pd.read_csv(\"train.csv\")\n",
        "test=pd.read_csv(\"test.csv\")\n",
        "submit=pd.read_csv(\"sample.csv\")"
      ],
      "execution_count": null,
      "outputs": []
    },
    {
      "cell_type": "code",
      "metadata": {
        "colab": {
          "base_uri": "https://localhost:8080/"
        },
        "id": "6RTIjs6oagrm",
        "outputId": "a4495110-757e-455d-84b0-3bf9c044387b"
      },
      "source": [
        "import torch\n",
        "import torch.optim as optim\n",
        "\n",
        "torch.manual_seed(1)"
      ],
      "execution_count": null,
      "outputs": [
        {
          "output_type": "execute_result",
          "data": {
            "text/plain": [
              "<torch._C.Generator at 0x7f9c4d5cc3b0>"
            ]
          },
          "metadata": {},
          "execution_count": 107
        }
      ]
    },
    {
      "cell_type": "code",
      "metadata": {
        "colab": {
          "base_uri": "https://localhost:8080/",
          "height": 420
        },
        "id": "Xt0V6ODBakM4",
        "outputId": "42670d80-654a-41f2-a012-2d5be3fce288"
      },
      "source": [
        "train"
      ],
      "execution_count": null,
      "outputs": [
        {
          "output_type": "execute_result",
          "data": {
            "text/html": [
              "<div>\n",
              "<style scoped>\n",
              "    .dataframe tbody tr th:only-of-type {\n",
              "        vertical-align: middle;\n",
              "    }\n",
              "\n",
              "    .dataframe tbody tr th {\n",
              "        vertical-align: top;\n",
              "    }\n",
              "\n",
              "    .dataframe thead th {\n",
              "        text-align: right;\n",
              "    }\n",
              "</style>\n",
              "<table border=\"1\" class=\"dataframe\">\n",
              "  <thead>\n",
              "    <tr style=\"text-align: right;\">\n",
              "      <th></th>\n",
              "      <th>N</th>\n",
              "      <th>P</th>\n",
              "      <th>K</th>\n",
              "      <th>temperature</th>\n",
              "      <th>humidity</th>\n",
              "      <th>ph</th>\n",
              "      <th>rainfall</th>\n",
              "      <th>label</th>\n",
              "    </tr>\n",
              "  </thead>\n",
              "  <tbody>\n",
              "    <tr>\n",
              "      <th>0</th>\n",
              "      <td>22</td>\n",
              "      <td>36</td>\n",
              "      <td>16</td>\n",
              "      <td>30.581395</td>\n",
              "      <td>50.771481</td>\n",
              "      <td>8.184229</td>\n",
              "      <td>64.585596</td>\n",
              "      <td>mothbeans</td>\n",
              "    </tr>\n",
              "    <tr>\n",
              "      <th>1</th>\n",
              "      <td>18</td>\n",
              "      <td>27</td>\n",
              "      <td>41</td>\n",
              "      <td>22.365094</td>\n",
              "      <td>92.308824</td>\n",
              "      <td>7.175344</td>\n",
              "      <td>104.821633</td>\n",
              "      <td>pomegranate</td>\n",
              "    </tr>\n",
              "    <tr>\n",
              "      <th>2</th>\n",
              "      <td>61</td>\n",
              "      <td>68</td>\n",
              "      <td>50</td>\n",
              "      <td>35.214628</td>\n",
              "      <td>91.497251</td>\n",
              "      <td>6.793245</td>\n",
              "      <td>243.074507</td>\n",
              "      <td>papaya</td>\n",
              "    </tr>\n",
              "    <tr>\n",
              "      <th>3</th>\n",
              "      <td>26</td>\n",
              "      <td>72</td>\n",
              "      <td>22</td>\n",
              "      <td>28.767949</td>\n",
              "      <td>37.577921</td>\n",
              "      <td>4.674942</td>\n",
              "      <td>91.720849</td>\n",
              "      <td>pigeonpeas</td>\n",
              "    </tr>\n",
              "    <tr>\n",
              "      <th>4</th>\n",
              "      <td>2</td>\n",
              "      <td>140</td>\n",
              "      <td>197</td>\n",
              "      <td>22.697801</td>\n",
              "      <td>92.822234</td>\n",
              "      <td>5.534567</td>\n",
              "      <td>105.050823</td>\n",
              "      <td>apple</td>\n",
              "    </tr>\n",
              "    <tr>\n",
              "      <th>...</th>\n",
              "      <td>...</td>\n",
              "      <td>...</td>\n",
              "      <td>...</td>\n",
              "      <td>...</td>\n",
              "      <td>...</td>\n",
              "      <td>...</td>\n",
              "      <td>...</td>\n",
              "      <td>...</td>\n",
              "    </tr>\n",
              "    <tr>\n",
              "      <th>1645</th>\n",
              "      <td>10</td>\n",
              "      <td>5</td>\n",
              "      <td>5</td>\n",
              "      <td>21.213070</td>\n",
              "      <td>91.353492</td>\n",
              "      <td>7.817846</td>\n",
              "      <td>112.983436</td>\n",
              "      <td>orange</td>\n",
              "    </tr>\n",
              "    <tr>\n",
              "      <th>1646</th>\n",
              "      <td>108</td>\n",
              "      <td>94</td>\n",
              "      <td>47</td>\n",
              "      <td>27.359116</td>\n",
              "      <td>84.546250</td>\n",
              "      <td>6.387431</td>\n",
              "      <td>90.812505</td>\n",
              "      <td>banana</td>\n",
              "    </tr>\n",
              "    <tr>\n",
              "      <th>1647</th>\n",
              "      <td>11</td>\n",
              "      <td>36</td>\n",
              "      <td>31</td>\n",
              "      <td>27.920633</td>\n",
              "      <td>51.779659</td>\n",
              "      <td>6.475449</td>\n",
              "      <td>100.258567</td>\n",
              "      <td>mango</td>\n",
              "    </tr>\n",
              "    <tr>\n",
              "      <th>1648</th>\n",
              "      <td>11</td>\n",
              "      <td>124</td>\n",
              "      <td>204</td>\n",
              "      <td>13.429886</td>\n",
              "      <td>80.066340</td>\n",
              "      <td>6.361141</td>\n",
              "      <td>71.400430</td>\n",
              "      <td>grapes</td>\n",
              "    </tr>\n",
              "    <tr>\n",
              "      <th>1649</th>\n",
              "      <td>32</td>\n",
              "      <td>78</td>\n",
              "      <td>22</td>\n",
              "      <td>23.970814</td>\n",
              "      <td>62.355576</td>\n",
              "      <td>7.007038</td>\n",
              "      <td>53.409060</td>\n",
              "      <td>lentil</td>\n",
              "    </tr>\n",
              "  </tbody>\n",
              "</table>\n",
              "<p>1650 rows × 8 columns</p>\n",
              "</div>"
            ],
            "text/plain": [
              "        N    P    K  temperature   humidity        ph    rainfall        label\n",
              "0      22   36   16    30.581395  50.771481  8.184229   64.585596    mothbeans\n",
              "1      18   27   41    22.365094  92.308824  7.175344  104.821633  pomegranate\n",
              "2      61   68   50    35.214628  91.497251  6.793245  243.074507       papaya\n",
              "3      26   72   22    28.767949  37.577921  4.674942   91.720849   pigeonpeas\n",
              "4       2  140  197    22.697801  92.822234  5.534567  105.050823        apple\n",
              "...   ...  ...  ...          ...        ...       ...         ...          ...\n",
              "1645   10    5    5    21.213070  91.353492  7.817846  112.983436       orange\n",
              "1646  108   94   47    27.359116  84.546250  6.387431   90.812505       banana\n",
              "1647   11   36   31    27.920633  51.779659  6.475449  100.258567        mango\n",
              "1648   11  124  204    13.429886  80.066340  6.361141   71.400430       grapes\n",
              "1649   32   78   22    23.970814  62.355576  7.007038   53.409060       lentil\n",
              "\n",
              "[1650 rows x 8 columns]"
            ]
          },
          "metadata": {},
          "execution_count": 108
        }
      ]
    },
    {
      "cell_type": "code",
      "metadata": {
        "id": "YAg2KA1hapmB"
      },
      "source": [
        "x=train.drop([\"label\"],axis=1)\n",
        "y=train[\"label\"]"
      ],
      "execution_count": null,
      "outputs": []
    },
    {
      "cell_type": "code",
      "metadata": {
        "colab": {
          "base_uri": "https://localhost:8080/"
        },
        "id": "dxYio0mXiult",
        "outputId": "2171ff46-6cfe-4df8-d627-de2ef7a9cadd"
      },
      "source": [
        "y"
      ],
      "execution_count": null,
      "outputs": [
        {
          "output_type": "execute_result",
          "data": {
            "text/plain": [
              "0         mothbeans\n",
              "1       pomegranate\n",
              "2            papaya\n",
              "3        pigeonpeas\n",
              "4             apple\n",
              "           ...     \n",
              "1645         orange\n",
              "1646         banana\n",
              "1647          mango\n",
              "1648         grapes\n",
              "1649         lentil\n",
              "Name: label, Length: 1650, dtype: object"
            ]
          },
          "metadata": {},
          "execution_count": 110
        }
      ]
    },
    {
      "cell_type": "code",
      "metadata": {
        "id": "qVmIWKpUavqo"
      },
      "source": [
        "from sklearn.preprocessing import StandardScaler\n",
        "scaler = StandardScaler()\n",
        "scaler.fit(x)\n",
        "x_std=scaler.transform(x)\n",
        "test_std=scaler.transform(test)"
      ],
      "execution_count": null,
      "outputs": []
    },
    {
      "cell_type": "code",
      "metadata": {
        "id": "X-EDrR2xMbi9"
      },
      "source": [
        "from sklearn import preprocessing\n",
        "le = preprocessing.LabelEncoder()\n",
        "y_re=le.fit(y)\n",
        "y=le.transform(y)"
      ],
      "execution_count": null,
      "outputs": []
    },
    {
      "cell_type": "code",
      "metadata": {
        "id": "-Ect9j7IFETC"
      },
      "source": [
        "import numpy as np\n",
        "x=np.array(x_std)\n",
        "x=torch.FloatTensor(x)\n",
        "y=torch.LongTensor(y)\n",
        "test=np.array(test_std)\n",
        "test=torch.FloatTensor(test)"
      ],
      "execution_count": null,
      "outputs": []
    },
    {
      "cell_type": "code",
      "metadata": {
        "colab": {
          "base_uri": "https://localhost:8080/"
        },
        "id": "z2vuwrJKFYUU",
        "outputId": "f9b5a86b-b9c5-40e4-9467-1e85caef5e1b"
      },
      "source": [
        "x.shape[1]"
      ],
      "execution_count": null,
      "outputs": [
        {
          "output_type": "execute_result",
          "data": {
            "text/plain": [
              "7"
            ]
          },
          "metadata": {},
          "execution_count": 115
        }
      ]
    },
    {
      "cell_type": "code",
      "metadata": {
        "colab": {
          "base_uri": "https://localhost:8080/"
        },
        "id": "xFfqnFfBCtBI",
        "outputId": "021ac053-a94a-421a-ba4f-bef0d6cbdc57"
      },
      "source": [
        "len(y.unique())"
      ],
      "execution_count": null,
      "outputs": [
        {
          "output_type": "execute_result",
          "data": {
            "text/plain": [
              "22"
            ]
          },
          "metadata": {},
          "execution_count": 116
        }
      ]
    },
    {
      "cell_type": "code",
      "metadata": {
        "id": "2oEY7PjFazy9"
      },
      "source": [
        "linear1 = torch.nn.Linear(7, 256, bias=True)\n",
        "linear2 = torch.nn.Linear(256, 512, bias=True)\n",
        "linear3 = torch.nn.Linear(512, 256, bias=True)\n",
        "linear4 = torch.nn.Linear(256, 22, bias=True)\n",
        "relu=torch.nn.ReLU()\n",
        "dropout=torch.nn.Dropout(0.1)"
      ],
      "execution_count": null,
      "outputs": []
    },
    {
      "cell_type": "code",
      "metadata": {
        "colab": {
          "base_uri": "https://localhost:8080/"
        },
        "id": "yaal5hMNaz12",
        "outputId": "9cc0da79-e7c0-4333-f5b3-a6a43b571325"
      },
      "source": [
        "torch.nn.init.xavier_uniform_(linear1.weight)\n",
        "torch.nn.init.xavier_uniform_(linear2.weight)\n",
        "torch.nn.init.xavier_uniform_(linear3.weight)\n",
        "torch.nn.init.xavier_uniform_(linear4.weight)"
      ],
      "execution_count": null,
      "outputs": [
        {
          "output_type": "execute_result",
          "data": {
            "text/plain": [
              "Parameter containing:\n",
              "tensor([[ 0.0242,  0.0256, -0.0319,  ..., -0.1302,  0.0046, -0.1331],\n",
              "        [-0.1342, -0.0329,  0.0107,  ...,  0.1364,  0.0661, -0.0090],\n",
              "        [ 0.0153,  0.1253,  0.1081,  ..., -0.1425, -0.0973, -0.0027],\n",
              "        ...,\n",
              "        [ 0.0803, -0.0410,  0.0715,  ..., -0.0563,  0.0096, -0.0200],\n",
              "        [ 0.0642,  0.1249,  0.0693,  ..., -0.0353, -0.0414, -0.0027],\n",
              "        [ 0.0783,  0.0982, -0.1394,  ..., -0.0700,  0.0701, -0.0375]],\n",
              "       requires_grad=True)"
            ]
          },
          "metadata": {},
          "execution_count": 122
        }
      ]
    },
    {
      "cell_type": "code",
      "metadata": {
        "id": "6RUBCl5laz4o"
      },
      "source": [
        "model = torch.nn.Sequential(linear1,relu,dropout, linear2,relu,dropout,linear3,relu,dropout,linear4)\n",
        "optimizer = torch.optim.Adam(model.parameters(), lr=0.01)\n",
        "loss = torch.nn.CrossEntropyLoss()"
      ],
      "execution_count": null,
      "outputs": []
    },
    {
      "cell_type": "code",
      "metadata": {
        "colab": {
          "base_uri": "https://localhost:8080/"
        },
        "id": "rJ5SP3GLbPkP",
        "outputId": "024b095f-2558-4652-c7f9-0acc867d2408"
      },
      "source": [
        "for stop in range(250):\n",
        "\n",
        "    optimizer.zero_grad()\n",
        "\n",
        "    hypothesis=model(x)\n",
        "\n",
        "    cost=loss(hypothesis,y)#input=(N,C),target=(N)\n",
        "\n",
        "    cost.backward()\n",
        "\n",
        "    optimizer.step()\n",
        "    if stop%20==0:\n",
        "      print(stop, cost.item())"
      ],
      "execution_count": null,
      "outputs": [
        {
          "output_type": "stream",
          "name": "stdout",
          "text": [
            "0 3.1007723808288574\n",
            "20 0.3620319962501526\n",
            "40 0.14917346835136414\n",
            "60 0.07182899862527847\n",
            "80 0.07171938568353653\n",
            "100 0.0396617129445076\n",
            "120 0.03416160121560097\n",
            "140 0.02630797028541565\n",
            "160 0.02783694863319397\n",
            "180 0.022132329642772675\n",
            "200 0.025404155254364014\n",
            "220 0.02555234543979168\n",
            "240 0.01802254281938076\n"
          ]
        }
      ]
    },
    {
      "cell_type": "code",
      "metadata": {
        "id": "lwuemzB5bPsj"
      },
      "source": [
        "prediction=list()\n",
        "with torch.no_grad():\n",
        "    pred = model(test)\n",
        "    _,pred =torch.max(pred,1)\n",
        "    prediction.extend(pred.tolist())\n",
        "    prediction = y_re.inverse_transform(prediction)"
      ],
      "execution_count": null,
      "outputs": []
    },
    {
      "cell_type": "code",
      "metadata": {
        "id": "XzXM8w_nfIx9"
      },
      "source": [
        "submit['label'] = prediction"
      ],
      "execution_count": null,
      "outputs": []
    },
    {
      "cell_type": "code",
      "metadata": {
        "colab": {
          "base_uri": "https://localhost:8080/",
          "height": 420
        },
        "id": "TDIAm-gjMZYj",
        "outputId": "e56435cc-1903-4376-a688-02a3c76e69a3"
      },
      "source": [
        "submit"
      ],
      "execution_count": null,
      "outputs": [
        {
          "output_type": "execute_result",
          "data": {
            "text/html": [
              "<div>\n",
              "<style scoped>\n",
              "    .dataframe tbody tr th:only-of-type {\n",
              "        vertical-align: middle;\n",
              "    }\n",
              "\n",
              "    .dataframe tbody tr th {\n",
              "        vertical-align: top;\n",
              "    }\n",
              "\n",
              "    .dataframe thead th {\n",
              "        text-align: right;\n",
              "    }\n",
              "</style>\n",
              "<table border=\"1\" class=\"dataframe\">\n",
              "  <thead>\n",
              "    <tr style=\"text-align: right;\">\n",
              "      <th></th>\n",
              "      <th>id</th>\n",
              "      <th>label</th>\n",
              "    </tr>\n",
              "  </thead>\n",
              "  <tbody>\n",
              "    <tr>\n",
              "      <th>0</th>\n",
              "      <td>0</td>\n",
              "      <td>muskmelon</td>\n",
              "    </tr>\n",
              "    <tr>\n",
              "      <th>1</th>\n",
              "      <td>1</td>\n",
              "      <td>watermelon</td>\n",
              "    </tr>\n",
              "    <tr>\n",
              "      <th>2</th>\n",
              "      <td>2</td>\n",
              "      <td>papaya</td>\n",
              "    </tr>\n",
              "    <tr>\n",
              "      <th>3</th>\n",
              "      <td>3</td>\n",
              "      <td>papaya</td>\n",
              "    </tr>\n",
              "    <tr>\n",
              "      <th>4</th>\n",
              "      <td>4</td>\n",
              "      <td>apple</td>\n",
              "    </tr>\n",
              "    <tr>\n",
              "      <th>...</th>\n",
              "      <td>...</td>\n",
              "      <td>...</td>\n",
              "    </tr>\n",
              "    <tr>\n",
              "      <th>545</th>\n",
              "      <td>545</td>\n",
              "      <td>coffee</td>\n",
              "    </tr>\n",
              "    <tr>\n",
              "      <th>546</th>\n",
              "      <td>546</td>\n",
              "      <td>papaya</td>\n",
              "    </tr>\n",
              "    <tr>\n",
              "      <th>547</th>\n",
              "      <td>547</td>\n",
              "      <td>chickpea</td>\n",
              "    </tr>\n",
              "    <tr>\n",
              "      <th>548</th>\n",
              "      <td>548</td>\n",
              "      <td>coffee</td>\n",
              "    </tr>\n",
              "    <tr>\n",
              "      <th>549</th>\n",
              "      <td>549</td>\n",
              "      <td>jute</td>\n",
              "    </tr>\n",
              "  </tbody>\n",
              "</table>\n",
              "<p>550 rows × 2 columns</p>\n",
              "</div>"
            ],
            "text/plain": [
              "      id       label\n",
              "0      0   muskmelon\n",
              "1      1  watermelon\n",
              "2      2      papaya\n",
              "3      3      papaya\n",
              "4      4       apple\n",
              "..   ...         ...\n",
              "545  545      coffee\n",
              "546  546      papaya\n",
              "547  547    chickpea\n",
              "548  548      coffee\n",
              "549  549        jute\n",
              "\n",
              "[550 rows x 2 columns]"
            ]
          },
          "metadata": {},
          "execution_count": 127
        }
      ]
    },
    {
      "cell_type": "code",
      "metadata": {
        "id": "8S6idtg9zupL"
      },
      "source": [
        "submit.to_csv(\"submit.csv\",mode='w',index=False)"
      ],
      "execution_count": null,
      "outputs": []
    },
    {
      "cell_type": "code",
      "metadata": {
        "id": "_MtcUH1ukXrv",
        "colab": {
          "base_uri": "https://localhost:8080/"
        },
        "outputId": "2df63ab6-e8c4-463e-d8f9-485fd6378830"
      },
      "source": [
        "!kaggle competitions submit -c 2021-ai-w4-p2 -f submit.csv -m \"Message\""
      ],
      "execution_count": null,
      "outputs": [
        {
          "output_type": "stream",
          "name": "stdout",
          "text": [
            "Warning: Looks like you're using an outdated API Version, please consider updating (server 1.5.12 / client 1.5.6)\n",
            "100% 6.46k/6.46k [00:00<00:00, 7.52kB/s]\n",
            "Successfully submitted to 재배환경 별 작물 종류 예측"
          ]
        }
      ]
    }
  ]
}