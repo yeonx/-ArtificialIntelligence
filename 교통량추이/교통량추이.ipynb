{
 "cells": [
  {
   "cell_type": "code",
   "execution_count": 1,
   "id": "915c8fb2",
   "metadata": {
    "_cell_guid": "b1076dfc-b9ad-4769-8c92-a6c4dae69d19",
    "_uuid": "8f2839f25d086af736a60e9eeb907d3b93b6e0e5",
    "execution": {
     "iopub.execute_input": "2021-10-12T05:35:34.023687Z",
     "iopub.status.busy": "2021-10-12T05:35:34.019805Z",
     "iopub.status.idle": "2021-10-12T05:35:34.033266Z",
     "shell.execute_reply": "2021-10-12T05:35:34.032639Z",
     "shell.execute_reply.started": "2021-10-12T05:32:23.116235Z"
    },
    "papermill": {
     "duration": 0.026946,
     "end_time": "2021-10-12T05:35:34.033428",
     "exception": false,
     "start_time": "2021-10-12T05:35:34.006482",
     "status": "completed"
    },
    "tags": []
   },
   "outputs": [
    {
     "name": "stdout",
     "output_type": "stream",
     "text": [
      "/kaggle/input/2021-ai-w7-p2/sample_submission.csv\n",
      "/kaggle/input/2021-ai-w7-p2/x_test.csv\n",
      "/kaggle/input/2021-ai-w7-p2/y_train.csv\n",
      "/kaggle/input/2021-ai-w7-p2/x_train.csv\n"
     ]
    }
   ],
   "source": [
    "# This Python 3 environment comes with many helpful analytics libraries installed\n",
    "# It is defined by the kaggle/python Docker image: https://github.com/kaggle/docker-python\n",
    "# For example, here's several helpful packages to load\n",
    "\n",
    "import numpy as np # linear algebra\n",
    "import pandas as pd # data processing, CSV file I/O (e.g. pd.read_csv)\n",
    "\n",
    "# Input data files are available in the read-only \"../input/\" directory\n",
    "# For example, running this (by clicking run or pressing Shift+Enter) will list all files under the input directory\n",
    "\n",
    "import os\n",
    "for dirname, _, filenames in os.walk('/kaggle/input'):\n",
    "    for filename in filenames:\n",
    "        print(os.path.join(dirname, filename))\n",
    "\n",
    "# You can write up to 20GB to the current directory (/kaggle/working/) that gets preserved as output when you create a version using \"Save & Run All\" \n",
    "# You can also write temporary files to /kaggle/temp/, but they won't be saved outside of the current session"
   ]
  },
  {
   "cell_type": "code",
   "execution_count": 2,
   "id": "6909beab",
   "metadata": {
    "execution": {
     "iopub.execute_input": "2021-10-12T05:35:34.054076Z",
     "iopub.status.busy": "2021-10-12T05:35:34.053479Z",
     "iopub.status.idle": "2021-10-12T05:35:34.497482Z",
     "shell.execute_reply": "2021-10-12T05:35:34.496959Z"
    },
    "papermill": {
     "duration": 0.456285,
     "end_time": "2021-10-12T05:35:34.497623",
     "exception": false,
     "start_time": "2021-10-12T05:35:34.041338",
     "status": "completed"
    },
    "tags": []
   },
   "outputs": [],
   "source": [
    "x=pd.DataFrame(pd.read_csv(\"/kaggle/input/2021-ai-w7-p2/x_train.csv\",engine='python',encoding='CP949'))\n",
    "y=pd.DataFrame(pd.read_csv(\"/kaggle/input/2021-ai-w7-p2/y_train.csv\",engine='python',encoding='CP949'))\n",
    "test=pd.DataFrame(pd.read_csv(\"/kaggle/input/2021-ai-w7-p2/x_test.csv\",engine='python',encoding='CP949'))\n",
    "submit=pd.read_csv(\"/kaggle/input/2021-ai-w7-p2/sample_submission.csv\")"
   ]
  },
  {
   "cell_type": "code",
   "execution_count": 3,
   "id": "2a63bcb4",
   "metadata": {
    "execution": {
     "iopub.execute_input": "2021-10-12T05:35:34.521844Z",
     "iopub.status.busy": "2021-10-12T05:35:34.521211Z",
     "iopub.status.idle": "2021-10-12T05:35:34.523996Z",
     "shell.execute_reply": "2021-10-12T05:35:34.523532Z"
    },
    "papermill": {
     "duration": 0.018828,
     "end_time": "2021-10-12T05:35:34.524146",
     "exception": false,
     "start_time": "2021-10-12T05:35:34.505318",
     "status": "completed"
    },
    "tags": []
   },
   "outputs": [],
   "source": [
    "y=y[\"교통량\"]"
   ]
  },
  {
   "cell_type": "code",
   "execution_count": 4,
   "id": "01df02d4",
   "metadata": {
    "execution": {
     "iopub.execute_input": "2021-10-12T05:35:34.544162Z",
     "iopub.status.busy": "2021-10-12T05:35:34.543586Z",
     "iopub.status.idle": "2021-10-12T05:35:35.418981Z",
     "shell.execute_reply": "2021-10-12T05:35:35.419477Z"
    },
    "papermill": {
     "duration": 0.88787,
     "end_time": "2021-10-12T05:35:35.419638",
     "exception": false,
     "start_time": "2021-10-12T05:35:34.531768",
     "status": "completed"
    },
    "tags": []
   },
   "outputs": [],
   "source": [
    "from sklearn.preprocessing import MinMaxScaler\n",
    "scaler = MinMaxScaler()\n",
    "scaler.fit(x)\n",
    "x_std=scaler.transform(x)\n",
    "test_std=scaler.transform(test)"
   ]
  },
  {
   "cell_type": "code",
   "execution_count": 5,
   "id": "f2948603",
   "metadata": {
    "execution": {
     "iopub.execute_input": "2021-10-12T05:35:35.441083Z",
     "iopub.status.busy": "2021-10-12T05:35:35.440485Z",
     "iopub.status.idle": "2021-10-12T05:35:36.291554Z",
     "shell.execute_reply": "2021-10-12T05:35:36.292093Z"
    },
    "papermill": {
     "duration": 0.864826,
     "end_time": "2021-10-12T05:35:36.292265",
     "exception": false,
     "start_time": "2021-10-12T05:35:35.427439",
     "status": "completed"
    },
    "tags": []
   },
   "outputs": [],
   "source": [
    "import torch\n",
    "import random\n",
    "seed=777\n",
    "random.seed(777)\n",
    "torch.manual_seed(seed)\n",
    "device='cuda' if torch.cuda.is_available() else 'cpu'\n",
    "if device=='cuda':\n",
    "  torch.cuda.manual_seed_all(seed)"
   ]
  },
  {
   "cell_type": "code",
   "execution_count": 6,
   "id": "a4f8819e",
   "metadata": {
    "execution": {
     "iopub.execute_input": "2021-10-12T05:35:36.310410Z",
     "iopub.status.busy": "2021-10-12T05:35:36.309821Z",
     "iopub.status.idle": "2021-10-12T05:35:36.336486Z",
     "shell.execute_reply": "2021-10-12T05:35:36.336950Z"
    },
    "papermill": {
     "duration": 0.037173,
     "end_time": "2021-10-12T05:35:36.337148",
     "exception": false,
     "start_time": "2021-10-12T05:35:36.299975",
     "status": "completed"
    },
    "tags": []
   },
   "outputs": [],
   "source": [
    "import torch\n",
    "x=np.array(x_std)\n",
    "y=np.array(y)\n",
    "test=np.array(test_std)\n",
    "x=torch.FloatTensor(x)\n",
    "y=torch.FloatTensor(y)\n",
    "test=torch.FloatTensor(test)"
   ]
  },
  {
   "cell_type": "code",
   "execution_count": 7,
   "id": "03a08338",
   "metadata": {
    "execution": {
     "iopub.execute_input": "2021-10-12T05:35:36.356639Z",
     "iopub.status.busy": "2021-10-12T05:35:36.355699Z",
     "iopub.status.idle": "2021-10-12T05:35:36.368017Z",
     "shell.execute_reply": "2021-10-12T05:35:36.367506Z"
    },
    "papermill": {
     "duration": 0.023029,
     "end_time": "2021-10-12T05:35:36.368150",
     "exception": false,
     "start_time": "2021-10-12T05:35:36.345121",
     "status": "completed"
    },
    "tags": []
   },
   "outputs": [],
   "source": [
    "linear1=torch.nn.Linear(14,128)\n",
    "linear2=torch.nn.Linear(128,256)\n",
    "linear3=torch.nn.Linear(256,64)\n",
    "linear4=torch.nn.Linear(64,32)\n",
    "linear5=torch.nn.Linear(32,1)\n",
    "\n",
    "relu=torch.nn.ReLU()\n",
    "dropout=torch.nn.Dropout(0.1)"
   ]
  },
  {
   "cell_type": "code",
   "execution_count": 8,
   "id": "cb2aa01b",
   "metadata": {
    "execution": {
     "iopub.execute_input": "2021-10-12T05:35:36.388726Z",
     "iopub.status.busy": "2021-10-12T05:35:36.388160Z",
     "iopub.status.idle": "2021-10-12T05:35:36.439033Z",
     "shell.execute_reply": "2021-10-12T05:35:36.439482Z"
    },
    "papermill": {
     "duration": 0.063528,
     "end_time": "2021-10-12T05:35:36.439650",
     "exception": false,
     "start_time": "2021-10-12T05:35:36.376122",
     "status": "completed"
    },
    "tags": []
   },
   "outputs": [
    {
     "data": {
      "text/plain": [
       "Parameter containing:\n",
       "tensor([[ 0.3459,  0.1497, -0.0206, -0.2978,  0.0841,  0.1782, -0.1743,  0.2510,\n",
       "          0.3327,  0.2294,  0.0673,  0.3381, -0.2895,  0.3038,  0.1379,  0.1645,\n",
       "          0.0424,  0.4188, -0.2111, -0.2560,  0.0095,  0.1103,  0.1654, -0.0692,\n",
       "          0.2748, -0.2246,  0.2565, -0.0802, -0.2142, -0.1114,  0.1294, -0.3466]],\n",
       "       requires_grad=True)"
      ]
     },
     "execution_count": 8,
     "metadata": {},
     "output_type": "execute_result"
    }
   ],
   "source": [
    "torch.nn.init.xavier_uniform_(linear1.weight)\n",
    "torch.nn.init.xavier_uniform_(linear2.weight)\n",
    "torch.nn.init.xavier_uniform_(linear3.weight)\n",
    "torch.nn.init.xavier_uniform_(linear4.weight)\n",
    "torch.nn.init.xavier_uniform_(linear5.weight)\n"
   ]
  },
  {
   "cell_type": "code",
   "execution_count": 9,
   "id": "ae212491",
   "metadata": {
    "execution": {
     "iopub.execute_input": "2021-10-12T05:35:36.463471Z",
     "iopub.status.busy": "2021-10-12T05:35:36.462862Z",
     "iopub.status.idle": "2021-10-12T05:35:36.465388Z",
     "shell.execute_reply": "2021-10-12T05:35:36.465809Z"
    },
    "papermill": {
     "duration": 0.018004,
     "end_time": "2021-10-12T05:35:36.465970",
     "exception": false,
     "start_time": "2021-10-12T05:35:36.447966",
     "status": "completed"
    },
    "tags": []
   },
   "outputs": [],
   "source": [
    "model=torch.nn.Sequential(linear1,relu,dropout,linear2,relu,dropout,linear3,relu,dropout,linear4,relu,dropout,linear5).to(device)\n",
    "optimizer = torch.optim.Adam(params=model.parameters(), lr=0.001)\n",
    "loss=torch.nn.MSELoss().to(device)"
   ]
  },
  {
   "cell_type": "code",
   "execution_count": 10,
   "id": "2d9da711",
   "metadata": {
    "execution": {
     "iopub.execute_input": "2021-10-12T05:35:36.485183Z",
     "iopub.status.busy": "2021-10-12T05:35:36.484637Z",
     "iopub.status.idle": "2021-10-12T05:43:58.449908Z",
     "shell.execute_reply": "2021-10-12T05:43:58.449383Z"
    },
    "papermill": {
     "duration": 501.975772,
     "end_time": "2021-10-12T05:43:58.450087",
     "exception": false,
     "start_time": "2021-10-12T05:35:36.474315",
     "status": "completed"
    },
    "tags": []
   },
   "outputs": [
    {
     "name": "stdout",
     "output_type": "stream",
     "text": [
      "0 422311.34375\n",
      "100 221387.734375\n",
      "200 182396.5625\n",
      "300 164211.859375\n",
      "400 126725.1015625\n",
      "500 73649.4140625\n",
      "600 45658.55859375\n",
      "700 34085.1015625\n",
      "800 28856.970703125\n",
      "900 24406.181640625\n",
      "1000 21737.134765625\n",
      "1100 19986.625\n",
      "1200 19175.0\n",
      "1300 17866.201171875\n",
      "1400 16437.365234375\n",
      "1500 16017.755859375\n",
      "1600 15623.998046875\n",
      "1700 14951.7353515625\n",
      "1800 13984.205078125\n",
      "1900 13850.44140625\n",
      "2000 13078.34765625\n",
      "2100 13323.873046875\n",
      "2200 12892.0\n",
      "2300 12868.1015625\n",
      "2400 12264.3876953125\n",
      "2500 12203.6171875\n",
      "2600 11787.5068359375\n",
      "2700 11605.845703125\n",
      "2800 11518.93359375\n",
      "2900 11315.9326171875\n",
      "3000 11274.87109375\n",
      "3100 10887.7197265625\n",
      "3200 11081.7939453125\n",
      "3300 10935.125\n",
      "3400 10905.685546875\n",
      "3500 10373.255859375\n",
      "3600 10553.9150390625\n",
      "3700 10306.4140625\n",
      "3800 10285.873046875\n",
      "3900 10040.1064453125\n",
      "4000 10045.296875\n",
      "4100 10010.1767578125\n",
      "4200 9624.66796875\n",
      "4300 9876.4892578125\n",
      "4400 9685.42578125\n",
      "4500 9701.869140625\n",
      "4600 9569.7919921875\n",
      "4700 9375.30078125\n",
      "4800 9156.943359375\n",
      "4900 9363.328125\n"
     ]
    }
   ],
   "source": [
    "for stop in range(5000):\n",
    "  optimizer.zero_grad()\n",
    "  h=model(x.to(device))\n",
    "  cost=loss(h,y.unsqueeze(1).to(device))\n",
    "  cost.backward()\n",
    "  optimizer.step()\n",
    "  if stop%100==0:\n",
    "    print(stop,cost.item())"
   ]
  },
  {
   "cell_type": "code",
   "execution_count": 11,
   "id": "b3dbf055",
   "metadata": {
    "execution": {
     "iopub.execute_input": "2021-10-12T05:43:58.496274Z",
     "iopub.status.busy": "2021-10-12T05:43:58.495166Z",
     "iopub.status.idle": "2021-10-12T05:43:58.511229Z",
     "shell.execute_reply": "2021-10-12T05:43:58.511758Z"
    },
    "papermill": {
     "duration": 0.042167,
     "end_time": "2021-10-12T05:43:58.511949",
     "exception": false,
     "start_time": "2021-10-12T05:43:58.469782",
     "status": "completed"
    },
    "tags": []
   },
   "outputs": [],
   "source": [
    "pred=list()\n",
    "with torch.no_grad():\n",
    "  model.eval()\n",
    "  y_test=model(test.to(device))\n",
    "  a,b=torch.max(y_test,dim=1)\n",
    "  pred.extend(a.tolist())"
   ]
  },
  {
   "cell_type": "code",
   "execution_count": 12,
   "id": "1ea5d6c8",
   "metadata": {
    "execution": {
     "iopub.execute_input": "2021-10-12T05:43:58.554393Z",
     "iopub.status.busy": "2021-10-12T05:43:58.553781Z",
     "iopub.status.idle": "2021-10-12T05:43:58.589818Z",
     "shell.execute_reply": "2021-10-12T05:43:58.589232Z"
    },
    "papermill": {
     "duration": 0.058217,
     "end_time": "2021-10-12T05:43:58.589961",
     "exception": false,
     "start_time": "2021-10-12T05:43:58.531744",
     "status": "completed"
    },
    "tags": []
   },
   "outputs": [],
   "source": [
    "submit[\"predict\"]=pred\n",
    "submit.to_csv(\"submit.csv\",index=False)"
   ]
  }
 ],
 "metadata": {
  "kernelspec": {
   "display_name": "Python 3",
   "language": "python",
   "name": "python3"
  },
  "language_info": {
   "codemirror_mode": {
    "name": "ipython",
    "version": 3
   },
   "file_extension": ".py",
   "mimetype": "text/x-python",
   "name": "python",
   "nbconvert_exporter": "python",
   "pygments_lexer": "ipython3",
   "version": "3.7.10"
  },
  "papermill": {
   "default_parameters": {},
   "duration": 512.844238,
   "end_time": "2021-10-12T05:44:00.110496",
   "environment_variables": {},
   "exception": null,
   "input_path": "__notebook__.ipynb",
   "output_path": "__notebook__.ipynb",
   "parameters": {},
   "start_time": "2021-10-12T05:35:27.266258",
   "version": "2.3.3"
  }
 },
 "nbformat": 4,
 "nbformat_minor": 5
}
