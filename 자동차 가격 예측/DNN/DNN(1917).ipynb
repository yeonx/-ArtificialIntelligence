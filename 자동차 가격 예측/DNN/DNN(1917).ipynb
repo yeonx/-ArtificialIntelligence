{
  "nbformat": 4,
  "nbformat_minor": 0,
  "metadata": {
    "colab": {
      "name": "[AI]자동차.ipynb",
      "provenance": []
    },
    "kernelspec": {
      "name": "python3",
      "display_name": "Python 3"
    },
    "language_info": {
      "name": "python"
    }
  },
  "cells": [
    {
      "cell_type": "code",
      "metadata": {
        "colab": {
          "base_uri": "https://localhost:8080/"
        },
        "id": "gSLltg731Nok",
        "outputId": "82c5f587-5ebc-4f3d-ea19-d95d57c4f370"
      },
      "source": [
        "!pip uninstall kaggle -y\n",
        "!pip uninstall --upgrade.pip\n",
        "!pip install kaggle==1.5.6\n",
        "!mkdir -p ~/.kaggle\n",
        "!cp /content/drive/MyDrive/kaggle.json ~/.kaggle\n",
        "!chmod 600 ~/.kaggle/kaggle.json"
      ],
      "execution_count": 55,
      "outputs": [
        {
          "output_type": "stream",
          "name": "stdout",
          "text": [
            "Found existing installation: kaggle 1.5.6\n",
            "Uninstalling kaggle-1.5.6:\n",
            "  Successfully uninstalled kaggle-1.5.6\n",
            "\n",
            "Usage:   \n",
            "  pip3 uninstall [options] <package> ...\n",
            "  pip3 uninstall [options] -r <requirements file> ...\n",
            "\n",
            "no such option: --upgrade.pip\n",
            "Collecting kaggle==1.5.6\n",
            "  Using cached kaggle-1.5.6-py3-none-any.whl\n",
            "Requirement already satisfied: python-slugify in /usr/local/lib/python3.7/dist-packages (from kaggle==1.5.6) (5.0.2)\n",
            "Requirement already satisfied: requests in /usr/local/lib/python3.7/dist-packages (from kaggle==1.5.6) (2.23.0)\n",
            "Requirement already satisfied: certifi in /usr/local/lib/python3.7/dist-packages (from kaggle==1.5.6) (2021.5.30)\n",
            "Requirement already satisfied: python-dateutil in /usr/local/lib/python3.7/dist-packages (from kaggle==1.5.6) (2.8.2)\n",
            "Requirement already satisfied: urllib3<1.25,>=1.21.1 in /usr/local/lib/python3.7/dist-packages (from kaggle==1.5.6) (1.24.3)\n",
            "Requirement already satisfied: six>=1.10 in /usr/local/lib/python3.7/dist-packages (from kaggle==1.5.6) (1.15.0)\n",
            "Requirement already satisfied: tqdm in /usr/local/lib/python3.7/dist-packages (from kaggle==1.5.6) (4.62.3)\n",
            "Requirement already satisfied: text-unidecode>=1.3 in /usr/local/lib/python3.7/dist-packages (from python-slugify->kaggle==1.5.6) (1.3)\n",
            "Requirement already satisfied: chardet<4,>=3.0.2 in /usr/local/lib/python3.7/dist-packages (from requests->kaggle==1.5.6) (3.0.4)\n",
            "Requirement already satisfied: idna<3,>=2.5 in /usr/local/lib/python3.7/dist-packages (from requests->kaggle==1.5.6) (2.10)\n",
            "Installing collected packages: kaggle\n",
            "Successfully installed kaggle-1.5.6\n"
          ]
        }
      ]
    },
    {
      "cell_type": "code",
      "metadata": {
        "colab": {
          "base_uri": "https://localhost:8080/"
        },
        "id": "wsuPyMZd1TMt",
        "outputId": "65bd511f-4928-4507-87b6-17f2cc5bd2c4"
      },
      "source": [
        "!kaggle competitions download -c 2021-ai-w3-p2"
      ],
      "execution_count": 56,
      "outputs": [
        {
          "output_type": "stream",
          "name": "stdout",
          "text": [
            "2021-ai-w3-p2.zip: Skipping, found more recently modified local copy (use --force to force download)\n"
          ]
        }
      ]
    },
    {
      "cell_type": "code",
      "metadata": {
        "colab": {
          "base_uri": "https://localhost:8080/"
        },
        "id": "YIxg6HUJ1TPV",
        "outputId": "d9eeecaf-3546-4eaf-8211-43a3312f9149"
      },
      "source": [
        "!unzip 2021-ai-w3-p2.zip"
      ],
      "execution_count": 57,
      "outputs": [
        {
          "output_type": "stream",
          "name": "stdout",
          "text": [
            "Archive:  2021-ai-w3-p2.zip\n",
            "replace sample_submit.csv? [y]es, [n]o, [A]ll, [N]one, [r]ename: "
          ]
        }
      ]
    },
    {
      "cell_type": "code",
      "metadata": {
        "id": "PkqP6ySG1TRu"
      },
      "source": [
        "import pandas as pd\n",
        "import numpy as np\n",
        "\n",
        "train=pd.read_csv(\"train_data.csv\")\n",
        "test=pd.read_csv(\"test_data.csv\")\n",
        "submit=pd.read_csv(\"sample_submit.csv\")"
      ],
      "execution_count": 71,
      "outputs": []
    },
    {
      "cell_type": "code",
      "metadata": {
        "colab": {
          "base_uri": "https://localhost:8080/",
          "height": 420
        },
        "id": "1gEDuryZ1TVz",
        "outputId": "96ec4aa6-8f13-463a-a87a-dba01296ea26"
      },
      "source": [
        "test"
      ],
      "execution_count": 72,
      "outputs": [
        {
          "output_type": "execute_result",
          "data": {
            "text/html": [
              "<div>\n",
              "<style scoped>\n",
              "    .dataframe tbody tr th:only-of-type {\n",
              "        vertical-align: middle;\n",
              "    }\n",
              "\n",
              "    .dataframe tbody tr th {\n",
              "        vertical-align: top;\n",
              "    }\n",
              "\n",
              "    .dataframe thead th {\n",
              "        text-align: right;\n",
              "    }\n",
              "</style>\n",
              "<table border=\"1\" class=\"dataframe\">\n",
              "  <thead>\n",
              "    <tr style=\"text-align: right;\">\n",
              "      <th></th>\n",
              "      <th>ID</th>\n",
              "      <th>company</th>\n",
              "      <th>model</th>\n",
              "      <th>year</th>\n",
              "      <th>transmission</th>\n",
              "      <th>mileage</th>\n",
              "      <th>fueltype</th>\n",
              "      <th>tax</th>\n",
              "      <th>mpg</th>\n",
              "      <th>engineSize</th>\n",
              "    </tr>\n",
              "  </thead>\n",
              "  <tbody>\n",
              "    <tr>\n",
              "      <th>0</th>\n",
              "      <td>0</td>\n",
              "      <td>2</td>\n",
              "      <td>Ka+</td>\n",
              "      <td>2017</td>\n",
              "      <td>1</td>\n",
              "      <td>10150</td>\n",
              "      <td>4</td>\n",
              "      <td>145</td>\n",
              "      <td>57.7</td>\n",
              "      <td>1.2</td>\n",
              "    </tr>\n",
              "    <tr>\n",
              "      <th>1</th>\n",
              "      <td>1</td>\n",
              "      <td>2</td>\n",
              "      <td>Kuga</td>\n",
              "      <td>2013</td>\n",
              "      <td>1</td>\n",
              "      <td>50216</td>\n",
              "      <td>0</td>\n",
              "      <td>145</td>\n",
              "      <td>53.3</td>\n",
              "      <td>2.0</td>\n",
              "    </tr>\n",
              "    <tr>\n",
              "      <th>2</th>\n",
              "      <td>2</td>\n",
              "      <td>3</td>\n",
              "      <td>Q5</td>\n",
              "      <td>2016</td>\n",
              "      <td>1</td>\n",
              "      <td>34189</td>\n",
              "      <td>0</td>\n",
              "      <td>200</td>\n",
              "      <td>47.9</td>\n",
              "      <td>2.0</td>\n",
              "    </tr>\n",
              "    <tr>\n",
              "      <th>3</th>\n",
              "      <td>3</td>\n",
              "      <td>1</td>\n",
              "      <td>I10</td>\n",
              "      <td>2020</td>\n",
              "      <td>1</td>\n",
              "      <td>1900</td>\n",
              "      <td>4</td>\n",
              "      <td>145</td>\n",
              "      <td>56.5</td>\n",
              "      <td>1.0</td>\n",
              "    </tr>\n",
              "    <tr>\n",
              "      <th>4</th>\n",
              "      <td>4</td>\n",
              "      <td>0</td>\n",
              "      <td>3 Series</td>\n",
              "      <td>2014</td>\n",
              "      <td>0</td>\n",
              "      <td>79809</td>\n",
              "      <td>0</td>\n",
              "      <td>20</td>\n",
              "      <td>68.9</td>\n",
              "      <td>2.0</td>\n",
              "    </tr>\n",
              "    <tr>\n",
              "      <th>...</th>\n",
              "      <td>...</td>\n",
              "      <td>...</td>\n",
              "      <td>...</td>\n",
              "      <td>...</td>\n",
              "      <td>...</td>\n",
              "      <td>...</td>\n",
              "      <td>...</td>\n",
              "      <td>...</td>\n",
              "      <td>...</td>\n",
              "      <td>...</td>\n",
              "    </tr>\n",
              "    <tr>\n",
              "      <th>16826</th>\n",
              "      <td>16826</td>\n",
              "      <td>2</td>\n",
              "      <td>Grand Tourneo Connect</td>\n",
              "      <td>2016</td>\n",
              "      <td>0</td>\n",
              "      <td>29000</td>\n",
              "      <td>0</td>\n",
              "      <td>125</td>\n",
              "      <td>56.6</td>\n",
              "      <td>1.5</td>\n",
              "    </tr>\n",
              "    <tr>\n",
              "      <th>16827</th>\n",
              "      <td>16827</td>\n",
              "      <td>4</td>\n",
              "      <td>Yaris</td>\n",
              "      <td>2019</td>\n",
              "      <td>1</td>\n",
              "      <td>2812</td>\n",
              "      <td>4</td>\n",
              "      <td>145</td>\n",
              "      <td>47.9</td>\n",
              "      <td>1.5</td>\n",
              "    </tr>\n",
              "    <tr>\n",
              "      <th>16828</th>\n",
              "      <td>16828</td>\n",
              "      <td>2</td>\n",
              "      <td>Kuga</td>\n",
              "      <td>2017</td>\n",
              "      <td>1</td>\n",
              "      <td>46800</td>\n",
              "      <td>0</td>\n",
              "      <td>150</td>\n",
              "      <td>54.3</td>\n",
              "      <td>2.0</td>\n",
              "    </tr>\n",
              "    <tr>\n",
              "      <th>16829</th>\n",
              "      <td>16829</td>\n",
              "      <td>3</td>\n",
              "      <td>A7</td>\n",
              "      <td>2017</td>\n",
              "      <td>3</td>\n",
              "      <td>14562</td>\n",
              "      <td>0</td>\n",
              "      <td>145</td>\n",
              "      <td>52.3</td>\n",
              "      <td>3.0</td>\n",
              "    </tr>\n",
              "    <tr>\n",
              "      <th>16830</th>\n",
              "      <td>16830</td>\n",
              "      <td>3</td>\n",
              "      <td>Q3</td>\n",
              "      <td>2014</td>\n",
              "      <td>1</td>\n",
              "      <td>79389</td>\n",
              "      <td>0</td>\n",
              "      <td>165</td>\n",
              "      <td>50.4</td>\n",
              "      <td>2.0</td>\n",
              "    </tr>\n",
              "  </tbody>\n",
              "</table>\n",
              "<p>16831 rows × 10 columns</p>\n",
              "</div>"
            ],
            "text/plain": [
              "          ID  company                   model  ...  tax   mpg  engineSize\n",
              "0          0        2                     Ka+  ...  145  57.7         1.2\n",
              "1          1        2                    Kuga  ...  145  53.3         2.0\n",
              "2          2        3                      Q5  ...  200  47.9         2.0\n",
              "3          3        1                     I10  ...  145  56.5         1.0\n",
              "4          4        0                3 Series  ...   20  68.9         2.0\n",
              "...      ...      ...                     ...  ...  ...   ...         ...\n",
              "16826  16826        2   Grand Tourneo Connect  ...  125  56.6         1.5\n",
              "16827  16827        4                   Yaris  ...  145  47.9         1.5\n",
              "16828  16828        2                    Kuga  ...  150  54.3         2.0\n",
              "16829  16829        3                      A7  ...  145  52.3         3.0\n",
              "16830  16830        3                      Q3  ...  165  50.4         2.0\n",
              "\n",
              "[16831 rows x 10 columns]"
            ]
          },
          "metadata": {},
          "execution_count": 72
        }
      ]
    },
    {
      "cell_type": "code",
      "metadata": {
        "id": "FRgeeAh71TYe"
      },
      "source": [
        "x=train.drop([\"ID\",\"price\"],axis=1)\n",
        "test=test.drop([\"ID\"],axis=1)\n",
        "y=train[\"price\"]"
      ],
      "execution_count": 73,
      "outputs": []
    },
    {
      "cell_type": "code",
      "metadata": {
        "id": "lOcYAU8e3yW9"
      },
      "source": [
        "from sklearn import preprocessing\n",
        "le = preprocessing.LabelEncoder()\n",
        "le.fit(x[\"model\"])\n",
        "\n",
        "x[\"model\"]=le.transform(x[\"model\"])\n",
        "test[\"model\"]=le.transform(test[\"model\"])\n",
        "x_model_re=le.inverse_transform(x[\"model\"])"
      ],
      "execution_count": 74,
      "outputs": []
    },
    {
      "cell_type": "code",
      "metadata": {
        "id": "hO0vHeYC2OSM"
      },
      "source": [
        " from sklearn.preprocessing import StandardScaler\n",
        "\n",
        "scaler = StandardScaler()\n",
        "scaler.fit(x)\n",
        "\n",
        "x_std=scaler.transform(x)\n",
        "test_std=scaler.transform(test)"
      ],
      "execution_count": 75,
      "outputs": []
    },
    {
      "cell_type": "code",
      "metadata": {
        "id": "urMB5cAF4y09"
      },
      "source": [
        "x[\"year\"]=x_std[:,2]\n",
        "test[\"year\"]=test_std[:,2]\n",
        "x[\"mileage\"]=x_std[:,4]\n",
        "test[\"mileage\"]=test_std[:,4]\n",
        "x[\"tax\"]=x_std[:,6]\n",
        "test[\"tax\"]=test_std[:,6]"
      ],
      "execution_count": 76,
      "outputs": []
    },
    {
      "cell_type": "code",
      "metadata": {
        "id": "Me9c3THg4-_v"
      },
      "source": [
        "import torch\n",
        "import random\n",
        "seed=777\n",
        "random.seed(777)\n",
        "torch.manual_seed(seed)\n",
        "device='cuda' if torch.cuda.is_available() else 'cpu'\n",
        "if device=='cuda':\n",
        "  torch.cuda.manual_seed_all(seed)"
      ],
      "execution_count": 77,
      "outputs": []
    },
    {
      "cell_type": "code",
      "metadata": {
        "id": "F7TZiCs1-4eQ"
      },
      "source": [
        "import torch\n",
        "x=np.array(x)\n",
        "y=np.array(y)\n",
        "test=np.array(test)\n",
        "x=torch.FloatTensor(x)\n",
        "y=torch.FloatTensor(y)\n",
        "test=torch.FloatTensor(test)"
      ],
      "execution_count": 78,
      "outputs": []
    },
    {
      "cell_type": "code",
      "metadata": {
        "id": "mwfC7nIY609U"
      },
      "source": [
        "linear1=torch.nn.Linear(9,128)\n",
        "linear2=torch.nn.Linear(128,256)\n",
        "linear3=torch.nn.Linear(256,128)\n",
        "linear4=torch.nn.Linear(128,1)\n",
        "\n",
        "\n",
        "relu=torch.nn.ReLU()\n",
        "dropout=torch.nn.Dropout(0.1)"
      ],
      "execution_count": 79,
      "outputs": []
    },
    {
      "cell_type": "code",
      "metadata": {
        "colab": {
          "base_uri": "https://localhost:8080/"
        },
        "id": "Hv19fYqX_cmp",
        "outputId": "cb7e7896-3a1c-42fd-85e7-dc74d0c5af4e"
      },
      "source": [
        "torch.nn.init.xavier_uniform_(linear1.weight)\n",
        "torch.nn.init.xavier_uniform_(linear2.weight)\n",
        "torch.nn.init.xavier_uniform_(linear3.weight)\n",
        "torch.nn.init.xavier_uniform_(linear4.weight)"
      ],
      "execution_count": 80,
      "outputs": [
        {
          "output_type": "execute_result",
          "data": {
            "text/plain": [
              "Parameter containing:\n",
              "tensor([[-0.2090,  0.0153,  0.1558, -0.2023,  0.0022, -0.0658,  0.1244,  0.1227,\n",
              "         -0.0996, -0.2036, -0.0149,  0.0817, -0.0533,  0.0320, -0.1787, -0.1676,\n",
              "          0.1320, -0.1222, -0.0065,  0.0253, -0.1849,  0.0357, -0.1274,  0.0125,\n",
              "         -0.0358,  0.0119,  0.2052,  0.1454, -0.0017,  0.1467,  0.0279, -0.1177,\n",
              "         -0.1610,  0.0065, -0.1404, -0.1115, -0.1797, -0.0729,  0.0807,  0.0006,\n",
              "         -0.0316, -0.0381, -0.2143, -0.1191,  0.0441,  0.1188,  0.1391, -0.0571,\n",
              "          0.0849, -0.1895,  0.0847, -0.1619, -0.0043, -0.1496,  0.0319,  0.0760,\n",
              "         -0.0096, -0.0690,  0.0796, -0.1493, -0.0660,  0.1194, -0.1827, -0.1484,\n",
              "          0.0728,  0.0185,  0.0886, -0.0021,  0.0961,  0.2020, -0.0327, -0.1827,\n",
              "          0.1346,  0.1911, -0.1174,  0.1060, -0.1562, -0.0535,  0.1059, -0.0648,\n",
              "         -0.1645,  0.1110, -0.1304,  0.1104,  0.2121,  0.0036, -0.0929,  0.0116,\n",
              "          0.1100,  0.2008, -0.1269,  0.0867,  0.0562,  0.1171,  0.1208,  0.0467,\n",
              "         -0.1036,  0.2015,  0.2051,  0.0945, -0.0770,  0.0949, -0.1831, -0.1571,\n",
              "          0.1470, -0.2095,  0.0776, -0.0749,  0.1210, -0.0043, -0.0638, -0.1760,\n",
              "          0.0966, -0.0236,  0.1417,  0.1432,  0.0833,  0.0680,  0.1286, -0.0989,\n",
              "          0.0290, -0.0113, -0.1106,  0.0497, -0.0387,  0.1597,  0.0014,  0.0043]],\n",
              "       requires_grad=True)"
            ]
          },
          "metadata": {},
          "execution_count": 80
        }
      ]
    },
    {
      "cell_type": "code",
      "metadata": {
        "id": "dO_v44kZ9Nz0"
      },
      "source": [
        "model=torch.nn.Sequential(linear1,relu,dropout,linear2,relu,dropout,linear3,relu,dropout,linear4).to(device)\n",
        "optimizer = torch.optim.Adam(params=model.parameters(), lr=0.01)\n",
        "loss=torch.nn.MSELoss().to(device)"
      ],
      "execution_count": 81,
      "outputs": []
    },
    {
      "cell_type": "code",
      "metadata": {
        "colab": {
          "base_uri": "https://localhost:8080/"
        },
        "id": "dB7g4KU69N8_",
        "outputId": "f675227a-e1e2-4c8e-e271-46d5cab45698"
      },
      "source": [
        "for stop in range(1000):\n",
        "  optimizer.zero_grad()\n",
        "  h=model(x.to(device))\n",
        "  cost=loss(h,y.unsqueeze(1).to(device))\n",
        "  cost.backward()\n",
        "  optimizer.step()\n",
        "  if stop%10==0:\n",
        "    print(stop,cost.item())"
      ],
      "execution_count": 82,
      "outputs": [
        {
          "output_type": "stream",
          "name": "stdout",
          "text": [
            "0 383160256.0\n",
            "10 146141584.0\n",
            "20 146703392.0\n",
            "30 118881952.0\n",
            "40 104671480.0\n",
            "50 92768040.0\n",
            "60 74949608.0\n",
            "70 57797204.0\n",
            "80 46366880.0\n",
            "90 40389500.0\n",
            "100 34525172.0\n",
            "110 31191166.0\n",
            "120 27809186.0\n",
            "130 25097116.0\n",
            "140 23190148.0\n",
            "150 22029268.0\n",
            "160 21242678.0\n",
            "170 20628596.0\n",
            "180 20323104.0\n",
            "190 19733068.0\n",
            "200 19505052.0\n",
            "210 19144514.0\n",
            "220 18891236.0\n",
            "230 19084232.0\n",
            "240 18821126.0\n",
            "250 18604214.0\n",
            "260 18470322.0\n",
            "270 18534092.0\n",
            "280 18659376.0\n",
            "290 18343226.0\n",
            "300 17761276.0\n",
            "310 18023858.0\n",
            "320 17462856.0\n",
            "330 17530282.0\n",
            "340 17535424.0\n",
            "350 17561022.0\n",
            "360 17348494.0\n",
            "370 17227226.0\n",
            "380 16899566.0\n",
            "390 16728032.0\n",
            "400 16458055.0\n",
            "410 16327425.0\n",
            "420 16098822.0\n",
            "430 16129873.0\n",
            "440 16258490.0\n",
            "450 15661462.0\n",
            "460 15611946.0\n",
            "470 15729015.0\n",
            "480 15598047.0\n",
            "490 15167900.0\n",
            "500 15393020.0\n",
            "510 15035985.0\n",
            "520 15445661.0\n",
            "530 14985062.0\n",
            "540 15022313.0\n",
            "550 15306716.0\n",
            "560 14641605.0\n",
            "570 14741875.0\n",
            "580 14790822.0\n",
            "590 14538635.0\n",
            "600 14492642.0\n",
            "610 14613157.0\n",
            "620 14533742.0\n",
            "630 14399989.0\n",
            "640 14245765.0\n",
            "650 14610004.0\n",
            "660 14280269.0\n",
            "670 14403058.0\n",
            "680 14111981.0\n",
            "690 14231383.0\n",
            "700 14328534.0\n",
            "710 13871980.0\n",
            "720 13918119.0\n",
            "730 13754467.0\n",
            "740 14109057.0\n",
            "750 14446299.0\n",
            "760 13576318.0\n",
            "770 13582337.0\n",
            "780 14030708.0\n",
            "790 13302251.0\n",
            "800 13823830.0\n",
            "810 13451163.0\n",
            "820 13670777.0\n",
            "830 13708630.0\n",
            "840 13323317.0\n",
            "850 13491198.0\n",
            "860 12766623.0\n",
            "870 13340072.0\n",
            "880 13416961.0\n",
            "890 13377691.0\n",
            "900 13525240.0\n",
            "910 13073711.0\n",
            "920 13159817.0\n",
            "930 12931954.0\n",
            "940 12656370.0\n",
            "950 12778690.0\n",
            "960 12627490.0\n",
            "970 12636142.0\n",
            "980 13159479.0\n",
            "990 12545674.0\n"
          ]
        }
      ]
    },
    {
      "cell_type": "code",
      "metadata": {
        "id": "KMHwP9Tg-2M6"
      },
      "source": [
        "pred=list()\n",
        "with torch.no_grad():\n",
        "  model.eval()\n",
        "  y_test=model(test)\n",
        "  a,b=torch.max(y_test,dim=1)\n",
        "  pred.extend(a.tolist())"
      ],
      "execution_count": 83,
      "outputs": []
    },
    {
      "cell_type": "code",
      "metadata": {
        "id": "OXrVJFuMANgw"
      },
      "source": [
        "submit[\"price\"]=pred"
      ],
      "execution_count": 84,
      "outputs": []
    },
    {
      "cell_type": "code",
      "metadata": {
        "colab": {
          "base_uri": "https://localhost:8080/"
        },
        "id": "tURJETIQANpe",
        "outputId": "fed018df-8d7b-442b-bb75-f8a66b02b258"
      },
      "source": [
        "submit[\"price\"].max()"
      ],
      "execution_count": 85,
      "outputs": [
        {
          "output_type": "execute_result",
          "data": {
            "text/plain": [
              "83053.5859375"
            ]
          },
          "metadata": {},
          "execution_count": 85
        }
      ]
    },
    {
      "cell_type": "code",
      "metadata": {
        "colab": {
          "base_uri": "https://localhost:8080/"
        },
        "id": "iYb9R0_tAZps",
        "outputId": "d8d66eee-3af6-4677-9b74-4de1dfeabb32"
      },
      "source": [
        "submit.to_csv(\"submit.csv\",index=False)\n",
        "!kaggle competitions submit -c 2021-ai-w3-p2 -f submit.csv -m \"Message\""
      ],
      "execution_count": 86,
      "outputs": [
        {
          "output_type": "stream",
          "name": "stdout",
          "text": [
            "Warning: Looks like you're using an outdated API Version, please consider updating (server 1.5.12 / client 1.5.6)\n",
            "100% 337k/337k [00:03<00:00, 108kB/s]\n",
            "Successfully submitted to 자동차 가격 예측"
          ]
        }
      ]
    },
    {
      "cell_type": "code",
      "metadata": {
        "id": "RTzdGImgAis_"
      },
      "source": [
        ""
      ],
      "execution_count": null,
      "outputs": []
    }
  ]
}