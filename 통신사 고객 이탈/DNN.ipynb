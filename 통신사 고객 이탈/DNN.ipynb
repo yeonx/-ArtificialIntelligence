{
  "nbformat": 4,
  "nbformat_minor": 0,
  "metadata": {
    "colab": {
      "name": "통신사_ai.ipynb",
      "provenance": [],
      "collapsed_sections": []
    },
    "kernelspec": {
      "name": "python3",
      "display_name": "Python 3"
    },
    "language_info": {
      "name": "python"
    }
  },
  "cells": [
    {
      "cell_type": "code",
      "metadata": {
        "colab": {
          "base_uri": "https://localhost:8080/"
        },
        "id": "BTojkJ9PS7Ao",
        "outputId": "1f44c2b7-0ab5-4f7a-df83-bee7f4a371ba"
      },
      "source": [
        "!pip install kaggle==1.5.6\n",
        "!mkdir -p ~/.kaggle\n",
        "!cp /content/drive/MyDrive/kaggle.json ~/.kaggle\n",
        "!chmod 600 ~/.kaggle/kaggle.json"
      ],
      "execution_count": 122,
      "outputs": [
        {
          "output_type": "stream",
          "name": "stdout",
          "text": [
            "Requirement already satisfied: kaggle==1.5.6 in /usr/local/lib/python3.7/dist-packages (1.5.6)\n",
            "Requirement already satisfied: tqdm in /usr/local/lib/python3.7/dist-packages (from kaggle==1.5.6) (4.62.3)\n",
            "Requirement already satisfied: requests in /usr/local/lib/python3.7/dist-packages (from kaggle==1.5.6) (2.23.0)\n",
            "Requirement already satisfied: urllib3<1.25,>=1.21.1 in /usr/local/lib/python3.7/dist-packages (from kaggle==1.5.6) (1.24.3)\n",
            "Requirement already satisfied: python-slugify in /usr/local/lib/python3.7/dist-packages (from kaggle==1.5.6) (5.0.2)\n",
            "Requirement already satisfied: six>=1.10 in /usr/local/lib/python3.7/dist-packages (from kaggle==1.5.6) (1.15.0)\n",
            "Requirement already satisfied: certifi in /usr/local/lib/python3.7/dist-packages (from kaggle==1.5.6) (2021.5.30)\n",
            "Requirement already satisfied: python-dateutil in /usr/local/lib/python3.7/dist-packages (from kaggle==1.5.6) (2.8.2)\n",
            "Requirement already satisfied: text-unidecode>=1.3 in /usr/local/lib/python3.7/dist-packages (from python-slugify->kaggle==1.5.6) (1.3)\n",
            "Requirement already satisfied: chardet<4,>=3.0.2 in /usr/local/lib/python3.7/dist-packages (from requests->kaggle==1.5.6) (3.0.4)\n",
            "Requirement already satisfied: idna<3,>=2.5 in /usr/local/lib/python3.7/dist-packages (from requests->kaggle==1.5.6) (2.10)\n"
          ]
        }
      ]
    },
    {
      "cell_type": "code",
      "metadata": {
        "colab": {
          "base_uri": "https://localhost:8080/"
        },
        "id": "rC6VMO96Tp-0",
        "outputId": "bce15b90-b06e-43c0-ec82-ca43a6dd6a7e"
      },
      "source": [
        "!kaggle competitions download -c 2021-ml-midterm-p2"
      ],
      "execution_count": 123,
      "outputs": [
        {
          "output_type": "stream",
          "name": "stdout",
          "text": [
            "2021-ml-midterm-p2.zip: Skipping, found more recently modified local copy (use --force to force download)\n"
          ]
        }
      ]
    },
    {
      "cell_type": "code",
      "metadata": {
        "colab": {
          "base_uri": "https://localhost:8080/"
        },
        "id": "ztGuZzmiTsz1",
        "outputId": "896fda37-9e44-411c-87bb-fe6b4ad5c1a2"
      },
      "source": [
        "!unzip 2021-ml-midterm-p2.zip"
      ],
      "execution_count": 124,
      "outputs": [
        {
          "output_type": "stream",
          "name": "stdout",
          "text": [
            "Archive:  2021-ml-midterm-p2.zip\n",
            "replace sample_submit.csv? [y]es, [n]o, [A]ll, [N]one, [r]ename: "
          ]
        }
      ]
    },
    {
      "cell_type": "code",
      "metadata": {
        "id": "Lq9jo8aaTxRS"
      },
      "source": [
        "import pandas as pd\n",
        "import numpy as np\n",
        "\n",
        "train=pd.read_csv(\"train.csv\")\n",
        "test=pd.read_csv(\"test.csv\")\n",
        "submit=pd.read_csv(\"sample_submit.csv\")"
      ],
      "execution_count": 165,
      "outputs": []
    },
    {
      "cell_type": "code",
      "metadata": {
        "id": "ceabALLUUKRL"
      },
      "source": [
        "x=train.drop(['index', 'Unnamed: 0','customerID','Churn'],axis=1)\n",
        "test=test.drop(['index', 'Unnamed: 0','customerID'],axis=1)\n",
        "y=train['Churn']"
      ],
      "execution_count": 166,
      "outputs": []
    },
    {
      "cell_type": "code",
      "metadata": {
        "id": "y5-806RrUxa_"
      },
      "source": [
        "data_li=['gender', \n",
        "       'Partner', 'Dependents',  'PhoneService', 'MultipleLines',\n",
        "       'InternetService', 'OnlineSecurity', 'OnlineBackup', 'DeviceProtection',\n",
        "       'TechSupport', 'StreamingTV', 'StreamingMovies', 'Contract',\n",
        "       'PaperlessBilling', 'PaymentMethod']"
      ],
      "execution_count": 167,
      "outputs": []
    },
    {
      "cell_type": "code",
      "metadata": {
        "id": "GrrAwGUjVL_T"
      },
      "source": [
        "from sklearn import preprocessing\n",
        "le = preprocessing.LabelEncoder()\n",
        "for i in data_li:\n",
        "  le.fit(x[i])\n",
        "  x[i]=le.transform(x[i])\n",
        "  test[i]=le.transform(test[i])"
      ],
      "execution_count": 168,
      "outputs": []
    },
    {
      "cell_type": "code",
      "metadata": {
        "colab": {
          "base_uri": "https://localhost:8080/"
        },
        "id": "zqw3ZenYa6qy",
        "outputId": "c38c5d62-5cb8-435b-dc85-6d431c7fe4e8"
      },
      "source": [
        "\n",
        "print(x['TotalCharges'])\n",
        "\n",
        "for i in range(len(x['TotalCharges'])):\n",
        "  try:\n",
        "    x['TotalCharges'][i]=float(x['TotalCharges'][i])\n",
        "  except:\n",
        "    \n",
        "    print(\"%s is not number,it's index=%d\"%(x['TotalCharges'][i],i))\n",
        "    x['TotalCharges'][i]=0\n",
        "x['TotalCharges']=x['TotalCharges'].astype(float)\n",
        "\n",
        "print(x['TotalCharges'])"
      ],
      "execution_count": 169,
      "outputs": [
        {
          "output_type": "stream",
          "name": "stdout",
          "text": [
            "0       1734.65\n",
            "1        3973.2\n",
            "2       2869.85\n",
            "3         238.5\n",
            "4         119.5\n",
            "         ...   \n",
            "4783         95\n",
            "4784     2198.3\n",
            "4785     306.05\n",
            "4786    1200.15\n",
            "4787      457.3\n",
            "Name: TotalCharges, Length: 4788, dtype: object\n",
            "  is not number,it's index=280\n",
            "  is not number,it's index=512\n"
          ]
        },
        {
          "output_type": "stream",
          "name": "stderr",
          "text": [
            "/usr/local/lib/python3.7/dist-packages/ipykernel_launcher.py:6: SettingWithCopyWarning: \n",
            "A value is trying to be set on a copy of a slice from a DataFrame\n",
            "\n",
            "See the caveats in the documentation: https://pandas.pydata.org/pandas-docs/stable/user_guide/indexing.html#returning-a-view-versus-a-copy\n",
            "  \n",
            "/usr/local/lib/python3.7/dist-packages/ipykernel_launcher.py:10: SettingWithCopyWarning: \n",
            "A value is trying to be set on a copy of a slice from a DataFrame\n",
            "\n",
            "See the caveats in the documentation: https://pandas.pydata.org/pandas-docs/stable/user_guide/indexing.html#returning-a-view-versus-a-copy\n",
            "  # Remove the CWD from sys.path while we load stuff.\n"
          ]
        },
        {
          "output_type": "stream",
          "name": "stdout",
          "text": [
            "  is not number,it's index=2213\n",
            "  is not number,it's index=2470\n",
            "  is not number,it's index=2617\n",
            "  is not number,it's index=3457\n",
            "  is not number,it's index=4297\n",
            "  is not number,it's index=4303\n",
            "  is not number,it's index=4555\n",
            "  is not number,it's index=4759\n",
            "0       1734.65\n",
            "1       3973.20\n",
            "2       2869.85\n",
            "3        238.50\n",
            "4        119.50\n",
            "         ...   \n",
            "4783      95.00\n",
            "4784    2198.30\n",
            "4785     306.05\n",
            "4786    1200.15\n",
            "4787     457.30\n",
            "Name: TotalCharges, Length: 4788, dtype: float64\n"
          ]
        }
      ]
    },
    {
      "cell_type": "code",
      "metadata": {
        "id": "3tgIYWV2cCgK"
      },
      "source": [
        "import torch\n",
        "seed=777\n",
        "torch.manual_seed(seed)\n",
        "device='cuda' if torch.cuda.is_available() else 'cpu'\n",
        "\n",
        "if device=='cuda':\n",
        "  torch.cuda.manual_seed_all(seed)"
      ],
      "execution_count": 170,
      "outputs": []
    },
    {
      "cell_type": "code",
      "metadata": {
        "colab": {
          "base_uri": "https://localhost:8080/"
        },
        "id": "xYAHAwhwgisO",
        "outputId": "8a1c32af-7471-404c-fe70-500007ee5776"
      },
      "source": [
        "for i in range(len(y)):\n",
        "  if y[i]=='No':\n",
        "    y[i]=0\n",
        "  else:\n",
        "    y[i]=1"
      ],
      "execution_count": 171,
      "outputs": [
        {
          "output_type": "stream",
          "name": "stderr",
          "text": [
            "/usr/local/lib/python3.7/dist-packages/ipykernel_launcher.py:3: SettingWithCopyWarning: \n",
            "A value is trying to be set on a copy of a slice from a DataFrame\n",
            "\n",
            "See the caveats in the documentation: https://pandas.pydata.org/pandas-docs/stable/user_guide/indexing.html#returning-a-view-versus-a-copy\n",
            "  This is separate from the ipykernel package so we can avoid doing imports until\n",
            "/usr/local/lib/python3.7/dist-packages/ipykernel_launcher.py:5: SettingWithCopyWarning: \n",
            "A value is trying to be set on a copy of a slice from a DataFrame\n",
            "\n",
            "See the caveats in the documentation: https://pandas.pydata.org/pandas-docs/stable/user_guide/indexing.html#returning-a-view-versus-a-copy\n",
            "  \"\"\"\n"
          ]
        }
      ]
    },
    {
      "cell_type": "code",
      "metadata": {
        "id": "C069ValIgqs5"
      },
      "source": [
        "y=y.astype(\"int\")"
      ],
      "execution_count": 172,
      "outputs": []
    },
    {
      "cell_type": "code",
      "metadata": {
        "id": "qb5TEbBq0wnz"
      },
      "source": [
        "from sklearn.preprocessing import MinMaxScaler\n",
        "scaler = MinMaxScaler()\n",
        "scaler.fit(x)\n",
        "x_std=scaler.transform(x)\n",
        "test_std=scaler.transform(test)"
      ],
      "execution_count": 173,
      "outputs": []
    },
    {
      "cell_type": "code",
      "metadata": {
        "id": "xaI5B8PeZk_i"
      },
      "source": [
        "x=torch.FloatTensor(np.array(x_std))\n",
        "test=torch.FloatTensor(np.array(test_std))\n",
        "y=torch.LongTensor(np.array(y))"
      ],
      "execution_count": 174,
      "outputs": []
    },
    {
      "cell_type": "code",
      "metadata": {
        "id": "8hMIMCdTgtc5"
      },
      "source": [
        "linear1=torch.nn.Linear(19,32)\n",
        "linear2=torch.nn.Linear(32,64)\n",
        "linear3=torch.nn.Linear(64,32)\n",
        "linear4=torch.nn.Linear(32,16)\n",
        "linear5=torch.nn.Linear(16,2)\n",
        "\n",
        "relu=torch.nn.ReLU()\n",
        "\n",
        "dropout=torch.nn.Dropout(p=0.3)\n",
        "\n",
        "loss=torch.nn.CrossEntropyLoss()"
      ],
      "execution_count": 196,
      "outputs": []
    },
    {
      "cell_type": "code",
      "metadata": {
        "colab": {
          "base_uri": "https://localhost:8080/"
        },
        "id": "1QmWJCpqzHNA",
        "outputId": "b25d6c9c-f026-4cac-b75a-5ab4ff91513f"
      },
      "source": [
        "torch.nn.init.xavier_normal_(linear1.weight)\n",
        "torch.nn.init.xavier_normal_(linear2.weight)\n",
        "torch.nn.init.xavier_normal_(linear3.weight)\n",
        "torch.nn.init.xavier_normal_(linear4.weight)\n",
        "torch.nn.init.xavier_normal_(linear5.weight)"
      ],
      "execution_count": 197,
      "outputs": [
        {
          "output_type": "execute_result",
          "data": {
            "text/plain": [
              "Parameter containing:\n",
              "tensor([[-0.4432,  0.5090,  0.6093,  0.0856,  0.0849, -0.2146,  0.1853,  0.4490,\n",
              "         -0.5094,  0.1704, -0.1054,  0.4263, -0.2668, -0.0846,  0.2675,  0.0939],\n",
              "        [ 0.0814,  0.1537, -0.4273, -0.5371,  0.0990, -0.1462,  0.3558,  0.1380,\n",
              "          0.2621, -0.3046,  0.1807, -0.1464, -0.9306,  0.4191,  0.1172, -0.4769]],\n",
              "       requires_grad=True)"
            ]
          },
          "metadata": {},
          "execution_count": 197
        }
      ]
    },
    {
      "cell_type": "code",
      "metadata": {
        "id": "HmiC5CXQyh_c"
      },
      "source": [
        "model=torch.nn.Sequential(linear1,relu,dropout,linear2,relu,dropout,linear3,relu,dropout,linear4,relu,dropout,linear5)\n",
        "\n",
        "optimizer = torch.optim.Adam(params=model.parameters(), lr=0.001)"
      ],
      "execution_count": 198,
      "outputs": []
    },
    {
      "cell_type": "code",
      "metadata": {
        "colab": {
          "base_uri": "https://localhost:8080/"
        },
        "id": "yaizvKqHzDAT",
        "outputId": "9ec9dba1-aad9-4ae0-b871-f51f51b37407"
      },
      "source": [
        "model.train()\n",
        "\n",
        "for stop in range(500):\n",
        "  optimizer.zero_grad()\n",
        "  h=model(x.to(device))\n",
        "  cost=loss(h,y.to(device))\n",
        "  cost.backward()\n",
        "  optimizer.step()\n",
        "  if stop%100==0:\n",
        "    print(stop,cost.item())"
      ],
      "execution_count": 199,
      "outputs": [
        {
          "output_type": "stream",
          "name": "stdout",
          "text": [
            "0 0.6186935305595398\n",
            "100 0.46363624930381775\n",
            "200 0.4422573149204254\n",
            "300 0.42452800273895264\n",
            "400 0.42026039958000183\n"
          ]
        }
      ]
    },
    {
      "cell_type": "code",
      "metadata": {
        "id": "GEnh426fzoul"
      },
      "source": [
        "pred=list()\n",
        "with torch.no_grad():\n",
        "  model.eval()\n",
        "  y_test=model(test.to(device))\n",
        "  a,b=torch.max(y_test,dim=1)\n",
        "  pred.extend(b.tolist())"
      ],
      "execution_count": 200,
      "outputs": []
    },
    {
      "cell_type": "code",
      "metadata": {
        "id": "NSGsZdKq0PL1"
      },
      "source": [
        "submit[\"Churn\"]=pred"
      ],
      "execution_count": 201,
      "outputs": []
    },
    {
      "cell_type": "code",
      "metadata": {
        "colab": {
          "base_uri": "https://localhost:8080/"
        },
        "id": "uMfss8F00Qq2",
        "outputId": "2d4236ca-d987-422f-d3d6-b119eeb88d1d"
      },
      "source": [
        "submit.to_csv(\"submit.csv\",index=False)\n",
        "!kaggle competitions submit -c 2021-ml-midterm-p2 -f submit.csv -m \"message\""
      ],
      "execution_count": 202,
      "outputs": [
        {
          "output_type": "stream",
          "name": "stdout",
          "text": [
            "Warning: Looks like you're using an outdated API Version, please consider updating (server 1.5.12 / client 1.5.6)\n",
            "100% 7.99k/7.99k [00:00<00:00, 44.2kB/s]\n",
            "Successfully submitted to 2021.ML.MidTerm.P2"
          ]
        }
      ]
    },
    {
      "cell_type": "code",
      "metadata": {
        "id": "EuK1tSbj0kd1"
      },
      "source": [
        ""
      ],
      "execution_count": 202,
      "outputs": []
    }
  ]
}