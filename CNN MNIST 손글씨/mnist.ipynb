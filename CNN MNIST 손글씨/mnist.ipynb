{
 "cells": [
  {
   "cell_type": "code",
   "execution_count": 1,
   "id": "dbc529ff",
   "metadata": {
    "_cell_guid": "b1076dfc-b9ad-4769-8c92-a6c4dae69d19",
    "_uuid": "8f2839f25d086af736a60e9eeb907d3b93b6e0e5",
    "execution": {
     "iopub.execute_input": "2021-11-04T16:19:18.028538Z",
     "iopub.status.busy": "2021-11-04T16:19:18.026296Z",
     "iopub.status.idle": "2021-11-04T16:19:18.046619Z",
     "shell.execute_reply": "2021-11-04T16:19:18.047556Z"
    },
    "papermill": {
     "duration": 0.040153,
     "end_time": "2021-11-04T16:19:18.047903",
     "exception": false,
     "start_time": "2021-11-04T16:19:18.007750",
     "status": "completed"
    },
    "tags": []
   },
   "outputs": [
    {
     "name": "stdout",
     "output_type": "stream",
     "text": [
      "/kaggle/input/2021-ai-w10-p1/2021-ai-w10-p1/train.csv\n",
      "/kaggle/input/2021-ai-w10-p1/2021-ai-w10-p1/test.csv\n",
      "/kaggle/input/2021-ai-w10-p1/2021-ai-w10-p1/sample_submit.csv\n"
     ]
    }
   ],
   "source": [
    "# This Python 3 environment comes with many helpful analytics libraries installed\n",
    "# It is defined by the kaggle/python Docker image: https://github.com/kaggle/docker-python\n",
    "# For example, here's several helpful packages to load\n",
    "\n",
    "import numpy as np # linear algebra\n",
    "import pandas as pd # data processing, CSV file I/O (e.g. pd.read_csv)\n",
    "\n",
    "# Input data files are available in the read-only \"../input/\" directory\n",
    "# For example, running this (by clicking run or pressing Shift+Enter) will list all files under the input directory\n",
    "\n",
    "import os\n",
    "for dirname, _, filenames in os.walk('/kaggle/input'):\n",
    "    for filename in filenames:\n",
    "        print(os.path.join(dirname, filename))\n",
    "\n",
    "# You can write up to 20GB to the current directory (/kaggle/working/) that gets preserved as output when you create a version using \"Save & Run All\" \n",
    "# You can also write temporary files to /kaggle/temp/, but they won't be saved outside of the current session"
   ]
  },
  {
   "cell_type": "code",
   "execution_count": 2,
   "id": "1ecb1404",
   "metadata": {
    "execution": {
     "iopub.execute_input": "2021-11-04T16:19:18.077107Z",
     "iopub.status.busy": "2021-11-04T16:19:18.076328Z",
     "iopub.status.idle": "2021-11-04T16:19:24.814894Z",
     "shell.execute_reply": "2021-11-04T16:19:24.814194Z"
    },
    "papermill": {
     "duration": 6.754193,
     "end_time": "2021-11-04T16:19:24.815060",
     "exception": false,
     "start_time": "2021-11-04T16:19:18.060867",
     "status": "completed"
    },
    "tags": []
   },
   "outputs": [],
   "source": [
    "train=pd.read_csv(\"/kaggle/input/2021-ai-w10-p1/2021-ai-w10-p1/train.csv\")\n",
    "test=pd.read_csv(\"/kaggle/input/2021-ai-w10-p1/2021-ai-w10-p1/test.csv\")\n",
    "submit=pd.read_csv(\"/kaggle/input/2021-ai-w10-p1/2021-ai-w10-p1/sample_submit.csv\")"
   ]
  },
  {
   "cell_type": "code",
   "execution_count": 3,
   "id": "6d698ab0",
   "metadata": {
    "execution": {
     "iopub.execute_input": "2021-11-04T16:19:24.995057Z",
     "iopub.status.busy": "2021-11-04T16:19:24.993700Z",
     "iopub.status.idle": "2021-11-04T16:19:25.155196Z",
     "shell.execute_reply": "2021-11-04T16:19:25.155867Z"
    },
    "papermill": {
     "duration": 0.32813,
     "end_time": "2021-11-04T16:19:25.156114",
     "exception": false,
     "start_time": "2021-11-04T16:19:24.827984",
     "status": "completed"
    },
    "tags": []
   },
   "outputs": [],
   "source": [
    "x=train.drop(\"Category\",axis=1)\n",
    "y=train[\"Category\"]\n",
    "\n",
    "x=np.array(x)\n",
    "y=np.array(y)\n",
    "test=np.array(test)"
   ]
  },
  {
   "cell_type": "code",
   "execution_count": 4,
   "id": "b6a6bc00",
   "metadata": {
    "execution": {
     "iopub.execute_input": "2021-11-04T16:19:25.187967Z",
     "iopub.status.busy": "2021-11-04T16:19:25.186955Z",
     "iopub.status.idle": "2021-11-04T16:19:26.963164Z",
     "shell.execute_reply": "2021-11-04T16:19:26.963744Z"
    },
    "papermill": {
     "duration": 1.793553,
     "end_time": "2021-11-04T16:19:26.963953",
     "exception": false,
     "start_time": "2021-11-04T16:19:25.170400",
     "status": "completed"
    },
    "tags": []
   },
   "outputs": [],
   "source": [
    "import torch\n",
    "   \n",
    "device = 'cuda' if torch.cuda.is_available() else 'cpu'\n",
    "\n",
    "torch.manual_seed(777)\n",
    "\n",
    "if device == 'cuda':\n",
    "    torch.cuda.manual_seed_all(777)"
   ]
  },
  {
   "cell_type": "code",
   "execution_count": 5,
   "id": "8aa2b8cc",
   "metadata": {
    "execution": {
     "iopub.execute_input": "2021-11-04T16:19:27.093105Z",
     "iopub.status.busy": "2021-11-04T16:19:26.990568Z",
     "iopub.status.idle": "2021-11-04T16:19:27.096399Z",
     "shell.execute_reply": "2021-11-04T16:19:27.095447Z"
    },
    "papermill": {
     "duration": 0.120581,
     "end_time": "2021-11-04T16:19:27.096646",
     "exception": false,
     "start_time": "2021-11-04T16:19:26.976065",
     "status": "completed"
    },
    "tags": []
   },
   "outputs": [],
   "source": [
    "class MNIST_Dataset(torch.utils.data.Dataset):\n",
    "  def __init__(self,split,transform=None):\n",
    "    super(MNIST_Dataset,self).__init__()\n",
    "\n",
    "    self.split=split.upper()\n",
    "    self.transform = transform\n",
    "\n",
    "    assert self.split in {\"TRAIN\",\"TEST\"}\n",
    "\n",
    "    if self.split=='TRAIN':\n",
    "      self.images=x\n",
    "      self.labels=y\n",
    "    \n",
    "    elif self.split=='TEST':\n",
    "      self.images=test\n",
    "  def __getitem__(self,index):\n",
    "    image=torch.FloatTensor(self.images[index])\n",
    "    image=image.reshape(-1,28,28)\n",
    "\n",
    "    if self.split=='TRAIN':\n",
    "      label=self.labels[index]\n",
    "      return image,label\n",
    "\n",
    "    elif self.split=='TEST':\n",
    "      return image\n",
    "\n",
    "    label=self.labels[index]\n",
    "\n",
    "  def __len__(self):\n",
    "    return len(self.images)"
   ]
  },
  {
   "cell_type": "code",
   "execution_count": 6,
   "id": "a5ba674e",
   "metadata": {
    "execution": {
     "iopub.execute_input": "2021-11-04T16:19:27.128630Z",
     "iopub.status.busy": "2021-11-04T16:19:27.127563Z",
     "iopub.status.idle": "2021-11-04T16:19:27.130067Z",
     "shell.execute_reply": "2021-11-04T16:19:27.130562Z"
    },
    "papermill": {
     "duration": 0.022,
     "end_time": "2021-11-04T16:19:27.130718",
     "exception": false,
     "start_time": "2021-11-04T16:19:27.108718",
     "status": "completed"
    },
    "tags": []
   },
   "outputs": [],
   "source": [
    "\n",
    "batch_size=128\n",
    "workers=2\n",
    "learning_rate=0.001\n",
    "total_epoch=20\n",
    "n_classes=10\n",
    "\n",
    "TRAIN_dataset=MNIST_Dataset(split='train')\n",
    "TRAIN_Loader=torch.utils.data.DataLoader(dataset=TRAIN_dataset,batch_size=batch_size,shuffle=True,num_workers=workers)\n",
    "\n",
    "TEST_dataset=MNIST_Dataset(split='test')\n",
    "TEST_Loader=torch.utils.data.DataLoader(dataset=TEST_dataset,batch_size=batch_size,shuffle=False,num_workers=workers)"
   ]
  },
  {
   "cell_type": "code",
   "execution_count": 7,
   "id": "43460034",
   "metadata": {
    "execution": {
     "iopub.execute_input": "2021-11-04T16:19:27.170596Z",
     "iopub.status.busy": "2021-11-04T16:19:27.169582Z",
     "iopub.status.idle": "2021-11-04T16:19:27.172359Z",
     "shell.execute_reply": "2021-11-04T16:19:27.172868Z"
    },
    "papermill": {
     "duration": 0.030264,
     "end_time": "2021-11-04T16:19:27.173018",
     "exception": false,
     "start_time": "2021-11-04T16:19:27.142754",
     "status": "completed"
    },
    "tags": []
   },
   "outputs": [],
   "source": [
    "class CNN(torch.nn.Module):\n",
    "  def __init__(self,n_classes):\n",
    "    super(CNN,self).__init__()\n",
    "\n",
    "    self.conv1=torch.nn.Conv2d(in_channels=1,out_channels=32,kernel_size=3,stride=1,padding=1) #1채널의 필터가 32개 만들어진 것\n",
    "    self.bn1=torch.nn.BatchNorm2d(32)\n",
    "\n",
    "    self.conv2=torch.nn.Conv2d(in_channels=32,out_channels=64,kernel_size=3,stride=1,padding=1) \n",
    "    self.bn2=torch.nn.BatchNorm2d(64)\n",
    "\n",
    "    self.conv3=torch.nn.Conv2d(in_channels=64,out_channels=128,kernel_size=3,stride=1,padding=1)\n",
    "    self.bn3=torch.nn.BatchNorm2d(128)\n",
    "\n",
    "    self.pooling=torch.nn.MaxPool2d(kernel_size=2,stride=2)\n",
    "\n",
    "    self.fc1=torch.nn.Linear(in_features=3*3*128,out_features=625,bias=True)\n",
    "    self.fc2=torch.nn.Linear(in_features=625,out_features=n_classes,bias=True)\n",
    "\n",
    "    self.init_weight()\n",
    "\n",
    "\n",
    "  def forward(self,x): # x-> image data [128,1,28,28]\n",
    "    out=self.pooling(torch.nn.functional.relu(self.bn1(self.conv1(x))))\n",
    "    out=self.pooling(torch.nn.functional.relu(self.bn2(self.conv2(out))))\n",
    "    out=self.pooling(torch.nn.functional.relu(self.bn3(self.conv3(out))))\n",
    "\n",
    "    out=out.view(-1,3*3*128) #out.shape =[128,3*3*128]\n",
    "\n",
    "    out=torch.nn.functional.relu(self.fc1(out))\n",
    "    out=self.fc2(out) #out.shape [128,10] \n",
    "\n",
    "    return out\n",
    "  \n",
    "  def init_weight(self):\n",
    "    for m in self.children():\n",
    "      if isinstance(m,torch.nn.Conv2d):\n",
    "        torch.nn.init.kaiming_normal_(m.weight,mode='fan_out',nonlinearity='relu')\n",
    "        torch.nn.init.constant_(m.bias,0)\n",
    "        '''\n",
    "      elif isinstance(m,torch.nn.Linear):\n",
    "        torch.nn.init.kaiming_normal_(m.weight,mode='fan_out',nonlinearity='relu')\n",
    "        torch.nn.init.constant_(m.bias,0)\n",
    "      elif isinstance(m,torch.nn.BatchNorm2d):\n",
    "        torch.nn.init.kaiming_normal_(m.weight,mode='fan_out',nonlinearity='relu')\n",
    "        torch.nn.init.constant_(m.bias,0)\n",
    "        '''\n",
    "    print(\"weight init\")"
   ]
  },
  {
   "cell_type": "code",
   "execution_count": 8,
   "id": "8298f150",
   "metadata": {
    "execution": {
     "iopub.execute_input": "2021-11-04T16:19:27.204061Z",
     "iopub.status.busy": "2021-11-04T16:19:27.203272Z",
     "iopub.status.idle": "2021-11-04T16:19:30.362373Z",
     "shell.execute_reply": "2021-11-04T16:19:30.362891Z"
    },
    "papermill": {
     "duration": 3.177905,
     "end_time": "2021-11-04T16:19:30.363096",
     "exception": false,
     "start_time": "2021-11-04T16:19:27.185191",
     "status": "completed"
    },
    "tags": []
   },
   "outputs": [
    {
     "name": "stdout",
     "output_type": "stream",
     "text": [
      "weight init\n"
     ]
    }
   ],
   "source": [
    "Network=CNN(n_classes=n_classes)\n",
    "Network=Network.to(device)"
   ]
  },
  {
   "cell_type": "code",
   "execution_count": 9,
   "id": "fec243f6",
   "metadata": {
    "execution": {
     "iopub.execute_input": "2021-11-04T16:19:30.398021Z",
     "iopub.status.busy": "2021-11-04T16:19:30.397105Z",
     "iopub.status.idle": "2021-11-04T16:19:30.401085Z",
     "shell.execute_reply": "2021-11-04T16:19:30.399851Z"
    },
    "papermill": {
     "duration": 0.02346,
     "end_time": "2021-11-04T16:19:30.401331",
     "exception": false,
     "start_time": "2021-11-04T16:19:30.377871",
     "status": "completed"
    },
    "tags": []
   },
   "outputs": [],
   "source": [
    "Loss=torch.nn.CrossEntropyLoss() #분류 문제를 해결하기 위한 Cross Entropy Loss\n",
    "Loss=Loss.to(device)\n",
    "\n",
    "optimizer=torch.optim.Adam(Network.parameters(),lr=learning_rate) #최적화를 위한 Optimizer"
   ]
  },
  {
   "cell_type": "code",
   "execution_count": 10,
   "id": "db34a6c5",
   "metadata": {
    "execution": {
     "iopub.execute_input": "2021-11-04T16:19:30.469039Z",
     "iopub.status.busy": "2021-11-04T16:19:30.467820Z",
     "iopub.status.idle": "2021-11-04T16:21:33.803375Z",
     "shell.execute_reply": "2021-11-04T16:21:33.802858Z"
    },
    "papermill": {
     "duration": 123.375264,
     "end_time": "2021-11-04T16:21:33.803564",
     "exception": false,
     "start_time": "2021-11-04T16:19:30.428300",
     "status": "completed"
    },
    "tags": []
   },
   "outputs": [
    {
     "name": "stdout",
     "output_type": "stream",
     "text": [
      "epoch : 01 , Accuracy : 0.9614 , Loss : 0.1287\n",
      "epoch : 02 , Accuracy : 0.9881 , Loss : 0.0377\n",
      "epoch : 03 , Accuracy : 0.9908 , Loss : 0.0281\n",
      "epoch : 04 , Accuracy : 0.9927 , Loss : 0.0227\n",
      "epoch : 05 , Accuracy : 0.9936 , Loss : 0.0199\n",
      "epoch : 06 , Accuracy : 0.9951 , Loss : 0.0148\n",
      "epoch : 07 , Accuracy : 0.9959 , Loss : 0.0121\n",
      "epoch : 08 , Accuracy : 0.9973 , Loss : 0.0086\n",
      "epoch : 09 , Accuracy : 0.9969 , Loss : 0.0094\n",
      "epoch : 10 , Accuracy : 0.9969 , Loss : 0.0088\n",
      "epoch : 11 , Accuracy : 0.9970 , Loss : 0.0090\n",
      "epoch : 12 , Accuracy : 0.9974 , Loss : 0.0072\n",
      "epoch : 13 , Accuracy : 0.9983 , Loss : 0.0056\n",
      "epoch : 14 , Accuracy : 0.9980 , Loss : 0.0058\n",
      "epoch : 15 , Accuracy : 0.9980 , Loss : 0.0064\n",
      "epoch : 16 , Accuracy : 0.9984 , Loss : 0.0048\n",
      "epoch : 17 , Accuracy : 0.9987 , Loss : 0.0036\n",
      "epoch : 18 , Accuracy : 0.9978 , Loss : 0.0067\n",
      "epoch : 19 , Accuracy : 0.9984 , Loss : 0.0045\n",
      "epoch : 20 , Accuracy : 0.9990 , Loss : 0.0028\n"
     ]
    }
   ],
   "source": [
    "Network.train()\n",
    "for epoch in range(total_epoch):\n",
    "  correct_pred = 0\n",
    "  epoch_loss = 0\n",
    "  for X,Y in TRAIN_Loader:\n",
    "    X= X.to(device)\n",
    "    Y=torch.LongTensor(Y).to(device)\n",
    "\n",
    "    optimizer.zero_grad() #하나의 배치에 대해서 Gradient업데이트하기 전에 Gradient 초기화를 담당\n",
    "    hypothesis=Network(X) #Feed forward 과정이 진행\n",
    "    _, preds=torch.max(hypothesis,1)\n",
    "    Cost=Loss(hypothesis,Y)\n",
    "    Cost.backward() #backpropagation\n",
    "    optimizer.step() #parameter update\n",
    "\n",
    "    correct_pred = correct_pred + torch.sum(preds==Y)\n",
    "    epoch_loss = epoch_loss + Cost.item()*X.size(0)\n",
    "\n",
    "  print(\"epoch : {:02d} , Accuracy : {:.4f} , Loss : {:.4f}\".format(epoch+1 , correct_pred/len(TRAIN_Loader.dataset),epoch_loss/len(TRAIN_Loader.dataset)))"
   ]
  },
  {
   "cell_type": "code",
   "execution_count": 11,
   "id": "311098d7",
   "metadata": {
    "execution": {
     "iopub.execute_input": "2021-11-04T16:21:33.853077Z",
     "iopub.status.busy": "2021-11-04T16:21:33.852257Z",
     "iopub.status.idle": "2021-11-04T16:21:34.469263Z",
     "shell.execute_reply": "2021-11-04T16:21:34.469766Z"
    },
    "papermill": {
     "duration": 0.645523,
     "end_time": "2021-11-04T16:21:34.469982",
     "exception": false,
     "start_time": "2021-11-04T16:21:33.824459",
     "status": "completed"
    },
    "tags": []
   },
   "outputs": [],
   "source": [
    "prediction=list()\n",
    "with torch.no_grad() : #test시에ㅡㄴ작성\n",
    "  for X in TEST_Loader:\n",
    "    X=X.to(device)\n",
    "    hypothesis=Network(X)\n",
    "    _,preds=torch.max(hypothesis,1)\n",
    "    prediction.extend(preds.tolist())"
   ]
  },
  {
   "cell_type": "code",
   "execution_count": 12,
   "id": "ea9dc893",
   "metadata": {
    "execution": {
     "iopub.execute_input": "2021-11-04T16:21:34.519208Z",
     "iopub.status.busy": "2021-11-04T16:21:34.518534Z",
     "iopub.status.idle": "2021-11-04T16:21:34.541105Z",
     "shell.execute_reply": "2021-11-04T16:21:34.541694Z"
    },
    "papermill": {
     "duration": 0.051938,
     "end_time": "2021-11-04T16:21:34.541863",
     "exception": false,
     "start_time": "2021-11-04T16:21:34.489925",
     "status": "completed"
    },
    "tags": []
   },
   "outputs": [],
   "source": [
    "submit['Category']=prediction\n",
    "submit.to_csv('submit.csv',index=False)"
   ]
  },
  {
   "cell_type": "code",
   "execution_count": null,
   "id": "6ab8f50d",
   "metadata": {
    "papermill": {
     "duration": 0.019824,
     "end_time": "2021-11-04T16:21:34.582203",
     "exception": false,
     "start_time": "2021-11-04T16:21:34.562379",
     "status": "completed"
    },
    "tags": []
   },
   "outputs": [],
   "source": []
  },
  {
   "cell_type": "code",
   "execution_count": null,
   "id": "81cc4df4",
   "metadata": {
    "papermill": {
     "duration": 0.019099,
     "end_time": "2021-11-04T16:21:34.621111",
     "exception": false,
     "start_time": "2021-11-04T16:21:34.602012",
     "status": "completed"
    },
    "tags": []
   },
   "outputs": [],
   "source": []
  }
 ],
 "metadata": {
  "kernelspec": {
   "display_name": "Python 3",
   "language": "python",
   "name": "python3"
  },
  "language_info": {
   "codemirror_mode": {
    "name": "ipython",
    "version": 3
   },
   "file_extension": ".py",
   "mimetype": "text/x-python",
   "name": "python",
   "nbconvert_exporter": "python",
   "pygments_lexer": "ipython3",
   "version": "3.7.10"
  },
  "papermill": {
   "default_parameters": {},
   "duration": 147.787271,
   "end_time": "2021-11-04T16:21:36.893870",
   "environment_variables": {},
   "exception": null,
   "input_path": "__notebook__.ipynb",
   "output_path": "__notebook__.ipynb",
   "parameters": {},
   "start_time": "2021-11-04T16:19:09.106599",
   "version": "2.3.3"
  }
 },
 "nbformat": 4,
 "nbformat_minor": 5
}
