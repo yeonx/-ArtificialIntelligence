{
  "nbformat": 4,
  "nbformat_minor": 0,
  "metadata": {
    "colab": {
      "name": "[AI]원자력발전소.ipynb",
      "provenance": []
    },
    "kernelspec": {
      "name": "python3",
      "display_name": "Python 3"
    },
    "language_info": {
      "name": "python"
    },
    "accelerator": "GPU"
  },
  "cells": [
    {
      "cell_type": "code",
      "metadata": {
        "colab": {
          "base_uri": "https://localhost:8080/"
        },
        "id": "vWxAnp_TVZfj",
        "outputId": "4ca05338-0c02-4233-84e1-3828392f70f0"
      },
      "source": [
        "!pip uninstall kaggle -y\n",
        "!pip uninstall --upgrade.pip\n",
        "!pip install kaggle==1.5.6\n",
        "!mkdir -p ~/.kaggle\n",
        "!cp /content/drive/MyDrive/kaggle.json ~/.kaggle\n",
        "!chmod 600 ~./kaggle/kaggle.json"
      ],
      "execution_count": 1,
      "outputs": [
        {
          "output_type": "stream",
          "name": "stdout",
          "text": [
            "Found existing installation: kaggle 1.5.12\n",
            "Uninstalling kaggle-1.5.12:\n",
            "  Successfully uninstalled kaggle-1.5.12\n",
            "\n",
            "Usage:   \n",
            "  pip3 uninstall [options] <package> ...\n",
            "  pip3 uninstall [options] -r <requirements file> ...\n",
            "\n",
            "no such option: --upgrade.pip\n",
            "Collecting kaggle==1.5.6\n",
            "  Downloading kaggle-1.5.6.tar.gz (58 kB)\n",
            "\u001b[K     |████████████████████████████████| 58 kB 3.1 MB/s \n",
            "\u001b[?25hRequirement already satisfied: urllib3<1.25,>=1.21.1 in /usr/local/lib/python3.7/dist-packages (from kaggle==1.5.6) (1.24.3)\n",
            "Requirement already satisfied: six>=1.10 in /usr/local/lib/python3.7/dist-packages (from kaggle==1.5.6) (1.15.0)\n",
            "Requirement already satisfied: certifi in /usr/local/lib/python3.7/dist-packages (from kaggle==1.5.6) (2021.5.30)\n",
            "Requirement already satisfied: python-dateutil in /usr/local/lib/python3.7/dist-packages (from kaggle==1.5.6) (2.8.2)\n",
            "Requirement already satisfied: requests in /usr/local/lib/python3.7/dist-packages (from kaggle==1.5.6) (2.23.0)\n",
            "Requirement already satisfied: tqdm in /usr/local/lib/python3.7/dist-packages (from kaggle==1.5.6) (4.62.3)\n",
            "Requirement already satisfied: python-slugify in /usr/local/lib/python3.7/dist-packages (from kaggle==1.5.6) (5.0.2)\n",
            "Requirement already satisfied: text-unidecode>=1.3 in /usr/local/lib/python3.7/dist-packages (from python-slugify->kaggle==1.5.6) (1.3)\n",
            "Requirement already satisfied: chardet<4,>=3.0.2 in /usr/local/lib/python3.7/dist-packages (from requests->kaggle==1.5.6) (3.0.4)\n",
            "Requirement already satisfied: idna<3,>=2.5 in /usr/local/lib/python3.7/dist-packages (from requests->kaggle==1.5.6) (2.10)\n",
            "Building wheels for collected packages: kaggle\n",
            "  Building wheel for kaggle (setup.py) ... \u001b[?25l\u001b[?25hdone\n",
            "  Created wheel for kaggle: filename=kaggle-1.5.6-py3-none-any.whl size=72857 sha256=bb596e03eb5ebf5ac131b5cafc3c0d14ebc9b8fb56a5af319a6faaed0aa57449\n",
            "  Stored in directory: /root/.cache/pip/wheels/aa/e7/e7/eb3c3d514c33294d77ddd5a856bdd58dc9c1fabbed59a02a2b\n",
            "Successfully built kaggle\n",
            "Installing collected packages: kaggle\n",
            "Successfully installed kaggle-1.5.6\n",
            "chmod: cannot access '~./kaggle/kaggle.json': No such file or directory\n"
          ]
        }
      ]
    },
    {
      "cell_type": "code",
      "metadata": {
        "colab": {
          "base_uri": "https://localhost:8080/"
        },
        "id": "jxSX2t3fWKkL",
        "outputId": "f4493288-4d76-49bc-bcbd-cc51a50de375"
      },
      "source": [
        "!kaggle competitions download -c 2021-ai-w6-p1"
      ],
      "execution_count": 2,
      "outputs": [
        {
          "output_type": "stream",
          "name": "stdout",
          "text": [
            "Downloading 2021-ai-w6-p1.zip to /content\n",
            " 89% 82.0M/92.4M [00:00<00:00, 216MB/s]\n",
            "100% 92.4M/92.4M [00:00<00:00, 211MB/s]\n"
          ]
        }
      ]
    },
    {
      "cell_type": "code",
      "metadata": {
        "colab": {
          "base_uri": "https://localhost:8080/"
        },
        "id": "kEccKL2DWPww",
        "outputId": "aad64c07-653d-47ea-acad-4c5bd987aeea"
      },
      "source": [
        "!unzip 2021-ai-w6-p1.zip"
      ],
      "execution_count": 3,
      "outputs": [
        {
          "output_type": "stream",
          "name": "stdout",
          "text": [
            "Archive:  2021-ai-w6-p1.zip\n",
            "  inflating: pca_test.csv            \n",
            "  inflating: pca_train.csv           \n",
            "  inflating: sample_submission.csv   \n",
            "  inflating: train_label.csv         \n"
          ]
        }
      ]
    },
    {
      "cell_type": "code",
      "metadata": {
        "id": "8NMyDYOTWVrS"
      },
      "source": [
        "import pandas as pd\n",
        "import numpy as np\n",
        "\n",
        "x=pd.read_csv(\"pca_train.csv\")\n",
        "y=pd.read_csv(\"train_label.csv\")\n",
        "test=pd.read_csv(\"pca_test.csv\")\n",
        "submit=pd.read_csv(\"sample_submission.csv\")"
      ],
      "execution_count": 4,
      "outputs": []
    },
    {
      "cell_type": "code",
      "metadata": {
        "id": "iWhYFaYuWVt2"
      },
      "source": [
        "y=y[\"label\"]"
      ],
      "execution_count": 5,
      "outputs": []
    },
    {
      "cell_type": "code",
      "metadata": {
        "colab": {
          "base_uri": "https://localhost:8080/"
        },
        "id": "12TTKewwWVwj",
        "outputId": "40db6e1d-0b7e-44b9-fc82-a3d6becb4eee"
      },
      "source": [
        "y"
      ],
      "execution_count": 6,
      "outputs": [
        {
          "output_type": "execute_result",
          "data": {
            "text/plain": [
              "0        136\n",
              "1         90\n",
              "2        112\n",
              "3        165\n",
              "4         73\n",
              "        ... \n",
              "27666      9\n",
              "27667    132\n",
              "27668     18\n",
              "27669     41\n",
              "27670    114\n",
              "Name: label, Length: 27671, dtype: int64"
            ]
          },
          "metadata": {},
          "execution_count": 6
        }
      ]
    },
    {
      "cell_type": "code",
      "metadata": {
        "id": "2Fm5mo5Oe-3b"
      },
      "source": [
        "from sklearn.preprocessing import RobustScaler\n",
        "\n",
        "scaler = RobustScaler()\n",
        "scaler.fit(x)\n",
        "x_std=scaler.transform(x)\n",
        "test_std=scaler.transform(test)"
      ],
      "execution_count": 7,
      "outputs": []
    },
    {
      "cell_type": "code",
      "metadata": {
        "id": "7abFZRMjWVzH"
      },
      "source": [
        "import torch\n",
        "\n",
        "torch.manual_seed(777)\n",
        "\n",
        "device='cuda' if torch.cuda.is_available() else 'cpu'\n",
        "if device=='cuda':\n",
        "  torch.cuda.manual_seed_all(777)"
      ],
      "execution_count": 8,
      "outputs": []
    },
    {
      "cell_type": "code",
      "metadata": {
        "id": "nPuVpZ48WV1Q"
      },
      "source": [
        "x=np.array(x)\n",
        "y=np.array(y)\n",
        "test=np.array(test)\n",
        "x=torch.FloatTensor(x)\n",
        "y=torch.LongTensor(y)\n",
        "test=torch.FloatTensor(test)"
      ],
      "execution_count": 9,
      "outputs": []
    },
    {
      "cell_type": "code",
      "metadata": {
        "colab": {
          "base_uri": "https://localhost:8080/"
        },
        "id": "P-bzcV2yZVPf",
        "outputId": "b542a07b-3abc-46ca-cc25-a9006627091b"
      },
      "source": [
        "y.unique()"
      ],
      "execution_count": 10,
      "outputs": [
        {
          "output_type": "execute_result",
          "data": {
            "text/plain": [
              "tensor([  0,   1,   2,   3,   4,   5,   6,   7,   8,   9,  10,  11,  12,  13,\n",
              "         14,  15,  16,  17,  18,  19,  20,  21,  22,  23,  24,  25,  26,  27,\n",
              "         28,  29,  30,  31,  32,  33,  34,  35,  36,  37,  38,  39,  40,  41,\n",
              "         42,  43,  44,  45,  46,  47,  48,  49,  50,  51,  52,  53,  54,  55,\n",
              "         56,  57,  58,  59,  60,  61,  62,  63,  64,  65,  66,  67,  68,  69,\n",
              "         70,  71,  72,  73,  74,  75,  76,  77,  78,  79,  80,  81,  82,  83,\n",
              "         84,  85,  86,  87,  88,  89,  90,  91,  92,  93,  94,  95,  96,  97,\n",
              "         98,  99, 100, 101, 102, 103, 104, 105, 106, 107, 108, 109, 110, 111,\n",
              "        112, 113, 114, 115, 116, 117, 118, 119, 120, 121, 122, 123, 124, 125,\n",
              "        126, 127, 128, 129, 130, 131, 132, 133, 134, 135, 136, 137, 138, 139,\n",
              "        140, 141, 142, 143, 144, 145, 146, 147, 148, 149, 150, 151, 152, 153,\n",
              "        154, 155, 156, 157, 158, 159, 160, 161, 162, 163, 164, 165, 166, 167,\n",
              "        168, 169, 170, 171, 172, 173, 174, 175, 176, 177, 178, 179, 180, 181,\n",
              "        182, 183, 184, 185, 186, 187, 188, 189, 190, 191, 192, 193, 194, 195,\n",
              "        196, 197])"
            ]
          },
          "metadata": {},
          "execution_count": 10
        }
      ]
    },
    {
      "cell_type": "code",
      "metadata": {
        "id": "EwSG8NA1ZXk5"
      },
      "source": [
        "linear1=torch.nn.Linear(256,512)\n",
        "linear2=torch.nn.Linear(512,1024)\n",
        "linear3=torch.nn.Linear(1024,512)\n",
        "linear4=torch.nn.Linear(512,256)\n",
        "linear5=torch.nn.Linear(256,198)\n",
        "relu=torch.nn.ReLU()\n",
        "\n",
        "dropout=torch.nn.Dropout(0.1)"
      ],
      "execution_count": 11,
      "outputs": []
    },
    {
      "cell_type": "code",
      "metadata": {
        "colab": {
          "base_uri": "https://localhost:8080/"
        },
        "id": "AbWBpLkmaACQ",
        "outputId": "370cac28-1bbb-4f10-f1b0-8c1826aff9c7"
      },
      "source": [
        "torch.nn.init.xavier_uniform_(linear1.weight)\n",
        "torch.nn.init.xavier_uniform_(linear2.weight)\n",
        "torch.nn.init.xavier_uniform_(linear3.weight)\n",
        "torch.nn.init.xavier_uniform_(linear4.weight)\n",
        "torch.nn.init.xavier_uniform_(linear5.weight)"
      ],
      "execution_count": 12,
      "outputs": [
        {
          "output_type": "execute_result",
          "data": {
            "text/plain": [
              "Parameter containing:\n",
              "tensor([[ 0.0190,  0.0700,  0.0400,  ...,  0.0708, -0.0719, -0.0789],\n",
              "        [ 0.0725,  0.0705, -0.0799,  ...,  0.0165, -0.0181,  0.0221],\n",
              "        [ 0.0632, -0.0180,  0.1087,  ..., -0.0072, -0.0147, -0.0164],\n",
              "        ...,\n",
              "        [ 0.1076, -0.1015, -0.0166,  ..., -0.0538, -0.0706,  0.0436],\n",
              "        [-0.0498, -0.0055, -0.1119,  ...,  0.0653,  0.1098, -0.0062],\n",
              "        [-0.0476,  0.0976, -0.0903,  ...,  0.0125, -0.1027, -0.1106]],\n",
              "       requires_grad=True)"
            ]
          },
          "metadata": {},
          "execution_count": 12
        }
      ]
    },
    {
      "cell_type": "code",
      "metadata": {
        "id": "fjt4NKICbXGu"
      },
      "source": [
        "model=torch.nn.Sequential(linear1,relu,dropout,linear2,relu,dropout,linear3,relu,dropout,linear4,relu,dropout,linear5).to(device)\n",
        "optimizer = torch.optim.Adam(params=model.parameters(),lr=0.001)\n",
        "loss=torch.nn.CrossEntropyLoss().to(device)"
      ],
      "execution_count": 13,
      "outputs": []
    },
    {
      "cell_type": "code",
      "metadata": {
        "colab": {
          "base_uri": "https://localhost:8080/"
        },
        "id": "Qa7eMscNcSHQ",
        "outputId": "6f447fe6-2fdc-43a5-85a3-16693428df23"
      },
      "source": [
        "for stop in range(90):\n",
        "  optimizer.zero_grad()\n",
        "  h=model(x.to(device))\n",
        "  cost=loss(h,y.to(device))\n",
        "  cost.backward()\n",
        "  optimizer.step()\n",
        "  if stop%10==0:\n",
        "    print(stop,cost.item())"
      ],
      "execution_count": 14,
      "outputs": [
        {
          "output_type": "stream",
          "name": "stdout",
          "text": [
            "0 5.738467216491699\n",
            "10 3.1765849590301514\n",
            "20 2.1777050495147705\n",
            "30 1.8026551008224487\n",
            "40 1.5578157901763916\n",
            "50 1.3631309270858765\n",
            "60 1.2231882810592651\n",
            "70 1.0891855955123901\n",
            "80 0.9661682844161987\n"
          ]
        }
      ]
    },
    {
      "cell_type": "code",
      "metadata": {
        "id": "JsfbWZPKdGFV"
      },
      "source": [
        "prediction=list()\n",
        "with torch.no_grad():\n",
        "  model.eval()\n",
        "  pred=model(test.to(device))\n",
        "  a,b=torch.max(pred,dim=1)\n",
        "  prediction.extend(b.tolist())"
      ],
      "execution_count": 15,
      "outputs": []
    },
    {
      "cell_type": "code",
      "metadata": {
        "id": "TwEiJcSDeTjh"
      },
      "source": [
        "submit[\"label\"]=prediction\n",
        "submit.to_csv(\"submit.csv\",index=False)"
      ],
      "execution_count": 16,
      "outputs": []
    },
    {
      "cell_type": "code",
      "metadata": {
        "colab": {
          "base_uri": "https://localhost:8080/"
        },
        "id": "buPpMHQlfk9D",
        "outputId": "e6268150-a1fe-4f2c-922f-9582be58ea1f"
      },
      "source": [
        "!kaggle competitions submit -c 2021-ai-w6-p1 -f submit.csv -m \"Message\""
      ],
      "execution_count": 18,
      "outputs": [
        {
          "output_type": "stream",
          "name": "stdout",
          "text": [
            "Warning: Looks like you're using an outdated API Version, please consider updating (server 1.5.12 / client 1.5.6)\n",
            "100% 116k/116k [00:02<00:00, 54.4kB/s]\n",
            "Successfully submitted to DNN을 이용한 원자력발전소 상태 판단"
          ]
        }
      ]
    }
  ]
}