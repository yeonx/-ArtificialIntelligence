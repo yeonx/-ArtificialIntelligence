{
 "cells": [
  {
   "cell_type": "code",
   "execution_count": 1,
   "id": "3d9b4f16",
   "metadata": {
    "_cell_guid": "b1076dfc-b9ad-4769-8c92-a6c4dae69d19",
    "_uuid": "8f2839f25d086af736a60e9eeb907d3b93b6e0e5",
    "execution": {
     "iopub.execute_input": "2021-10-11T07:08:34.653918Z",
     "iopub.status.busy": "2021-10-11T07:08:34.652684Z",
     "iopub.status.idle": "2021-10-11T07:08:34.666920Z",
     "shell.execute_reply": "2021-10-11T07:08:34.667473Z",
     "shell.execute_reply.started": "2021-10-11T06:56:24.965295Z"
    },
    "papermill": {
     "duration": 0.034835,
     "end_time": "2021-10-11T07:08:34.667788",
     "exception": false,
     "start_time": "2021-10-11T07:08:34.632953",
     "status": "completed"
    },
    "tags": []
   },
   "outputs": [
    {
     "name": "stdout",
     "output_type": "stream",
     "text": [
      "/kaggle/input/2021-ai-w6-p2/X_test.csv\n",
      "/kaggle/input/2021-ai-w6-p2/train.csv\n",
      "/kaggle/input/2021-ai-w6-p2/sample_submit.csv\n"
     ]
    }
   ],
   "source": [
    "# This Python 3 environment comes with many helpful analytics libraries installed\n",
    "# It is defined by the kaggle/python Docker image: https://github.com/kaggle/docker-python\n",
    "# For example, here's several helpful packages to load\n",
    "\n",
    "import numpy as np # linear algebra\n",
    "import pandas as pd # data processing, CSV file I/O (e.g. pd.read_csv)\n",
    "\n",
    "# Input data files are available in the read-only \"../input/\" directory\n",
    "# For example, running this (by clicking run or pressing Shift+Enter) will list all files under the input directory\n",
    "\n",
    "import os\n",
    "for dirname, _, filenames in os.walk('/kaggle/input'):\n",
    "    for filename in filenames:\n",
    "        print(os.path.join(dirname, filename))\n",
    "\n",
    "# You can write up to 20GB to the current directory (/kaggle/working/) that gets preserved as output when you create a version using \"Save & Run All\" \n",
    "# You can also write temporary files to /kaggle/temp/, but they won't be saved outside of the current session"
   ]
  },
  {
   "cell_type": "code",
   "execution_count": 2,
   "id": "55b0e69b",
   "metadata": {
    "execution": {
     "iopub.execute_input": "2021-10-11T07:08:34.701961Z",
     "iopub.status.busy": "2021-10-11T07:08:34.701249Z",
     "iopub.status.idle": "2021-10-11T07:08:34.746889Z",
     "shell.execute_reply": "2021-10-11T07:08:34.746295Z",
     "shell.execute_reply.started": "2021-10-11T07:01:30.651798Z"
    },
    "papermill": {
     "duration": 0.064472,
     "end_time": "2021-10-11T07:08:34.747028",
     "exception": false,
     "start_time": "2021-10-11T07:08:34.682556",
     "status": "completed"
    },
    "tags": []
   },
   "outputs": [],
   "source": [
    "train=pd.read_csv(\"/kaggle/input/2021-ai-w6-p2/train.csv\")\n",
    "test=pd.read_csv(\"/kaggle/input/2021-ai-w6-p2/X_test.csv\")\n",
    "submit=pd.read_csv(\"/kaggle/input/2021-ai-w6-p2/sample_submit.csv\")"
   ]
  },
  {
   "cell_type": "code",
   "execution_count": 3,
   "id": "0bca0b37",
   "metadata": {
    "execution": {
     "iopub.execute_input": "2021-10-11T07:08:34.785558Z",
     "iopub.status.busy": "2021-10-11T07:08:34.784860Z",
     "iopub.status.idle": "2021-10-11T07:08:34.808500Z",
     "shell.execute_reply": "2021-10-11T07:08:34.807930Z",
     "shell.execute_reply.started": "2021-10-11T07:01:30.881505Z"
    },
    "papermill": {
     "duration": 0.047248,
     "end_time": "2021-10-11T07:08:34.808646",
     "exception": false,
     "start_time": "2021-10-11T07:08:34.761398",
     "status": "completed"
    },
    "tags": []
   },
   "outputs": [
    {
     "data": {
      "text/html": [
       "<div>\n",
       "<style scoped>\n",
       "    .dataframe tbody tr th:only-of-type {\n",
       "        vertical-align: middle;\n",
       "    }\n",
       "\n",
       "    .dataframe tbody tr th {\n",
       "        vertical-align: top;\n",
       "    }\n",
       "\n",
       "    .dataframe thead th {\n",
       "        text-align: right;\n",
       "    }\n",
       "</style>\n",
       "<table border=\"1\" class=\"dataframe\">\n",
       "  <thead>\n",
       "    <tr style=\"text-align: right;\">\n",
       "      <th></th>\n",
       "      <th>Day</th>\n",
       "      <th>Hour</th>\n",
       "      <th>Minute</th>\n",
       "      <th>DHI</th>\n",
       "      <th>DNI</th>\n",
       "      <th>WS</th>\n",
       "      <th>RH</th>\n",
       "      <th>T</th>\n",
       "      <th>TARGET</th>\n",
       "    </tr>\n",
       "  </thead>\n",
       "  <tbody>\n",
       "    <tr>\n",
       "      <th>0</th>\n",
       "      <td>0</td>\n",
       "      <td>0</td>\n",
       "      <td>0</td>\n",
       "      <td>0</td>\n",
       "      <td>0</td>\n",
       "      <td>1.5</td>\n",
       "      <td>69.08</td>\n",
       "      <td>-12</td>\n",
       "      <td>0.000000</td>\n",
       "    </tr>\n",
       "    <tr>\n",
       "      <th>1</th>\n",
       "      <td>0</td>\n",
       "      <td>0</td>\n",
       "      <td>30</td>\n",
       "      <td>0</td>\n",
       "      <td>0</td>\n",
       "      <td>1.5</td>\n",
       "      <td>69.06</td>\n",
       "      <td>-12</td>\n",
       "      <td>0.000000</td>\n",
       "    </tr>\n",
       "    <tr>\n",
       "      <th>2</th>\n",
       "      <td>0</td>\n",
       "      <td>1</td>\n",
       "      <td>0</td>\n",
       "      <td>0</td>\n",
       "      <td>0</td>\n",
       "      <td>1.6</td>\n",
       "      <td>71.78</td>\n",
       "      <td>-12</td>\n",
       "      <td>0.000000</td>\n",
       "    </tr>\n",
       "    <tr>\n",
       "      <th>3</th>\n",
       "      <td>0</td>\n",
       "      <td>1</td>\n",
       "      <td>30</td>\n",
       "      <td>0</td>\n",
       "      <td>0</td>\n",
       "      <td>1.6</td>\n",
       "      <td>71.75</td>\n",
       "      <td>-12</td>\n",
       "      <td>0.000000</td>\n",
       "    </tr>\n",
       "    <tr>\n",
       "      <th>4</th>\n",
       "      <td>0</td>\n",
       "      <td>2</td>\n",
       "      <td>0</td>\n",
       "      <td>0</td>\n",
       "      <td>0</td>\n",
       "      <td>1.6</td>\n",
       "      <td>75.20</td>\n",
       "      <td>-12</td>\n",
       "      <td>0.000000</td>\n",
       "    </tr>\n",
       "    <tr>\n",
       "      <th>...</th>\n",
       "      <td>...</td>\n",
       "      <td>...</td>\n",
       "      <td>...</td>\n",
       "      <td>...</td>\n",
       "      <td>...</td>\n",
       "      <td>...</td>\n",
       "      <td>...</td>\n",
       "      <td>...</td>\n",
       "      <td>...</td>\n",
       "    </tr>\n",
       "    <tr>\n",
       "      <th>9994</th>\n",
       "      <td>208</td>\n",
       "      <td>5</td>\n",
       "      <td>0</td>\n",
       "      <td>0</td>\n",
       "      <td>0</td>\n",
       "      <td>0.5</td>\n",
       "      <td>64.12</td>\n",
       "      <td>12</td>\n",
       "      <td>0.000000</td>\n",
       "    </tr>\n",
       "    <tr>\n",
       "      <th>9995</th>\n",
       "      <td>208</td>\n",
       "      <td>5</td>\n",
       "      <td>30</td>\n",
       "      <td>26</td>\n",
       "      <td>383</td>\n",
       "      <td>0.8</td>\n",
       "      <td>56.18</td>\n",
       "      <td>13</td>\n",
       "      <td>5.630068</td>\n",
       "    </tr>\n",
       "    <tr>\n",
       "      <th>9996</th>\n",
       "      <td>208</td>\n",
       "      <td>6</td>\n",
       "      <td>0</td>\n",
       "      <td>41</td>\n",
       "      <td>578</td>\n",
       "      <td>1.1</td>\n",
       "      <td>47.46</td>\n",
       "      <td>15</td>\n",
       "      <td>13.887196</td>\n",
       "    </tr>\n",
       "    <tr>\n",
       "      <th>9997</th>\n",
       "      <td>208</td>\n",
       "      <td>6</td>\n",
       "      <td>30</td>\n",
       "      <td>52</td>\n",
       "      <td>699</td>\n",
       "      <td>1.4</td>\n",
       "      <td>44.51</td>\n",
       "      <td>17</td>\n",
       "      <td>23.269925</td>\n",
       "    </tr>\n",
       "    <tr>\n",
       "      <th>9998</th>\n",
       "      <td>208</td>\n",
       "      <td>7</td>\n",
       "      <td>0</td>\n",
       "      <td>61</td>\n",
       "      <td>776</td>\n",
       "      <td>1.7</td>\n",
       "      <td>37.80</td>\n",
       "      <td>19</td>\n",
       "      <td>33.027555</td>\n",
       "    </tr>\n",
       "  </tbody>\n",
       "</table>\n",
       "<p>9999 rows × 9 columns</p>\n",
       "</div>"
      ],
      "text/plain": [
       "      Day  Hour  Minute  DHI  DNI   WS     RH   T     TARGET\n",
       "0       0     0       0    0    0  1.5  69.08 -12   0.000000\n",
       "1       0     0      30    0    0  1.5  69.06 -12   0.000000\n",
       "2       0     1       0    0    0  1.6  71.78 -12   0.000000\n",
       "3       0     1      30    0    0  1.6  71.75 -12   0.000000\n",
       "4       0     2       0    0    0  1.6  75.20 -12   0.000000\n",
       "...   ...   ...     ...  ...  ...  ...    ...  ..        ...\n",
       "9994  208     5       0    0    0  0.5  64.12  12   0.000000\n",
       "9995  208     5      30   26  383  0.8  56.18  13   5.630068\n",
       "9996  208     6       0   41  578  1.1  47.46  15  13.887196\n",
       "9997  208     6      30   52  699  1.4  44.51  17  23.269925\n",
       "9998  208     7       0   61  776  1.7  37.80  19  33.027555\n",
       "\n",
       "[9999 rows x 9 columns]"
      ]
     },
     "execution_count": 3,
     "metadata": {},
     "output_type": "execute_result"
    }
   ],
   "source": [
    "train"
   ]
  },
  {
   "cell_type": "code",
   "execution_count": 4,
   "id": "87bab9f3",
   "metadata": {
    "execution": {
     "iopub.execute_input": "2021-10-11T07:08:34.851642Z",
     "iopub.status.busy": "2021-10-11T07:08:34.850808Z",
     "iopub.status.idle": "2021-10-11T07:08:34.853214Z",
     "shell.execute_reply": "2021-10-11T07:08:34.853712Z",
     "shell.execute_reply.started": "2021-10-11T07:01:31.070571Z"
    },
    "papermill": {
     "duration": 0.030224,
     "end_time": "2021-10-11T07:08:34.853894",
     "exception": false,
     "start_time": "2021-10-11T07:08:34.823670",
     "status": "completed"
    },
    "tags": []
   },
   "outputs": [],
   "source": [
    "x=train.drop([\"TARGET\",\"Day\",\"Minute\"],axis=1)\n",
    "test=test.drop([\"Day\",\"Minute\",\"ID\"],axis=1)\n",
    "y=train[\"TARGET\"]"
   ]
  },
  {
   "cell_type": "code",
   "execution_count": 5,
   "id": "a2bf6664",
   "metadata": {
    "execution": {
     "iopub.execute_input": "2021-10-11T07:08:34.889380Z",
     "iopub.status.busy": "2021-10-11T07:08:34.888681Z",
     "iopub.status.idle": "2021-10-11T07:08:35.867511Z",
     "shell.execute_reply": "2021-10-11T07:08:35.866921Z",
     "shell.execute_reply.started": "2021-10-11T07:01:31.465684Z"
    },
    "papermill": {
     "duration": 0.998358,
     "end_time": "2021-10-11T07:08:35.867658",
     "exception": false,
     "start_time": "2021-10-11T07:08:34.869300",
     "status": "completed"
    },
    "tags": []
   },
   "outputs": [],
   "source": [
    "from sklearn.preprocessing import RobustScaler\n",
    "\n",
    "scaler = RobustScaler()\n",
    "scaler.fit(x)\n",
    "x=scaler.transform(x)\n",
    "test=scaler.transform(test)"
   ]
  },
  {
   "cell_type": "code",
   "execution_count": 6,
   "id": "a8cbaf41",
   "metadata": {
    "execution": {
     "iopub.execute_input": "2021-10-11T07:08:35.900407Z",
     "iopub.status.busy": "2021-10-11T07:08:35.899773Z",
     "iopub.status.idle": "2021-10-11T07:08:37.041037Z",
     "shell.execute_reply": "2021-10-11T07:08:37.041543Z",
     "shell.execute_reply.started": "2021-10-11T07:01:31.710779Z"
    },
    "papermill": {
     "duration": 1.159289,
     "end_time": "2021-10-11T07:08:37.041749",
     "exception": false,
     "start_time": "2021-10-11T07:08:35.882460",
     "status": "completed"
    },
    "tags": []
   },
   "outputs": [],
   "source": [
    "import torch\n",
    "seed=777\n",
    "\n",
    "torch.manual_seed(seed)\n",
    "\n",
    "device='cuda' if torch.cuda.is_available() else 'cpu'\n",
    "\n",
    "if device=='cuda':\n",
    "  torch.cuda.manual_seed_all(seed)"
   ]
  },
  {
   "cell_type": "code",
   "execution_count": 7,
   "id": "a5b3e417",
   "metadata": {
    "execution": {
     "iopub.execute_input": "2021-10-11T07:08:37.076117Z",
     "iopub.status.busy": "2021-10-11T07:08:37.075456Z",
     "iopub.status.idle": "2021-10-11T07:08:37.103589Z",
     "shell.execute_reply": "2021-10-11T07:08:37.104122Z",
     "shell.execute_reply.started": "2021-10-11T07:01:31.920902Z"
    },
    "papermill": {
     "duration": 0.047505,
     "end_time": "2021-10-11T07:08:37.104324",
     "exception": false,
     "start_time": "2021-10-11T07:08:37.056819",
     "status": "completed"
    },
    "tags": []
   },
   "outputs": [],
   "source": [
    "x=torch.FloatTensor(np.array(x))\n",
    "y=torch.FloatTensor(np.array(y))\n",
    "test=torch.FloatTensor(np.array(test))"
   ]
  },
  {
   "cell_type": "code",
   "execution_count": 8,
   "id": "b075e0dd",
   "metadata": {
    "execution": {
     "iopub.execute_input": "2021-10-11T07:08:37.140062Z",
     "iopub.status.busy": "2021-10-11T07:08:37.139275Z",
     "iopub.status.idle": "2021-10-11T07:08:37.149289Z",
     "shell.execute_reply": "2021-10-11T07:08:37.149773Z",
     "shell.execute_reply.started": "2021-10-11T07:01:32.191162Z"
    },
    "papermill": {
     "duration": 0.030645,
     "end_time": "2021-10-11T07:08:37.149958",
     "exception": false,
     "start_time": "2021-10-11T07:08:37.119313",
     "status": "completed"
    },
    "tags": []
   },
   "outputs": [],
   "source": [
    "linear1=torch.nn.Linear(6,128)\n",
    "linear2=torch.nn.Linear(128,256)\n",
    "linear3=torch.nn.Linear(256,128)\n",
    "linear4=torch.nn.Linear(128,1)\n",
    "\n",
    "relu=torch.nn.ReLU()\n",
    "\n",
    "dropout=torch.nn.Dropout(p=0.1)"
   ]
  },
  {
   "cell_type": "code",
   "execution_count": 9,
   "id": "c0162e78",
   "metadata": {
    "execution": {
     "iopub.execute_input": "2021-10-11T07:08:37.185345Z",
     "iopub.status.busy": "2021-10-11T07:08:37.184323Z",
     "iopub.status.idle": "2021-10-11T07:08:37.245262Z",
     "shell.execute_reply": "2021-10-11T07:08:37.244551Z",
     "shell.execute_reply.started": "2021-10-11T07:01:32.481025Z"
    },
    "papermill": {
     "duration": 0.080621,
     "end_time": "2021-10-11T07:08:37.245475",
     "exception": false,
     "start_time": "2021-10-11T07:08:37.164854",
     "status": "completed"
    },
    "tags": []
   },
   "outputs": [
    {
     "data": {
      "text/plain": [
       "Parameter containing:\n",
       "tensor([[ 0.0434,  0.0947, -0.0569,  0.0032, -0.0840,  0.0953, -0.0479, -0.1396,\n",
       "          0.0098, -0.0924, -0.0797,  0.0531, -0.1087,  0.0687,  0.2002, -0.0341,\n",
       "          0.0805, -0.0782, -0.0261, -0.1066, -0.1150,  0.0507,  0.0735,  0.0536,\n",
       "         -0.1103, -0.1231,  0.1745, -0.0417,  0.1407, -0.1268, -0.0963,  0.0303,\n",
       "         -0.1270, -0.0865, -0.1886, -0.1912,  0.1035, -0.1495, -0.1231,  0.2101,\n",
       "          0.1191,  0.0395, -0.2132,  0.1743, -0.0467, -0.0660,  0.1550,  0.0701,\n",
       "         -0.1223,  0.0826, -0.2138, -0.1809, -0.1040,  0.0243, -0.1861, -0.0538,\n",
       "          0.1841, -0.1273,  0.1478, -0.1235, -0.0475, -0.1719,  0.1976, -0.1000,\n",
       "         -0.1980, -0.0626,  0.0335,  0.0212,  0.1089,  0.0428,  0.0595, -0.0980,\n",
       "          0.1670, -0.1963,  0.1273,  0.1525,  0.2070, -0.1513, -0.0638, -0.1432,\n",
       "         -0.1969,  0.0669,  0.2047, -0.1073, -0.1918, -0.2066, -0.1359, -0.0852,\n",
       "         -0.0656,  0.0079, -0.1068, -0.1299,  0.1127,  0.0555,  0.0014, -0.1480,\n",
       "          0.0785,  0.0605, -0.0081, -0.0463,  0.1576,  0.0623, -0.1147,  0.0631,\n",
       "         -0.0916, -0.1248, -0.0623,  0.0039,  0.1530, -0.0295,  0.1146,  0.2083,\n",
       "         -0.0361,  0.0371, -0.0731, -0.1891,  0.2073,  0.0123,  0.1618,  0.0542,\n",
       "          0.1158,  0.1299,  0.1865,  0.0822,  0.1312, -0.1975,  0.1938, -0.1592]],\n",
       "       requires_grad=True)"
      ]
     },
     "execution_count": 9,
     "metadata": {},
     "output_type": "execute_result"
    }
   ],
   "source": [
    "torch.nn.init.xavier_uniform_(linear1.weight)\n",
    "torch.nn.init.xavier_uniform_(linear2.weight)\n",
    "torch.nn.init.xavier_uniform_(linear3.weight)\n",
    "torch.nn.init.xavier_uniform_(linear4.weight)"
   ]
  },
  {
   "cell_type": "code",
   "execution_count": 10,
   "id": "06b861f9",
   "metadata": {
    "execution": {
     "iopub.execute_input": "2021-10-11T07:08:37.285421Z",
     "iopub.status.busy": "2021-10-11T07:08:37.283781Z",
     "iopub.status.idle": "2021-10-11T07:08:37.289835Z",
     "shell.execute_reply": "2021-10-11T07:08:37.289145Z",
     "shell.execute_reply.started": "2021-10-11T07:01:32.860481Z"
    },
    "papermill": {
     "duration": 0.028003,
     "end_time": "2021-10-11T07:08:37.289971",
     "exception": false,
     "start_time": "2021-10-11T07:08:37.261968",
     "status": "completed"
    },
    "tags": []
   },
   "outputs": [],
   "source": [
    "model=torch.nn.Sequential(linear1,relu,dropout,linear2,relu,dropout,linear3,relu,dropout,linear4).to(device)\n",
    "optimizer = torch.optim.Adam(params=model.parameters(), lr=0.001)\n",
    "loss=torch.nn.MSELoss().to(device)"
   ]
  },
  {
   "cell_type": "code",
   "execution_count": 11,
   "id": "7add735a",
   "metadata": {
    "execution": {
     "iopub.execute_input": "2021-10-11T07:08:37.328264Z",
     "iopub.status.busy": "2021-10-11T07:08:37.325693Z",
     "iopub.status.idle": "2021-10-11T07:09:37.864154Z",
     "shell.execute_reply": "2021-10-11T07:09:37.864714Z",
     "shell.execute_reply.started": "2021-10-11T07:01:43.343376Z"
    },
    "papermill": {
     "duration": 60.560007,
     "end_time": "2021-10-11T07:09:37.864956",
     "exception": false,
     "start_time": "2021-10-11T07:08:37.304949",
     "status": "completed"
    },
    "tags": []
   },
   "outputs": [
    {
     "name": "stdout",
     "output_type": "stream",
     "text": [
      "0 1016.7341918945312\n",
      "100 36.381752014160156\n",
      "200 18.1806640625\n",
      "300 12.773265838623047\n",
      "400 9.5596284866333\n",
      "500 8.536458015441895\n",
      "600 7.804405212402344\n",
      "700 7.123076915740967\n",
      "800 6.460417747497559\n",
      "900 6.5486226081848145\n"
     ]
    }
   ],
   "source": [
    "model.train()\n",
    "for epoch in range(1000):\n",
    "  optimizer.zero_grad()\n",
    "  h=model(x.to(device))\n",
    "  cost=loss(h,y.unsqueeze(1).to(device))\n",
    "  cost.backward()\n",
    "  optimizer.step()\n",
    "  if epoch%100==0:\n",
    "    print(epoch,cost.item())"
   ]
  },
  {
   "cell_type": "code",
   "execution_count": 12,
   "id": "c090cfd3",
   "metadata": {
    "execution": {
     "iopub.execute_input": "2021-10-11T07:09:37.909950Z",
     "iopub.status.busy": "2021-10-11T07:09:37.908796Z",
     "iopub.status.idle": "2021-10-11T07:09:37.918063Z",
     "shell.execute_reply": "2021-10-11T07:09:37.917321Z",
     "shell.execute_reply.started": "2021-10-11T07:01:50.554087Z"
    },
    "papermill": {
     "duration": 0.032649,
     "end_time": "2021-10-11T07:09:37.918249",
     "exception": false,
     "start_time": "2021-10-11T07:09:37.885600",
     "status": "completed"
    },
    "tags": []
   },
   "outputs": [],
   "source": [
    "pred=list()\n",
    "\n",
    "with torch.no_grad():\n",
    "  model.eval()\n",
    "  y_test=model(test.to(device))\n",
    "  a,b=torch.max(y_test,dim=1)\n",
    "  pred.extend(a.tolist())"
   ]
  },
  {
   "cell_type": "code",
   "execution_count": 13,
   "id": "7a17ceee",
   "metadata": {
    "execution": {
     "iopub.execute_input": "2021-10-11T07:09:37.962958Z",
     "iopub.status.busy": "2021-10-11T07:09:37.961924Z",
     "iopub.status.idle": "2021-10-11T07:09:37.970476Z",
     "shell.execute_reply": "2021-10-11T07:09:37.971014Z",
     "shell.execute_reply.started": "2021-10-11T07:02:10.766106Z"
    },
    "papermill": {
     "duration": 0.032557,
     "end_time": "2021-10-11T07:09:37.971224",
     "exception": false,
     "start_time": "2021-10-11T07:09:37.938667",
     "status": "completed"
    },
    "tags": []
   },
   "outputs": [
    {
     "data": {
      "text/html": [
       "<div>\n",
       "<style scoped>\n",
       "    .dataframe tbody tr th:only-of-type {\n",
       "        vertical-align: middle;\n",
       "    }\n",
       "\n",
       "    .dataframe tbody tr th {\n",
       "        vertical-align: top;\n",
       "    }\n",
       "\n",
       "    .dataframe thead th {\n",
       "        text-align: right;\n",
       "    }\n",
       "</style>\n",
       "<table border=\"1\" class=\"dataframe\">\n",
       "  <thead>\n",
       "    <tr style=\"text-align: right;\">\n",
       "      <th></th>\n",
       "      <th>ID</th>\n",
       "      <th>TARGET</th>\n",
       "    </tr>\n",
       "  </thead>\n",
       "  <tbody>\n",
       "    <tr>\n",
       "      <th>0</th>\n",
       "      <td>0</td>\n",
       "      <td>0</td>\n",
       "    </tr>\n",
       "    <tr>\n",
       "      <th>1</th>\n",
       "      <td>1</td>\n",
       "      <td>0</td>\n",
       "    </tr>\n",
       "    <tr>\n",
       "      <th>2</th>\n",
       "      <td>2</td>\n",
       "      <td>0</td>\n",
       "    </tr>\n",
       "    <tr>\n",
       "      <th>3</th>\n",
       "      <td>3</td>\n",
       "      <td>0</td>\n",
       "    </tr>\n",
       "    <tr>\n",
       "      <th>4</th>\n",
       "      <td>4</td>\n",
       "      <td>0</td>\n",
       "    </tr>\n",
       "    <tr>\n",
       "      <th>...</th>\n",
       "      <td>...</td>\n",
       "      <td>...</td>\n",
       "    </tr>\n",
       "    <tr>\n",
       "      <th>2476</th>\n",
       "      <td>2476</td>\n",
       "      <td>0</td>\n",
       "    </tr>\n",
       "    <tr>\n",
       "      <th>2477</th>\n",
       "      <td>2477</td>\n",
       "      <td>0</td>\n",
       "    </tr>\n",
       "    <tr>\n",
       "      <th>2478</th>\n",
       "      <td>2478</td>\n",
       "      <td>0</td>\n",
       "    </tr>\n",
       "    <tr>\n",
       "      <th>2479</th>\n",
       "      <td>2479</td>\n",
       "      <td>0</td>\n",
       "    </tr>\n",
       "    <tr>\n",
       "      <th>2480</th>\n",
       "      <td>2480</td>\n",
       "      <td>0</td>\n",
       "    </tr>\n",
       "  </tbody>\n",
       "</table>\n",
       "<p>2481 rows × 2 columns</p>\n",
       "</div>"
      ],
      "text/plain": [
       "        ID  TARGET\n",
       "0        0       0\n",
       "1        1       0\n",
       "2        2       0\n",
       "3        3       0\n",
       "4        4       0\n",
       "...    ...     ...\n",
       "2476  2476       0\n",
       "2477  2477       0\n",
       "2478  2478       0\n",
       "2479  2479       0\n",
       "2480  2480       0\n",
       "\n",
       "[2481 rows x 2 columns]"
      ]
     },
     "execution_count": 13,
     "metadata": {},
     "output_type": "execute_result"
    }
   ],
   "source": [
    "submit"
   ]
  },
  {
   "cell_type": "code",
   "execution_count": null,
   "id": "6908f5f6",
   "metadata": {
    "papermill": {
     "duration": 0.017964,
     "end_time": "2021-10-11T07:09:38.007783",
     "exception": false,
     "start_time": "2021-10-11T07:09:37.989819",
     "status": "completed"
    },
    "tags": []
   },
   "outputs": [],
   "source": []
  },
  {
   "cell_type": "code",
   "execution_count": 14,
   "id": "fb848238",
   "metadata": {
    "execution": {
     "iopub.execute_input": "2021-10-11T07:09:38.048363Z",
     "iopub.status.busy": "2021-10-11T07:09:38.047384Z",
     "iopub.status.idle": "2021-10-11T07:09:38.066117Z",
     "shell.execute_reply": "2021-10-11T07:09:38.065526Z",
     "shell.execute_reply.started": "2021-10-11T07:02:08.972912Z"
    },
    "papermill": {
     "duration": 0.04017,
     "end_time": "2021-10-11T07:09:38.066287",
     "exception": false,
     "start_time": "2021-10-11T07:09:38.026117",
     "status": "completed"
    },
    "tags": []
   },
   "outputs": [],
   "source": [
    "submit[\"TARGET\"]=pred\n",
    "submit.to_csv(\"submit.csv\",index=False)"
   ]
  },
  {
   "cell_type": "code",
   "execution_count": null,
   "id": "b988c8ae",
   "metadata": {
    "papermill": {
     "duration": 0.018111,
     "end_time": "2021-10-11T07:09:38.103519",
     "exception": false,
     "start_time": "2021-10-11T07:09:38.085408",
     "status": "completed"
    },
    "tags": []
   },
   "outputs": [],
   "source": []
  }
 ],
 "metadata": {
  "kernelspec": {
   "display_name": "Python 3",
   "language": "python",
   "name": "python3"
  },
  "language_info": {
   "codemirror_mode": {
    "name": "ipython",
    "version": 3
   },
   "file_extension": ".py",
   "mimetype": "text/x-python",
   "name": "python",
   "nbconvert_exporter": "python",
   "pygments_lexer": "ipython3",
   "version": "3.7.10"
  },
  "papermill": {
   "default_parameters": {},
   "duration": 73.920872,
   "end_time": "2021-10-11T07:09:39.762710",
   "environment_variables": {},
   "exception": null,
   "input_path": "__notebook__.ipynb",
   "output_path": "__notebook__.ipynb",
   "parameters": {},
   "start_time": "2021-10-11T07:08:25.841838",
   "version": "2.3.3"
  }
 },
 "nbformat": 4,
 "nbformat_minor": 5
}
