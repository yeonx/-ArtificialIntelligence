{
  "nbformat": 4,
  "nbformat_minor": 0,
  "metadata": {
    "colab": {
      "name": "[AI]당뇨병예측.ipynb",
      "provenance": []
    },
    "kernelspec": {
      "name": "python3",
      "display_name": "Python 3"
    },
    "language_info": {
      "name": "python"
    }
  },
  "cells": [
    {
      "cell_type": "code",
      "metadata": {
        "colab": {
          "base_uri": "https://localhost:8080/"
        },
        "id": "Ek55rXXisWng",
        "outputId": "bf97ae0b-bb71-4414-fbac-f975173a0d15"
      },
      "source": [
        "!pip install kaggle==1.5.6\n",
        "!mkdir -p ~/.kaggle\n",
        "!cp /content/drive/MyDrive/kaggle.json ~/.kaggle\n",
        "!chmod 600 ~/.kaggle/kaggle.json"
      ],
      "execution_count": 1,
      "outputs": [
        {
          "output_type": "stream",
          "name": "stdout",
          "text": [
            "Collecting kaggle==1.5.6\n",
            "  Downloading kaggle-1.5.6.tar.gz (58 kB)\n",
            "\u001b[?25l\r\u001b[K     |█████▋                          | 10 kB 25.1 MB/s eta 0:00:01\r\u001b[K     |███████████▎                    | 20 kB 29.7 MB/s eta 0:00:01\r\u001b[K     |█████████████████               | 30 kB 13.6 MB/s eta 0:00:01\r\u001b[K     |██████████████████████▌         | 40 kB 10.6 MB/s eta 0:00:01\r\u001b[K     |████████████████████████████▏   | 51 kB 5.4 MB/s eta 0:00:01\r\u001b[K     |████████████████████████████████| 58 kB 3.2 MB/s \n",
            "\u001b[?25hRequirement already satisfied: urllib3<1.25,>=1.21.1 in /usr/local/lib/python3.7/dist-packages (from kaggle==1.5.6) (1.24.3)\n",
            "Requirement already satisfied: six>=1.10 in /usr/local/lib/python3.7/dist-packages (from kaggle==1.5.6) (1.15.0)\n",
            "Requirement already satisfied: certifi in /usr/local/lib/python3.7/dist-packages (from kaggle==1.5.6) (2021.5.30)\n",
            "Requirement already satisfied: python-dateutil in /usr/local/lib/python3.7/dist-packages (from kaggle==1.5.6) (2.8.2)\n",
            "Requirement already satisfied: requests in /usr/local/lib/python3.7/dist-packages (from kaggle==1.5.6) (2.23.0)\n",
            "Requirement already satisfied: tqdm in /usr/local/lib/python3.7/dist-packages (from kaggle==1.5.6) (4.62.3)\n",
            "Requirement already satisfied: python-slugify in /usr/local/lib/python3.7/dist-packages (from kaggle==1.5.6) (5.0.2)\n",
            "Requirement already satisfied: text-unidecode>=1.3 in /usr/local/lib/python3.7/dist-packages (from python-slugify->kaggle==1.5.6) (1.3)\n",
            "Requirement already satisfied: idna<3,>=2.5 in /usr/local/lib/python3.7/dist-packages (from requests->kaggle==1.5.6) (2.10)\n",
            "Requirement already satisfied: chardet<4,>=3.0.2 in /usr/local/lib/python3.7/dist-packages (from requests->kaggle==1.5.6) (3.0.4)\n",
            "Building wheels for collected packages: kaggle\n",
            "  Building wheel for kaggle (setup.py) ... \u001b[?25l\u001b[?25hdone\n",
            "  Created wheel for kaggle: filename=kaggle-1.5.6-py3-none-any.whl size=72857 sha256=cf4e0bd7b30463425c8da3f46e700c8d10ac12be6f3409839f5ba3545fb00d72\n",
            "  Stored in directory: /root/.cache/pip/wheels/aa/e7/e7/eb3c3d514c33294d77ddd5a856bdd58dc9c1fabbed59a02a2b\n",
            "Successfully built kaggle\n",
            "Installing collected packages: kaggle\n",
            "  Attempting uninstall: kaggle\n",
            "    Found existing installation: kaggle 1.5.12\n",
            "    Uninstalling kaggle-1.5.12:\n",
            "      Successfully uninstalled kaggle-1.5.12\n",
            "Successfully installed kaggle-1.5.6\n"
          ]
        }
      ]
    },
    {
      "cell_type": "code",
      "metadata": {
        "colab": {
          "base_uri": "https://localhost:8080/"
        },
        "id": "_LTBacH1szHZ",
        "outputId": "2c33eb4c-99c1-4e71-f144-9516a6adb55b"
      },
      "source": [
        "!kaggle competitions download -c 2021-ai-w4-p1"
      ],
      "execution_count": 2,
      "outputs": [
        {
          "output_type": "stream",
          "name": "stdout",
          "text": [
            "Downloading 2021-ai-w4-p1.zip to /content\n",
            "\r  0% 0.00/9.97k [00:00<?, ?B/s]\n",
            "\r100% 9.97k/9.97k [00:00<00:00, 10.3MB/s]\n"
          ]
        }
      ]
    },
    {
      "cell_type": "code",
      "metadata": {
        "colab": {
          "base_uri": "https://localhost:8080/"
        },
        "id": "8EDmRkGhs42Z",
        "outputId": "adb275a2-454b-4c1a-92fe-9d3fe213154d"
      },
      "source": [
        "!unzip 2021-ai-w4-p1.zip"
      ],
      "execution_count": 3,
      "outputs": [
        {
          "output_type": "stream",
          "name": "stdout",
          "text": [
            "Archive:  2021-ai-w4-p1.zip\n",
            "  inflating: submit.csv              \n",
            "  inflating: test.csv                \n",
            "  inflating: train.csv               \n"
          ]
        }
      ]
    },
    {
      "cell_type": "code",
      "metadata": {
        "id": "K50WpN-dtGPx"
      },
      "source": [
        "import pandas as pd\n",
        "import numpy as np\n",
        "\n",
        "train=pd.read_csv(\"train.csv\")\n",
        "test=pd.read_csv(\"test.csv\")\n",
        "submit=pd.read_csv(\"submit.csv\")"
      ],
      "execution_count": 78,
      "outputs": []
    },
    {
      "cell_type": "code",
      "metadata": {
        "id": "_Pmlnk5Ftl1l"
      },
      "source": [
        "x=train.drop([\"Diabetes\"],axis=1)\n",
        "y=train[\"Diabetes\"]"
      ],
      "execution_count": 79,
      "outputs": []
    },
    {
      "cell_type": "code",
      "metadata": {
        "id": "JYJB7heVtvIi"
      },
      "source": [
        " from sklearn.preprocessing import StandardScaler\n",
        "\n",
        "transformer = StandardScaler().fit(x)\n",
        "x_std=transformer.transform(x)\n",
        "test_std=transformer.transform(test)"
      ],
      "execution_count": 80,
      "outputs": []
    },
    {
      "cell_type": "code",
      "metadata": {
        "id": "_lum2bwWuBUU"
      },
      "source": [
        "import torch\n",
        "\n",
        "seed=777\n",
        "\n",
        "torch.manual_seed(seed)\n",
        "device='cuda' if torch.cuda.is_available() else 'cpu'\n",
        "\n",
        "if device=='cuda':\n",
        "  torch.cuda.manual_seed_all(seed)"
      ],
      "execution_count": 81,
      "outputs": []
    },
    {
      "cell_type": "code",
      "metadata": {
        "id": "0dwDl8zduuWZ"
      },
      "source": [
        "x=np.array(x_std)\n",
        "y=np.array(y)\n",
        "test=np.array(test_std)\n",
        "\n",
        "x=torch.FloatTensor(x)\n",
        "y=torch.LongTensor(y)\n",
        "test=torch.FloatTensor(test)"
      ],
      "execution_count": 82,
      "outputs": []
    },
    {
      "cell_type": "code",
      "metadata": {
        "id": "Fq359SrZu8nn"
      },
      "source": [
        "linear1=torch.nn.Linear(8,32)\n",
        "linear2=torch.nn.Linear(32,32)\n",
        "linear3=torch.nn.Linear(32,16)\n",
        "linear4=torch.nn.Linear(16,2)\n",
        "\n",
        "relu=torch.nn.ReLU()\n",
        "\n",
        "dropout=torch.nn.Dropout(p=0.1)"
      ],
      "execution_count": 83,
      "outputs": []
    },
    {
      "cell_type": "code",
      "metadata": {
        "colab": {
          "base_uri": "https://localhost:8080/"
        },
        "id": "Y0uap1nKw6VS",
        "outputId": "26bba9d7-27c9-4520-f49d-a664d1cc77ab"
      },
      "source": [
        "torch.nn.init.xavier_uniform_(linear1.weight)\n",
        "torch.nn.init.xavier_uniform_(linear2.weight)\n",
        "torch.nn.init.xavier_uniform_(linear3.weight)\n",
        "torch.nn.init.xavier_uniform_(linear4.weight)"
      ],
      "execution_count": 84,
      "outputs": [
        {
          "output_type": "execute_result",
          "data": {
            "text/plain": [
              "Parameter containing:\n",
              "tensor([[-0.5360, -0.3451, -0.2453, -0.2763,  0.2040,  0.3958, -0.2544, -0.2888,\n",
              "          0.3018, -0.1619, -0.3989, -0.3710,  0.4994, -0.4863, -0.1996,  0.0737],\n",
              "        [ 0.4004, -0.2053,  0.5332,  0.0091,  0.1631,  0.5424,  0.5324, -0.1562,\n",
              "         -0.3444,  0.1014,  0.4269,  0.5713,  0.2763, -0.1731,  0.0921,  0.4856]],\n",
              "       requires_grad=True)"
            ]
          },
          "metadata": {},
          "execution_count": 84
        }
      ]
    },
    {
      "cell_type": "code",
      "metadata": {
        "id": "Hx5gJ7AovY6j"
      },
      "source": [
        "model=torch.nn.Sequential(linear1,relu,dropout,linear2,relu,dropout,linear3,relu,dropout,linear4).to(device)\n",
        "optimizer = torch.optim.Adam(params= model.parameters(), lr=0.0001)\n",
        "loss=torch.nn.CrossEntropyLoss().to(device)"
      ],
      "execution_count": 85,
      "outputs": []
    },
    {
      "cell_type": "code",
      "metadata": {
        "colab": {
          "base_uri": "https://localhost:8080/"
        },
        "id": "AYmp2Vr0vaEr",
        "outputId": "cd9560ad-a553-428d-d6fd-6071cf283dad"
      },
      "source": [
        "model.train()\n",
        "for stop in range(10000):\n",
        "  optimizer.zero_grad()\n",
        "  h=model(x.to(device))\n",
        "  cost=loss(h,y.to(device))\n",
        "  cost.backward()\n",
        "  optimizer.step()\n",
        "  if stop%1000==0:\n",
        "    print(stop,cost.item())"
      ],
      "execution_count": 86,
      "outputs": [
        {
          "output_type": "stream",
          "name": "stdout",
          "text": [
            "0 0.9461566209793091\n",
            "1000 0.45437660813331604\n",
            "2000 0.4058244228363037\n",
            "3000 0.3790278732776642\n",
            "4000 0.3450919985771179\n",
            "5000 0.3215785026550293\n",
            "6000 0.3042454123497009\n",
            "7000 0.2553637623786926\n",
            "8000 0.26900628209114075\n",
            "9000 0.2468721717596054\n"
          ]
        }
      ]
    },
    {
      "cell_type": "code",
      "metadata": {
        "id": "wV828Ce9wlNv"
      },
      "source": [
        "pred=list()\n",
        "with torch.no_grad():\n",
        "  model.eval()\n",
        "  test_y=model(test.to(device))\n",
        "  a,b=torch.max(test_y,dim=1)\n",
        "  pred.extend(b.tolist())"
      ],
      "execution_count": 87,
      "outputs": []
    },
    {
      "cell_type": "code",
      "metadata": {
        "id": "aJ36nXNAxluD"
      },
      "source": [
        "submit[\"Diabetes\"]=pred\n",
        "submit.to_csv(\"submit.csv\",index=False)"
      ],
      "execution_count": 88,
      "outputs": []
    },
    {
      "cell_type": "code",
      "metadata": {
        "colab": {
          "base_uri": "https://localhost:8080/",
          "height": 420
        },
        "id": "LCsRxGeIxuhR",
        "outputId": "befc0e4a-b7aa-46d7-b588-5e54ac4f716f"
      },
      "source": [
        "submit"
      ],
      "execution_count": 89,
      "outputs": [
        {
          "output_type": "execute_result",
          "data": {
            "text/html": [
              "<div>\n",
              "<style scoped>\n",
              "    .dataframe tbody tr th:only-of-type {\n",
              "        vertical-align: middle;\n",
              "    }\n",
              "\n",
              "    .dataframe tbody tr th {\n",
              "        vertical-align: top;\n",
              "    }\n",
              "\n",
              "    .dataframe thead th {\n",
              "        text-align: right;\n",
              "    }\n",
              "</style>\n",
              "<table border=\"1\" class=\"dataframe\">\n",
              "  <thead>\n",
              "    <tr style=\"text-align: right;\">\n",
              "      <th></th>\n",
              "      <th>ID</th>\n",
              "      <th>Diabetes</th>\n",
              "    </tr>\n",
              "  </thead>\n",
              "  <tbody>\n",
              "    <tr>\n",
              "      <th>0</th>\n",
              "      <td>0</td>\n",
              "      <td>0</td>\n",
              "    </tr>\n",
              "    <tr>\n",
              "      <th>1</th>\n",
              "      <td>1</td>\n",
              "      <td>0</td>\n",
              "    </tr>\n",
              "    <tr>\n",
              "      <th>2</th>\n",
              "      <td>2</td>\n",
              "      <td>0</td>\n",
              "    </tr>\n",
              "    <tr>\n",
              "      <th>3</th>\n",
              "      <td>3</td>\n",
              "      <td>0</td>\n",
              "    </tr>\n",
              "    <tr>\n",
              "      <th>4</th>\n",
              "      <td>4</td>\n",
              "      <td>0</td>\n",
              "    </tr>\n",
              "    <tr>\n",
              "      <th>...</th>\n",
              "      <td>...</td>\n",
              "      <td>...</td>\n",
              "    </tr>\n",
              "    <tr>\n",
              "      <th>226</th>\n",
              "      <td>226</td>\n",
              "      <td>0</td>\n",
              "    </tr>\n",
              "    <tr>\n",
              "      <th>227</th>\n",
              "      <td>227</td>\n",
              "      <td>0</td>\n",
              "    </tr>\n",
              "    <tr>\n",
              "      <th>228</th>\n",
              "      <td>228</td>\n",
              "      <td>0</td>\n",
              "    </tr>\n",
              "    <tr>\n",
              "      <th>229</th>\n",
              "      <td>229</td>\n",
              "      <td>0</td>\n",
              "    </tr>\n",
              "    <tr>\n",
              "      <th>230</th>\n",
              "      <td>230</td>\n",
              "      <td>0</td>\n",
              "    </tr>\n",
              "  </tbody>\n",
              "</table>\n",
              "<p>231 rows × 2 columns</p>\n",
              "</div>"
            ],
            "text/plain": [
              "      ID  Diabetes\n",
              "0      0         0\n",
              "1      1         0\n",
              "2      2         0\n",
              "3      3         0\n",
              "4      4         0\n",
              "..   ...       ...\n",
              "226  226         0\n",
              "227  227         0\n",
              "228  228         0\n",
              "229  229         0\n",
              "230  230         0\n",
              "\n",
              "[231 rows x 2 columns]"
            ]
          },
          "metadata": {},
          "execution_count": 89
        }
      ]
    },
    {
      "cell_type": "code",
      "metadata": {
        "colab": {
          "base_uri": "https://localhost:8080/"
        },
        "id": "YHKzIn0LxvfF",
        "outputId": "fbb9211b-7bb5-4d3e-ab3e-c21805bc99ea"
      },
      "source": [
        "!kaggle competitions submit -c 2021-ai-w4-p1 -f submit.csv -m \"Message\""
      ],
      "execution_count": 90,
      "outputs": [
        {
          "output_type": "stream",
          "name": "stdout",
          "text": [
            "Warning: Looks like you're using an outdated API Version, please consider updating (server 1.5.12 / client 1.5.6)\n",
            "100% 1.26k/1.26k [00:00<00:00, 7.25kB/s]\n",
            "Successfully submitted to 당뇨병 예측"
          ]
        }
      ]
    },
    {
      "cell_type": "code",
      "metadata": {
        "id": "Drcw5_u1yO2z"
      },
      "source": [
        ""
      ],
      "execution_count": 68,
      "outputs": []
    }
  ]
}