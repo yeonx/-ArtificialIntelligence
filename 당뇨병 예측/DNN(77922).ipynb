{
  "nbformat": 4,
  "nbformat_minor": 0,
  "metadata": {
    "colab": {
      "name": "[AI]당뇨병예측.ipynb",
      "provenance": []
    },
    "kernelspec": {
      "name": "python3",
      "display_name": "Python 3"
    },
    "language_info": {
      "name": "python"
    }
  },
  "cells": [
    {
      "cell_type": "code",
      "metadata": {
        "colab": {
          "base_uri": "https://localhost:8080/"
        },
        "id": "Ek55rXXisWng",
        "outputId": "0bcb8555-5e2d-4f67-872b-b17391fb1dd2"
      },
      "source": [
        "!pip install kaggle==1.5.6\n",
        "!mkdir -p ~/.kaggle\n",
        "!cp /content/drive/MyDrive/kaggle.json ~/.kaggle\n",
        "!chmod 600 ~/.kaggle/kaggle.json"
      ],
      "execution_count": 17,
      "outputs": [
        {
          "output_type": "stream",
          "name": "stdout",
          "text": [
            "Requirement already satisfied: kaggle==1.5.6 in /usr/local/lib/python3.7/dist-packages (1.5.6)\n",
            "Requirement already satisfied: six>=1.10 in /usr/local/lib/python3.7/dist-packages (from kaggle==1.5.6) (1.15.0)\n",
            "Requirement already satisfied: tqdm in /usr/local/lib/python3.7/dist-packages (from kaggle==1.5.6) (4.62.3)\n",
            "Requirement already satisfied: python-dateutil in /usr/local/lib/python3.7/dist-packages (from kaggle==1.5.6) (2.8.2)\n",
            "Requirement already satisfied: certifi in /usr/local/lib/python3.7/dist-packages (from kaggle==1.5.6) (2021.5.30)\n",
            "Requirement already satisfied: requests in /usr/local/lib/python3.7/dist-packages (from kaggle==1.5.6) (2.23.0)\n",
            "Requirement already satisfied: python-slugify in /usr/local/lib/python3.7/dist-packages (from kaggle==1.5.6) (5.0.2)\n",
            "Requirement already satisfied: urllib3<1.25,>=1.21.1 in /usr/local/lib/python3.7/dist-packages (from kaggle==1.5.6) (1.24.3)\n",
            "Requirement already satisfied: text-unidecode>=1.3 in /usr/local/lib/python3.7/dist-packages (from python-slugify->kaggle==1.5.6) (1.3)\n",
            "Requirement already satisfied: idna<3,>=2.5 in /usr/local/lib/python3.7/dist-packages (from requests->kaggle==1.5.6) (2.10)\n",
            "Requirement already satisfied: chardet<4,>=3.0.2 in /usr/local/lib/python3.7/dist-packages (from requests->kaggle==1.5.6) (3.0.4)\n"
          ]
        }
      ]
    },
    {
      "cell_type": "code",
      "metadata": {
        "colab": {
          "base_uri": "https://localhost:8080/"
        },
        "id": "_LTBacH1szHZ",
        "outputId": "24393b16-6204-4738-924a-633f691dfa1a"
      },
      "source": [
        "!kaggle competitions download -c 2021-ai-w4-p1"
      ],
      "execution_count": 18,
      "outputs": [
        {
          "output_type": "stream",
          "name": "stdout",
          "text": [
            "2021-ai-w4-p1.zip: Skipping, found more recently modified local copy (use --force to force download)\n"
          ]
        }
      ]
    },
    {
      "cell_type": "code",
      "metadata": {
        "colab": {
          "base_uri": "https://localhost:8080/"
        },
        "id": "8EDmRkGhs42Z",
        "outputId": "95d0e7a1-1ba1-450c-a796-039df213a75a"
      },
      "source": [
        "!unzip 2021-ai-w4-p1.zip"
      ],
      "execution_count": 19,
      "outputs": [
        {
          "output_type": "stream",
          "name": "stdout",
          "text": [
            "Archive:  2021-ai-w4-p1.zip\n",
            "replace submit.csv? [y]es, [n]o, [A]ll, [N]one, [r]ename: "
          ]
        }
      ]
    },
    {
      "cell_type": "code",
      "metadata": {
        "id": "K50WpN-dtGPx"
      },
      "source": [
        "import pandas as pd\n",
        "import numpy as np\n",
        "\n",
        "train=pd.read_csv(\"train.csv\")\n",
        "test=pd.read_csv(\"test.csv\")\n",
        "submit=pd.read_csv(\"submit.csv\")"
      ],
      "execution_count": 20,
      "outputs": []
    },
    {
      "cell_type": "code",
      "metadata": {
        "id": "_Pmlnk5Ftl1l"
      },
      "source": [
        "x=train.drop([\"Diabetes\",'Pregnancies', 'SkinThickness'],axis=1)\n",
        "y=train[\"Diabetes\"]\n",
        "test=test.drop(['Pregnancies', 'SkinThickness'],axis=1)"
      ],
      "execution_count": 21,
      "outputs": []
    },
    {
      "cell_type": "code",
      "metadata": {
        "id": "JYJB7heVtvIi"
      },
      "source": [
        " from sklearn.preprocessing import MinMaxScaler\n",
        "\n",
        "transformer = MinMaxScaler().fit(x)\n",
        "x_std=transformer.transform(x)\n",
        "test_std=transformer.transform(test)"
      ],
      "execution_count": 22,
      "outputs": []
    },
    {
      "cell_type": "code",
      "metadata": {
        "id": "_lum2bwWuBUU"
      },
      "source": [
        "import torch\n",
        "\n",
        "seed=777\n",
        "\n",
        "torch.manual_seed(seed)\n",
        "device='cuda' if torch.cuda.is_available() else 'cpu'\n",
        "\n",
        "if device=='cuda':\n",
        "  torch.cuda.manual_seed_all(seed)"
      ],
      "execution_count": 23,
      "outputs": []
    },
    {
      "cell_type": "code",
      "metadata": {
        "id": "0dwDl8zduuWZ"
      },
      "source": [
        "x=np.array(x_std)\n",
        "y=np.array(y)\n",
        "test=np.array(test_std)\n",
        "\n",
        "x=torch.FloatTensor(x)\n",
        "y=torch.LongTensor(y)\n",
        "test=torch.FloatTensor(test)"
      ],
      "execution_count": 24,
      "outputs": []
    },
    {
      "cell_type": "code",
      "metadata": {
        "id": "Fq359SrZu8nn"
      },
      "source": [
        "linear1=torch.nn.Linear(6,32)\n",
        "linear2=torch.nn.Linear(32,32)\n",
        "linear3=torch.nn.Linear(32,16)\n",
        "linear4=torch.nn.Linear(16,2)\n",
        "\n",
        "relu=torch.nn.ReLU()\n",
        "\n",
        "dropout=torch.nn.Dropout(p=0.1)"
      ],
      "execution_count": 25,
      "outputs": []
    },
    {
      "cell_type": "code",
      "metadata": {
        "colab": {
          "base_uri": "https://localhost:8080/"
        },
        "id": "Y0uap1nKw6VS",
        "outputId": "d9182a6e-45fa-4a48-d7cc-aaa2f754edaa"
      },
      "source": [
        "torch.nn.init.xavier_uniform_(linear1.weight)\n",
        "torch.nn.init.xavier_uniform_(linear2.weight)\n",
        "torch.nn.init.xavier_uniform_(linear3.weight)\n",
        "torch.nn.init.xavier_uniform_(linear4.weight)"
      ],
      "execution_count": 26,
      "outputs": [
        {
          "output_type": "execute_result",
          "data": {
            "text/plain": [
              "Parameter containing:\n",
              "tensor([[-0.4760,  0.4223, -0.5434,  0.5320, -0.4806,  0.0748, -0.5100,  0.5033,\n",
              "         -0.0476,  0.0642, -0.5354,  0.5075,  0.0394, -0.4953, -0.0813, -0.3254],\n",
              "        [-0.3587,  0.1029,  0.4550, -0.5662, -0.3328,  0.0869,  0.0989, -0.2617,\n",
              "          0.1658, -0.2632,  0.0279,  0.1195,  0.1574, -0.5574,  0.4846, -0.0268]],\n",
              "       requires_grad=True)"
            ]
          },
          "metadata": {},
          "execution_count": 26
        }
      ]
    },
    {
      "cell_type": "code",
      "metadata": {
        "id": "Hx5gJ7AovY6j"
      },
      "source": [
        "model=torch.nn.Sequential(linear1,relu,dropout,linear2,relu,dropout,linear3,relu,dropout,linear4).to(device)\n",
        "optimizer = torch.optim.Adam(params= model.parameters(), lr=0.001)\n",
        "loss=torch.nn.CrossEntropyLoss().to(device)"
      ],
      "execution_count": 27,
      "outputs": []
    },
    {
      "cell_type": "code",
      "metadata": {
        "colab": {
          "base_uri": "https://localhost:8080/"
        },
        "id": "AYmp2Vr0vaEr",
        "outputId": "e67a90f2-7fcb-40eb-df82-307c420b51fc"
      },
      "source": [
        "model.train()\n",
        "for stop in range(1000):\n",
        "  optimizer.zero_grad()\n",
        "  h=model(x.to(device))\n",
        "  cost=loss(h,y.to(device))\n",
        "  cost.backward()\n",
        "  optimizer.step()\n",
        "  if stop%1000==0:\n",
        "    print(stop,cost.item())"
      ],
      "execution_count": 28,
      "outputs": [
        {
          "output_type": "stream",
          "name": "stdout",
          "text": [
            "0 0.7780413627624512\n"
          ]
        }
      ]
    },
    {
      "cell_type": "code",
      "metadata": {
        "id": "wV828Ce9wlNv"
      },
      "source": [
        "pred=list()\n",
        "with torch.no_grad():\n",
        "  model.eval()\n",
        "  test_y=model(test.to(device))\n",
        "  a,b=torch.max(test_y,dim=1)\n",
        "  pred.extend(b.tolist())"
      ],
      "execution_count": 29,
      "outputs": []
    },
    {
      "cell_type": "code",
      "metadata": {
        "id": "aJ36nXNAxluD"
      },
      "source": [
        "submit[\"Diabetes\"]=pred\n",
        "submit.to_csv(\"submit.csv\",index=False)"
      ],
      "execution_count": 30,
      "outputs": []
    },
    {
      "cell_type": "code",
      "metadata": {
        "colab": {
          "base_uri": "https://localhost:8080/",
          "height": 419
        },
        "id": "LCsRxGeIxuhR",
        "outputId": "6bf89a3f-8771-4ee8-da9d-1fc3b8251669"
      },
      "source": [
        "submit"
      ],
      "execution_count": 31,
      "outputs": [
        {
          "output_type": "execute_result",
          "data": {
            "text/html": [
              "<div>\n",
              "<style scoped>\n",
              "    .dataframe tbody tr th:only-of-type {\n",
              "        vertical-align: middle;\n",
              "    }\n",
              "\n",
              "    .dataframe tbody tr th {\n",
              "        vertical-align: top;\n",
              "    }\n",
              "\n",
              "    .dataframe thead th {\n",
              "        text-align: right;\n",
              "    }\n",
              "</style>\n",
              "<table border=\"1\" class=\"dataframe\">\n",
              "  <thead>\n",
              "    <tr style=\"text-align: right;\">\n",
              "      <th></th>\n",
              "      <th>ID</th>\n",
              "      <th>Diabetes</th>\n",
              "    </tr>\n",
              "  </thead>\n",
              "  <tbody>\n",
              "    <tr>\n",
              "      <th>0</th>\n",
              "      <td>0</td>\n",
              "      <td>0</td>\n",
              "    </tr>\n",
              "    <tr>\n",
              "      <th>1</th>\n",
              "      <td>1</td>\n",
              "      <td>0</td>\n",
              "    </tr>\n",
              "    <tr>\n",
              "      <th>2</th>\n",
              "      <td>2</td>\n",
              "      <td>0</td>\n",
              "    </tr>\n",
              "    <tr>\n",
              "      <th>3</th>\n",
              "      <td>3</td>\n",
              "      <td>0</td>\n",
              "    </tr>\n",
              "    <tr>\n",
              "      <th>4</th>\n",
              "      <td>4</td>\n",
              "      <td>0</td>\n",
              "    </tr>\n",
              "    <tr>\n",
              "      <th>...</th>\n",
              "      <td>...</td>\n",
              "      <td>...</td>\n",
              "    </tr>\n",
              "    <tr>\n",
              "      <th>226</th>\n",
              "      <td>226</td>\n",
              "      <td>0</td>\n",
              "    </tr>\n",
              "    <tr>\n",
              "      <th>227</th>\n",
              "      <td>227</td>\n",
              "      <td>0</td>\n",
              "    </tr>\n",
              "    <tr>\n",
              "      <th>228</th>\n",
              "      <td>228</td>\n",
              "      <td>0</td>\n",
              "    </tr>\n",
              "    <tr>\n",
              "      <th>229</th>\n",
              "      <td>229</td>\n",
              "      <td>0</td>\n",
              "    </tr>\n",
              "    <tr>\n",
              "      <th>230</th>\n",
              "      <td>230</td>\n",
              "      <td>0</td>\n",
              "    </tr>\n",
              "  </tbody>\n",
              "</table>\n",
              "<p>231 rows × 2 columns</p>\n",
              "</div>"
            ],
            "text/plain": [
              "      ID  Diabetes\n",
              "0      0         0\n",
              "1      1         0\n",
              "2      2         0\n",
              "3      3         0\n",
              "4      4         0\n",
              "..   ...       ...\n",
              "226  226         0\n",
              "227  227         0\n",
              "228  228         0\n",
              "229  229         0\n",
              "230  230         0\n",
              "\n",
              "[231 rows x 2 columns]"
            ]
          },
          "metadata": {},
          "execution_count": 31
        }
      ]
    },
    {
      "cell_type": "code",
      "metadata": {
        "colab": {
          "base_uri": "https://localhost:8080/"
        },
        "id": "YHKzIn0LxvfF",
        "outputId": "8c7b68bf-66b1-4fce-b4e2-8a03d8ddbf21"
      },
      "source": [
        "!kaggle competitions submit -c 2021-ai-w4-p1 -f submit.csv -m \"Message\""
      ],
      "execution_count": 32,
      "outputs": [
        {
          "output_type": "stream",
          "name": "stdout",
          "text": [
            "Warning: Looks like you're using an outdated API Version, please consider updating (server 1.5.12 / client 1.5.6)\n",
            "100% 1.26k/1.26k [00:03<00:00, 424B/s]\n",
            "Successfully submitted to 당뇨병 예측"
          ]
        }
      ]
    },
    {
      "cell_type": "code",
      "metadata": {
        "id": "Drcw5_u1yO2z"
      },
      "source": [
        ""
      ],
      "execution_count": 32,
      "outputs": []
    }
  ]
}