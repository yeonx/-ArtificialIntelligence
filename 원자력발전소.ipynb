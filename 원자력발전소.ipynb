{
 "cells": [
  {
   "cell_type": "code",
   "execution_count": 1,
   "id": "b11cfb37",
   "metadata": {
    "_cell_guid": "b1076dfc-b9ad-4769-8c92-a6c4dae69d19",
    "_uuid": "8f2839f25d086af736a60e9eeb907d3b93b6e0e5",
    "execution": {
     "iopub.execute_input": "2021-10-11T06:52:47.093602Z",
     "iopub.status.busy": "2021-10-11T06:52:47.092607Z",
     "iopub.status.idle": "2021-10-11T06:52:47.098796Z",
     "shell.execute_reply": "2021-10-11T06:52:47.099420Z",
     "shell.execute_reply.started": "2021-10-11T06:42:28.406017Z"
    },
    "papermill": {
     "duration": 0.105085,
     "end_time": "2021-10-11T06:52:47.099733",
     "exception": false,
     "start_time": "2021-10-11T06:52:46.994648",
     "status": "completed"
    },
    "tags": []
   },
   "outputs": [
    {
     "name": "stdout",
     "output_type": "stream",
     "text": [
      "/kaggle/input/2021-ai-w6-p1/sample_submission.csv\n",
      "/kaggle/input/2021-ai-w6-p1/pca_test.csv\n",
      "/kaggle/input/2021-ai-w6-p1/pca_train.csv\n",
      "/kaggle/input/2021-ai-w6-p1/train_label.csv\n"
     ]
    }
   ],
   "source": [
    "# This Python 3 environment comes with many helpful analytics libraries installed\n",
    "# It is defined by the kaggle/python Docker image: https://github.com/kaggle/docker-python\n",
    "# For example, here's several helpful packages to load\n",
    "\n",
    "import numpy as np # linear algebra\n",
    "import pandas as pd # data processing, CSV file I/O (e.g. pd.read_csv)\n",
    "\n",
    "# Input data files are available in the read-only \"../input/\" directory\n",
    "# For example, running this (by clicking run or pressing Shift+Enter) will list all files under the input directory\n",
    "\n",
    "import os\n",
    "for dirname, _, filenames in os.walk('/kaggle/input'):\n",
    "    for filename in filenames:\n",
    "        print(os.path.join(dirname, filename))\n",
    "\n",
    "# You can write up to 20GB to the current directory (/kaggle/working/) that gets preserved as output when you create a version using \"Save & Run All\" \n",
    "# You can also write temporary files to /kaggle/temp/, but they won't be saved outside of the current session"
   ]
  },
  {
   "cell_type": "code",
   "execution_count": 2,
   "id": "99bdcd3f",
   "metadata": {
    "execution": {
     "iopub.execute_input": "2021-10-11T06:52:47.126421Z",
     "iopub.status.busy": "2021-10-11T06:52:47.125555Z",
     "iopub.status.idle": "2021-10-11T06:52:52.020878Z",
     "shell.execute_reply": "2021-10-11T06:52:52.020402Z",
     "shell.execute_reply.started": "2021-10-11T06:47:23.811472Z"
    },
    "papermill": {
     "duration": 4.909625,
     "end_time": "2021-10-11T06:52:52.021041",
     "exception": false,
     "start_time": "2021-10-11T06:52:47.111416",
     "status": "completed"
    },
    "tags": []
   },
   "outputs": [],
   "source": [
    "import pandas as pd\n",
    "import numpy as np\n",
    "\n",
    "x=pd.read_csv(\"/kaggle/input/2021-ai-w6-p1/pca_train.csv\")\n",
    "y=pd.read_csv(\"/kaggle/input/2021-ai-w6-p1/train_label.csv\")\n",
    "test=pd.read_csv(\"/kaggle/input/2021-ai-w6-p1/pca_test.csv\")\n",
    "submit=pd.read_csv(\"/kaggle/input/2021-ai-w6-p1/sample_submission.csv\")"
   ]
  },
  {
   "cell_type": "code",
   "execution_count": 3,
   "id": "7e656dd5",
   "metadata": {
    "execution": {
     "iopub.execute_input": "2021-10-11T06:52:52.047396Z",
     "iopub.status.busy": "2021-10-11T06:52:52.046738Z",
     "iopub.status.idle": "2021-10-11T06:52:56.355497Z",
     "shell.execute_reply": "2021-10-11T06:52:56.354586Z",
     "shell.execute_reply.started": "2021-10-11T06:47:27.005696Z"
    },
    "papermill": {
     "duration": 4.32421,
     "end_time": "2021-10-11T06:52:56.355634",
     "exception": false,
     "start_time": "2021-10-11T06:52:52.031424",
     "status": "completed"
    },
    "tags": []
   },
   "outputs": [],
   "source": [
    "import torch\n",
    "seed=777\n",
    "\n",
    "torch.manual_seed(seed)\n",
    "\n",
    "device='cuda' if torch.cuda.is_available() else 'cpu'\n",
    "\n",
    "if device=='cuda':\n",
    "  torch.cuda.manual_seed_all(seed)"
   ]
  },
  {
   "cell_type": "code",
   "execution_count": 4,
   "id": "a886c12c",
   "metadata": {
    "execution": {
     "iopub.execute_input": "2021-10-11T06:52:56.383756Z",
     "iopub.status.busy": "2021-10-11T06:52:56.383045Z",
     "iopub.status.idle": "2021-10-11T06:52:56.387133Z",
     "shell.execute_reply": "2021-10-11T06:52:56.386724Z",
     "shell.execute_reply.started": "2021-10-11T06:47:52.302588Z"
    },
    "papermill": {
     "duration": 0.021342,
     "end_time": "2021-10-11T06:52:56.387241",
     "exception": false,
     "start_time": "2021-10-11T06:52:56.365899",
     "status": "completed"
    },
    "tags": []
   },
   "outputs": [],
   "source": [
    "y=y[\"label\"]"
   ]
  },
  {
   "cell_type": "code",
   "execution_count": 5,
   "id": "4e9a96b6",
   "metadata": {
    "execution": {
     "iopub.execute_input": "2021-10-11T06:52:56.411646Z",
     "iopub.status.busy": "2021-10-11T06:52:56.411034Z",
     "iopub.status.idle": "2021-10-11T06:52:57.417639Z",
     "shell.execute_reply": "2021-10-11T06:52:57.417173Z"
    },
    "papermill": {
     "duration": 1.020518,
     "end_time": "2021-10-11T06:52:57.417763",
     "exception": false,
     "start_time": "2021-10-11T06:52:56.397245",
     "status": "completed"
    },
    "tags": []
   },
   "outputs": [],
   "source": [
    "from sklearn.preprocessing import RobustScaler\n",
    "\n",
    "scaler = RobustScaler()\n",
    "scaler.fit(x)\n",
    "x=scaler.transform(x)\n",
    "test=scaler.transform(test)"
   ]
  },
  {
   "cell_type": "code",
   "execution_count": 6,
   "id": "10947dcc",
   "metadata": {
    "execution": {
     "iopub.execute_input": "2021-10-11T06:52:57.445497Z",
     "iopub.status.busy": "2021-10-11T06:52:57.444380Z",
     "iopub.status.idle": "2021-10-11T06:52:57.519785Z",
     "shell.execute_reply": "2021-10-11T06:52:57.519312Z",
     "shell.execute_reply.started": "2021-10-11T06:47:53.350956Z"
    },
    "papermill": {
     "duration": 0.090498,
     "end_time": "2021-10-11T06:52:57.519916",
     "exception": false,
     "start_time": "2021-10-11T06:52:57.429418",
     "status": "completed"
    },
    "tags": []
   },
   "outputs": [],
   "source": [
    "x=torch.FloatTensor(np.array(x))\n",
    "y=torch.LongTensor(np.array(y))\n",
    "test=torch.FloatTensor(np.array(test))"
   ]
  },
  {
   "cell_type": "code",
   "execution_count": 7,
   "id": "490d2a91",
   "metadata": {
    "execution": {
     "iopub.execute_input": "2021-10-11T06:52:57.546139Z",
     "iopub.status.busy": "2021-10-11T06:52:57.545570Z",
     "iopub.status.idle": "2021-10-11T06:52:57.558884Z",
     "shell.execute_reply": "2021-10-11T06:52:57.558490Z",
     "shell.execute_reply.started": "2021-10-11T06:48:24.950960Z"
    },
    "papermill": {
     "duration": 0.028799,
     "end_time": "2021-10-11T06:52:57.559010",
     "exception": false,
     "start_time": "2021-10-11T06:52:57.530211",
     "status": "completed"
    },
    "tags": []
   },
   "outputs": [],
   "source": [
    "linear1=torch.nn.Linear(256,512)\n",
    "linear2=torch.nn.Linear(512,1024)\n",
    "linear3=torch.nn.Linear(1024,512)\n",
    "linear4=torch.nn.Linear(512,198)\n",
    "\n",
    "relu=torch.nn.ReLU()\n",
    "\n",
    "dropout=torch.nn.Dropout(p=0.1)"
   ]
  },
  {
   "cell_type": "code",
   "execution_count": 8,
   "id": "5c6095ec",
   "metadata": {
    "execution": {
     "iopub.execute_input": "2021-10-11T06:52:57.583602Z",
     "iopub.status.busy": "2021-10-11T06:52:57.582844Z",
     "iopub.status.idle": "2021-10-11T06:52:57.632640Z",
     "shell.execute_reply": "2021-10-11T06:52:57.633058Z",
     "shell.execute_reply.started": "2021-10-11T06:48:25.191227Z"
    },
    "papermill": {
     "duration": 0.063855,
     "end_time": "2021-10-11T06:52:57.633182",
     "exception": false,
     "start_time": "2021-10-11T06:52:57.569327",
     "status": "completed"
    },
    "tags": []
   },
   "outputs": [
    {
     "data": {
      "text/plain": [
       "Parameter containing:\n",
       "tensor([[-0.0139,  0.0101,  0.0797,  ..., -0.0294, -0.0765, -0.0173],\n",
       "        [ 0.0220,  0.0674, -0.0853,  ..., -0.0389, -0.0498, -0.0406],\n",
       "        [-0.0662,  0.0576,  0.0888,  ...,  0.0327, -0.0042,  0.0757],\n",
       "        ...,\n",
       "        [-0.0359, -0.0795,  0.0537,  ...,  0.0035,  0.0360, -0.0258],\n",
       "        [-0.0030, -0.0303,  0.0256,  ..., -0.0699, -0.0785, -0.0285],\n",
       "        [-0.0605, -0.0254, -0.0350,  ..., -0.0361,  0.0375,  0.0328]],\n",
       "       requires_grad=True)"
      ]
     },
     "execution_count": 8,
     "metadata": {},
     "output_type": "execute_result"
    }
   ],
   "source": [
    "torch.nn.init.xavier_uniform_(linear1.weight)\n",
    "torch.nn.init.xavier_uniform_(linear2.weight)\n",
    "torch.nn.init.xavier_uniform_(linear3.weight)\n",
    "torch.nn.init.xavier_uniform_(linear4.weight)"
   ]
  },
  {
   "cell_type": "code",
   "execution_count": 9,
   "id": "ddd3f662",
   "metadata": {
    "execution": {
     "iopub.execute_input": "2021-10-11T06:52:57.662848Z",
     "iopub.status.busy": "2021-10-11T06:52:57.662251Z",
     "iopub.status.idle": "2021-10-11T06:53:02.788647Z",
     "shell.execute_reply": "2021-10-11T06:53:02.788106Z",
     "shell.execute_reply.started": "2021-10-11T06:48:25.446067Z"
    },
    "papermill": {
     "duration": 5.144161,
     "end_time": "2021-10-11T06:53:02.788786",
     "exception": false,
     "start_time": "2021-10-11T06:52:57.644625",
     "status": "completed"
    },
    "tags": []
   },
   "outputs": [],
   "source": [
    "model=torch.nn.Sequential(linear1,relu,dropout,linear2,relu,dropout,linear3,relu,dropout,linear4).to(device)\n",
    "optimizer = torch.optim.Adam(params=model.parameters(), lr=0.001)\n",
    "loss=torch.nn.CrossEntropyLoss().to(device)"
   ]
  },
  {
   "cell_type": "code",
   "execution_count": 10,
   "id": "7d9bc80f",
   "metadata": {
    "execution": {
     "iopub.execute_input": "2021-10-11T06:53:02.817888Z",
     "iopub.status.busy": "2021-10-11T06:53:02.816797Z",
     "iopub.status.idle": "2021-10-11T06:53:43.865338Z",
     "shell.execute_reply": "2021-10-11T06:53:43.864794Z"
    },
    "papermill": {
     "duration": 41.06514,
     "end_time": "2021-10-11T06:53:43.865484",
     "exception": false,
     "start_time": "2021-10-11T06:53:02.800344",
     "status": "completed"
    },
    "tags": []
   },
   "outputs": [
    {
     "name": "stdout",
     "output_type": "stream",
     "text": [
      "0 6.842648506164551\n",
      "10 3.090667724609375\n",
      "20 2.250969886779785\n",
      "30 1.915178656578064\n",
      "40 1.6464240550994873\n",
      "50 1.436258316040039\n",
      "60 1.2810765504837036\n",
      "70 1.1464179754257202\n",
      "80 1.024838924407959\n",
      "90 0.9056775569915771\n",
      "100 0.7969476580619812\n",
      "110 0.6889356970787048\n",
      "120 0.5788769125938416\n",
      "130 0.4918728768825531\n",
      "140 0.4104114770889282\n",
      "150 0.34055042266845703\n",
      "160 0.28665947914123535\n",
      "170 0.2432357519865036\n",
      "180 0.20446455478668213\n",
      "190 0.1775447130203247\n",
      "200 0.1535743623971939\n",
      "210 0.1317545473575592\n",
      "220 0.11990995705127716\n",
      "230 0.10965798050165176\n",
      "240 0.09848568588495255\n",
      "250 0.09067561477422714\n",
      "260 0.08134220540523529\n",
      "270 0.07598709315061569\n",
      "280 0.07430875301361084\n",
      "290 0.06952005624771118\n",
      "300 0.0641164779663086\n",
      "310 0.06134885549545288\n",
      "320 0.06123071908950806\n",
      "330 0.057721227407455444\n",
      "340 0.0517650730907917\n",
      "350 0.050133995711803436\n",
      "360 0.04808633029460907\n",
      "370 0.0463901124894619\n",
      "380 0.04569254070520401\n",
      "390 0.04365114867687225\n",
      "400 0.042057789862155914\n",
      "410 0.04086320102214813\n",
      "420 0.041335586458444595\n",
      "430 0.03730997070670128\n",
      "440 0.03790799900889397\n",
      "450 0.03697364404797554\n",
      "460 0.035537220537662506\n",
      "470 0.03507617861032486\n",
      "480 0.03390415385365486\n",
      "490 0.03354652225971222\n",
      "500 0.033837661147117615\n",
      "510 0.03126244992017746\n",
      "520 0.031129561364650726\n",
      "530 0.02976059727370739\n",
      "540 0.03088214062154293\n",
      "550 0.02859109826385975\n",
      "560 0.029192959889769554\n",
      "570 0.02821299247443676\n",
      "580 0.02751833200454712\n",
      "590 0.028610793873667717\n",
      "600 0.0275080818682909\n",
      "610 0.02807432785630226\n",
      "620 0.025775352492928505\n",
      "630 0.025261571630835533\n",
      "640 0.02634655497968197\n",
      "650 0.02566852979362011\n",
      "660 0.024767715483903885\n",
      "670 0.024253563955426216\n",
      "680 0.024906380102038383\n",
      "690 0.0243205763399601\n",
      "700 0.024202434346079826\n",
      "710 0.022377697750926018\n",
      "720 0.02456168830394745\n",
      "730 0.02284603752195835\n",
      "740 0.022381305694580078\n",
      "750 0.02272355742752552\n",
      "760 0.02136984094977379\n",
      "770 0.02193303033709526\n",
      "780 0.022193001583218575\n",
      "790 0.02131015807390213\n",
      "800 0.021610397845506668\n",
      "810 0.021682651713490486\n",
      "820 0.02176525816321373\n",
      "830 0.021083194762468338\n",
      "840 0.020525967702269554\n",
      "850 0.019782697781920433\n",
      "860 0.020503869280219078\n",
      "870 0.02128741517663002\n",
      "880 0.020676419138908386\n",
      "890 0.02047283761203289\n",
      "900 0.019658012315630913\n",
      "910 0.01890765130519867\n",
      "920 0.018748963251709938\n",
      "930 0.019535521045327187\n",
      "940 0.019387243315577507\n",
      "950 0.01927214115858078\n",
      "960 0.019076868891716003\n",
      "970 0.018683968111872673\n",
      "980 0.018757058307528496\n",
      "990 0.018529800698161125\n"
     ]
    }
   ],
   "source": [
    "model.train()\n",
    "for epoch in range(1000):\n",
    "  optimizer.zero_grad()\n",
    "  h=model(x.to(device))\n",
    "  cost=loss(h,y.to(device))\n",
    "  cost.backward()\n",
    "  optimizer.step()\n",
    "  if epoch%10==0:\n",
    "    print(epoch,cost.item())"
   ]
  },
  {
   "cell_type": "code",
   "execution_count": 11,
   "id": "6f8f36b6",
   "metadata": {
    "execution": {
     "iopub.execute_input": "2021-10-11T06:53:43.947131Z",
     "iopub.status.busy": "2021-10-11T06:53:43.946291Z",
     "iopub.status.idle": "2021-10-11T06:53:43.961433Z",
     "shell.execute_reply": "2021-10-11T06:53:43.960892Z",
     "shell.execute_reply.started": "2021-10-11T06:48:21.857433Z"
    },
    "papermill": {
     "duration": 0.053374,
     "end_time": "2021-10-11T06:53:43.961543",
     "exception": false,
     "start_time": "2021-10-11T06:53:43.908169",
     "status": "completed"
    },
    "tags": []
   },
   "outputs": [],
   "source": [
    "pred=list()\n",
    "\n",
    "with torch.no_grad():\n",
    "  model.eval()\n",
    "  y_test=model(test.to(device))\n",
    "  a,b=torch.max(y_test,dim=1)\n",
    "  pred.extend(b.tolist())"
   ]
  },
  {
   "cell_type": "code",
   "execution_count": 12,
   "id": "8a1206c2",
   "metadata": {
    "execution": {
     "iopub.execute_input": "2021-10-11T06:53:44.043945Z",
     "iopub.status.busy": "2021-10-11T06:53:44.043127Z",
     "iopub.status.idle": "2021-10-11T06:53:44.071255Z",
     "shell.execute_reply": "2021-10-11T06:53:44.070515Z",
     "shell.execute_reply.started": "2021-10-11T06:48:21.859424Z"
    },
    "papermill": {
     "duration": 0.073515,
     "end_time": "2021-10-11T06:53:44.071380",
     "exception": false,
     "start_time": "2021-10-11T06:53:43.997865",
     "status": "completed"
    },
    "tags": []
   },
   "outputs": [],
   "source": [
    "submit[\"label\"]=pred\n",
    "submit.to_csv(\"submit.csv\",index=False)"
   ]
  },
  {
   "cell_type": "code",
   "execution_count": null,
   "id": "943b7d9d",
   "metadata": {
    "papermill": {
     "duration": 0.042784,
     "end_time": "2021-10-11T06:53:44.153891",
     "exception": false,
     "start_time": "2021-10-11T06:53:44.111107",
     "status": "completed"
    },
    "tags": []
   },
   "outputs": [],
   "source": []
  },
  {
   "cell_type": "code",
   "execution_count": null,
   "id": "d164d36d",
   "metadata": {
    "papermill": {
     "duration": 0.037005,
     "end_time": "2021-10-11T06:53:44.229818",
     "exception": false,
     "start_time": "2021-10-11T06:53:44.192813",
     "status": "completed"
    },
    "tags": []
   },
   "outputs": [],
   "source": []
  }
 ],
 "metadata": {
  "kernelspec": {
   "display_name": "Python 3",
   "language": "python",
   "name": "python3"
  },
  "language_info": {
   "codemirror_mode": {
    "name": "ipython",
    "version": 3
   },
   "file_extension": ".py",
   "mimetype": "text/x-python",
   "name": "python",
   "nbconvert_exporter": "python",
   "pygments_lexer": "ipython3",
   "version": "3.7.10"
  },
  "papermill": {
   "default_parameters": {},
   "duration": 65.600872,
   "end_time": "2021-10-11T06:53:46.087372",
   "environment_variables": {},
   "exception": null,
   "input_path": "__notebook__.ipynb",
   "output_path": "__notebook__.ipynb",
   "parameters": {},
   "start_time": "2021-10-11T06:52:40.486500",
   "version": "2.3.3"
  }
 },
 "nbformat": 4,
 "nbformat_minor": 5
}
