{
  "nbformat": 4,
  "nbformat_minor": 0,
  "metadata": {
    "colab": {
      "name": "손글씨.ipynb",
      "provenance": []
    },
    "kernelspec": {
      "name": "python3",
      "display_name": "Python 3"
    },
    "language_info": {
      "name": "python"
    }
  },
  "cells": [
    {
      "cell_type": "code",
      "metadata": {
        "colab": {
          "base_uri": "https://localhost:8080/"
        },
        "id": "7cEGJLi-5k4P",
        "outputId": "526bd51e-52b3-4090-d64e-869ce0d40237"
      },
      "source": [
        "!pip install kaggle==1.5.6\n",
        "!mkdir -p ~/.kaggle\n",
        "!cp /content/drive/MyDrive/kaggle.json ~/.kaggle\n",
        "!chmod 600 ~/.kaggle/kaggle.json"
      ],
      "execution_count": 1,
      "outputs": [
        {
          "output_type": "stream",
          "name": "stdout",
          "text": [
            "Collecting kaggle==1.5.6\n",
            "  Downloading kaggle-1.5.6.tar.gz (58 kB)\n",
            "\u001b[?25l\r\u001b[K     |█████▋                          | 10 kB 28.8 MB/s eta 0:00:01\r\u001b[K     |███████████▎                    | 20 kB 34.4 MB/s eta 0:00:01\r\u001b[K     |█████████████████               | 30 kB 28.1 MB/s eta 0:00:01\r\u001b[K     |██████████████████████▌         | 40 kB 22.4 MB/s eta 0:00:01\r\u001b[K     |████████████████████████████▏   | 51 kB 19.2 MB/s eta 0:00:01\r\u001b[K     |████████████████████████████████| 58 kB 3.6 MB/s \n",
            "\u001b[?25hRequirement already satisfied: urllib3<1.25,>=1.21.1 in /usr/local/lib/python3.7/dist-packages (from kaggle==1.5.6) (1.24.3)\n",
            "Requirement already satisfied: six>=1.10 in /usr/local/lib/python3.7/dist-packages (from kaggle==1.5.6) (1.15.0)\n",
            "Requirement already satisfied: certifi in /usr/local/lib/python3.7/dist-packages (from kaggle==1.5.6) (2021.5.30)\n",
            "Requirement already satisfied: python-dateutil in /usr/local/lib/python3.7/dist-packages (from kaggle==1.5.6) (2.8.2)\n",
            "Requirement already satisfied: requests in /usr/local/lib/python3.7/dist-packages (from kaggle==1.5.6) (2.23.0)\n",
            "Requirement already satisfied: tqdm in /usr/local/lib/python3.7/dist-packages (from kaggle==1.5.6) (4.62.3)\n",
            "Requirement already satisfied: python-slugify in /usr/local/lib/python3.7/dist-packages (from kaggle==1.5.6) (5.0.2)\n",
            "Requirement already satisfied: text-unidecode>=1.3 in /usr/local/lib/python3.7/dist-packages (from python-slugify->kaggle==1.5.6) (1.3)\n",
            "Requirement already satisfied: idna<3,>=2.5 in /usr/local/lib/python3.7/dist-packages (from requests->kaggle==1.5.6) (2.10)\n",
            "Requirement already satisfied: chardet<4,>=3.0.2 in /usr/local/lib/python3.7/dist-packages (from requests->kaggle==1.5.6) (3.0.4)\n",
            "Building wheels for collected packages: kaggle\n",
            "  Building wheel for kaggle (setup.py) ... \u001b[?25l\u001b[?25hdone\n",
            "  Created wheel for kaggle: filename=kaggle-1.5.6-py3-none-any.whl size=72857 sha256=fd15f57607bc5ecae9470a4f91a110b361e033deecce4931cd19459f3a4cbb30\n",
            "  Stored in directory: /root/.cache/pip/wheels/aa/e7/e7/eb3c3d514c33294d77ddd5a856bdd58dc9c1fabbed59a02a2b\n",
            "Successfully built kaggle\n",
            "Installing collected packages: kaggle\n",
            "  Attempting uninstall: kaggle\n",
            "    Found existing installation: kaggle 1.5.12\n",
            "    Uninstalling kaggle-1.5.12:\n",
            "      Successfully uninstalled kaggle-1.5.12\n",
            "Successfully installed kaggle-1.5.6\n"
          ]
        }
      ]
    },
    {
      "cell_type": "code",
      "metadata": {
        "colab": {
          "base_uri": "https://localhost:8080/"
        },
        "id": "Ihd8G7Jk6fQM",
        "outputId": "fa237756-551f-4bd5-e5a1-d42ac6c2f174"
      },
      "source": [
        "!kaggle competitions download -c 2021-ml-midterm-p3"
      ],
      "execution_count": 2,
      "outputs": [
        {
          "output_type": "stream",
          "name": "stdout",
          "text": [
            "Downloading 2021-ml-midterm-p3.zip to /content\n",
            "\r  0% 0.00/68.5k [00:00<?, ?B/s]\n",
            "\r100% 68.5k/68.5k [00:00<00:00, 35.4MB/s]\n"
          ]
        }
      ]
    },
    {
      "cell_type": "code",
      "metadata": {
        "colab": {
          "base_uri": "https://localhost:8080/"
        },
        "id": "nCc0ZYwU6iW4",
        "outputId": "b7b9c2cf-feef-4716-d657-98a3cdb83310"
      },
      "source": [
        "!unzip 2021-ml-midterm-p3.zip"
      ],
      "execution_count": 3,
      "outputs": [
        {
          "output_type": "stream",
          "name": "stdout",
          "text": [
            "Archive:  2021-ml-midterm-p3.zip\n",
            "  inflating: sample_submit.csv       \n",
            "  inflating: test.csv                \n",
            "  inflating: train.csv               \n"
          ]
        }
      ]
    },
    {
      "cell_type": "code",
      "metadata": {
        "id": "uysHqfPQ7CH2"
      },
      "source": [
        "import pandas as pd\n",
        "import numpy as np\n",
        "\n",
        "train=pd.read_csv(\"train.csv\")\n",
        "test=pd.read_csv(\"test.csv\")\n",
        "submit=pd.read_csv(\"sample_submit.csv\")"
      ],
      "execution_count": 5,
      "outputs": []
    },
    {
      "cell_type": "code",
      "metadata": {
        "id": "03FJfGbp7g2K"
      },
      "source": [
        "x=train.drop([\"index\",\"label\"],axis=1)\n",
        "y=train[\"label\"]\n",
        "test=test.drop(\"index\",axis=1)"
      ],
      "execution_count": 9,
      "outputs": []
    },
    {
      "cell_type": "code",
      "metadata": {
        "id": "Na07k2K471Dd"
      },
      "source": [
        "import torch\n",
        "\n",
        "seed=777\n",
        "\n",
        "torch.manual_seed(seed)\n",
        "\n",
        "device='cuda' if torch.cuda.is_available() else 'cpu'\n",
        "\n",
        "if device=='cuda':\n",
        "  torch.cuda.manual_seed_all(seed)"
      ],
      "execution_count": 13,
      "outputs": []
    },
    {
      "cell_type": "code",
      "metadata": {
        "id": "SXTWq1n18BIX"
      },
      "source": [
        "linear1=torch.nn.Linear(64,128)\n",
        "linear2=torch.nn.Linear(128,256)\n",
        "linear3=torch.nn.Linear(256,128)\n",
        "linear4=torch.nn.Linear(128,64)\n",
        "linear5=torch.nn.Linear(64,10)\n",
        "\n",
        "relu=torch.nn.ReLU()\n",
        "\n",
        "dropout=torch.nn.Dropout(p=0.2)"
      ],
      "execution_count": 60,
      "outputs": []
    },
    {
      "cell_type": "code",
      "metadata": {
        "id": "6wnx5ICm8j3M"
      },
      "source": [
        "torch.nn.init.xavier_normal_(linear1.weight)\n",
        "torch.nn.init.xavier_normal_(linear2.weight)\n",
        "torch.nn.init.xavier_normal_(linear3.weight)\n",
        "torch.nn.init.xavier_normal_(linear4.weight)\n",
        "torch.nn.init.xavier_normal_(linear5.weight)\n",
        "\n",
        "\n",
        "model=torch.nn.Sequential(linear1,relu,dropout,linear2,relu,dropout,linear3,relu,dropout,linear4,relu,dropout,linear5).to(device)"
      ],
      "execution_count": 61,
      "outputs": []
    },
    {
      "cell_type": "code",
      "metadata": {
        "id": "sdcw4kme9ElD"
      },
      "source": [
        "optim=torch.optim.Adam(params=model.parameters(),lr=0.001)\n",
        "\n",
        "loss=torch.nn.CrossEntropyLoss().to(device)"
      ],
      "execution_count": 62,
      "outputs": []
    },
    {
      "cell_type": "code",
      "metadata": {
        "id": "anRh3mVY_FCR"
      },
      "source": [
        "from sklearn.preprocessing import StandardScaler\n",
        "\n",
        "scaler = StandardScaler()\n",
        "scaler.fit(x)\n",
        "x_std=scaler.transform(x)\n",
        "test_std=scaler.transform(test)"
      ],
      "execution_count": 63,
      "outputs": []
    },
    {
      "cell_type": "code",
      "metadata": {
        "id": "5hvbAiOc9-ZW"
      },
      "source": [
        "x=torch.FloatTensor(np.array(x_std))\n",
        "y=torch.LongTensor(np.array(y))\n",
        "test=torch.FloatTensor(np.array(test_std))"
      ],
      "execution_count": 64,
      "outputs": []
    },
    {
      "cell_type": "code",
      "metadata": {
        "colab": {
          "base_uri": "https://localhost:8080/"
        },
        "id": "f83ypuDH9fzb",
        "outputId": "0504f886-2199-4231-ea0f-4c20138d1ecb"
      },
      "source": [
        "model.train()\n",
        "\n",
        "for stop in range(600):\n",
        "  optim.zero_grad()\n",
        "\n",
        "  h=model(x.to(device))\n",
        "\n",
        "  cost=loss(h,y.to(device))\n",
        "\n",
        "  cost.backward()\n",
        "\n",
        "  optim.step()\n",
        "\n",
        "  if stop % 100==0:\n",
        "    print(stop,cost.item())"
      ],
      "execution_count": 65,
      "outputs": [
        {
          "output_type": "stream",
          "name": "stdout",
          "text": [
            "0 2.378664016723633\n",
            "100 0.035244811326265335\n",
            "200 0.0105561139062047\n",
            "300 0.0025651275645941496\n",
            "400 0.0012065964983776212\n",
            "500 0.0033589007798582315\n"
          ]
        }
      ]
    },
    {
      "cell_type": "code",
      "metadata": {
        "id": "vwisirMW9sZE"
      },
      "source": [
        "pred=list()\n",
        "\n",
        "with torch.no_grad():\n",
        "  model.eval()\n",
        "  test_y=model(test.to(device))\n",
        "  a,b=torch.max(test_y,dim=1)\n",
        "  pred.extend(b.tolist())"
      ],
      "execution_count": 66,
      "outputs": []
    },
    {
      "cell_type": "code",
      "metadata": {
        "id": "d_cDOPbo-eHs"
      },
      "source": [
        "submit[\"label\"]=pred\n",
        "\n",
        "submit.to_csv(\"submit.csv\",index=False)"
      ],
      "execution_count": 67,
      "outputs": []
    },
    {
      "cell_type": "code",
      "metadata": {
        "colab": {
          "base_uri": "https://localhost:8080/"
        },
        "id": "1spEPmmR-fUv",
        "outputId": "1ec6784d-fba8-4de0-a73f-d565c1dde210"
      },
      "source": [
        "!kaggle competitions submit -c 2021-ml-midterm-p3 -f submit.csv -m \"message\""
      ],
      "execution_count": 68,
      "outputs": [
        {
          "output_type": "stream",
          "name": "stdout",
          "text": [
            "Warning: Looks like you're using an outdated API Version, please consider updating (server 1.5.12 / client 1.5.6)\n",
            "100% 2.26k/2.26k [00:03<00:00, 580B/s]\n",
            "Successfully submitted to 2021.ML.MidTerm.P3"
          ]
        }
      ]
    },
    {
      "cell_type": "code",
      "metadata": {
        "id": "9yA7lxbo-xVd"
      },
      "source": [
        ""
      ],
      "execution_count": 68,
      "outputs": []
    }
  ]
}